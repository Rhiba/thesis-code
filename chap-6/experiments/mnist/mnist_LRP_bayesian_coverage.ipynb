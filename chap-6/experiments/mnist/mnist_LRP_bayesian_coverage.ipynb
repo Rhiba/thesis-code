{
 "cells": [
  {
   "cell_type": "code",
   "execution_count": 2,
   "id": "df76856e",
   "metadata": {},
   "outputs": [],
   "source": [
    "import os\n",
    "import sys\n",
    "sys.path.append('../..')\n",
    "import numpy as np\n",
    "import deepbayesHF\n",
    "import deepbayesHF.optimizers as optimizers\n",
    "from deepbayesHF import PosteriorModel\n",
    "from deepbayesHF.analyzers import FGSM\n",
    "from deepbayesHF.analyzers import eps_LRP\n",
    "import tensorflow as tf\n",
    "from tensorflow.keras.models import *\n",
    "from tensorflow.keras.layers import *\n",
    "import cv2\n",
    "import random\n",
    "import matplotlib.pyplot as plt\n",
    "from collections import namedtuple\n",
    "\n",
    "from joblib import Parallel, delayed\n",
    "import subprocess\n",
    "from statistics import mode\n",
    "import json"
   ]
  },
  {
   "cell_type": "code",
   "execution_count": 3,
   "id": "30d254de",
   "metadata": {},
   "outputs": [],
   "source": [
    "def display_number(X,SCALE):\n",
    "    X = X.reshape(SCALE[0],SCALE[1],3)\n",
    "    plt.imshow(X,cmap='gray')\n",
    "    plt.show()\n",
    "    \n",
    "def display_explanation(x0,SCALE,expl):\n",
    "    fig, (ax1,ax2,ax3) = plt.subplots(1,3)\n",
    "    x0_2d = x0.reshape(SCALE[0],SCALE[1],3)\n",
    "    ax1.set_title('Input')\n",
    "    ax1.imshow(x0_2d,cmap='gray')\n",
    "    expl_2d = expl.reshape(SCALE[0],SCALE[1],3)\n",
    "    ax2.set_title('Explanation')\n",
    "    ax2.imshow(expl_2d)\n",
    "    \n",
    "    cmap = plt.cm.gray\n",
    "    norm = plt.Normalize(x0.min(),x0.max())\n",
    "    rgba = cmap(norm(x0))\n",
    "    \n",
    "    norm_ex = plt.Normalize(expl.min(),expl.max())\n",
    "    normed_ex = norm_ex(expl)\n",
    "    \n",
    "    for i,x in enumerate(normed_ex):\n",
    "        if x > 0:\n",
    "            rgba[i] = x,0,0,1\n",
    "    \n",
    "    rgba = rgba.reshape(SCALE[0],SCALE[1],4)\n",
    "    \n",
    "    ax3.set_title('Overlayed')\n",
    "    ax3.imshow(rgba,interpolation='nearest')\n",
    "    plt.show()"
   ]
  },
  {
   "cell_type": "code",
   "execution_count": 4,
   "id": "4190aa74",
   "metadata": {},
   "outputs": [],
   "source": [
    "# Load mnist data and scale down to SCALE (trying 14x14 initially)\n",
    "\n",
    "(X_train, y_train), (X_test, y_test) = tf.keras.datasets.mnist.load_data()\n",
    "SCALE = (14,14)\n",
    "if not SCALE == X_train[0].shape:\n",
    "    X_train = np.array(list(map(lambda x:cv2.resize(x,SCALE,interpolation=cv2.INTER_CUBIC),X_train)))\n",
    "X_train = np.array(list(map(lambda x:cv2.cvtColor(x,cv2.COLOR_GRAY2RGB),X_train)))\n",
    "X_train = X_train/255.\n",
    "X_train = X_train.astype(\"float32\").reshape(len(X_train), SCALE[0],SCALE[1],3)\n",
    "\n",
    "if not SCALE == X_test.shape:\n",
    "    X_test = np.array(list(map(lambda x:cv2.resize(x,SCALE,interpolation=cv2.INTER_CUBIC),X_test)))\n",
    "X_test = np.array(list(map(lambda x:cv2.cvtColor(x,cv2.COLOR_GRAY2RGB),X_test)))\n",
    "X_test = X_test/255.\n",
    "X_test = X_test.astype(\"float32\").reshape(len(X_test), SCALE[0], SCALE[1],3)\n",
    "\n",
    "# make it a binary classification task (X or not X)\n",
    "target = 8\n",
    "y_train = np.array([1 if y == target else 0 for y in y_train])\n",
    "y_test = np.array([1 if y == target else 0 for y in y_test])\n",
    "\n",
    "# filter so we get about 50% target class and 50% other\n",
    "target_idxs = [i for i in range(len(y_train)) if y_train[i] == 1]\n",
    "other_idxs = [i for i in range(len(y_train)) if y_train[i] == 0]\n",
    "\n",
    "#uncomment the shuffle for training only\n",
    "#random.shuffle(other_idxs)\n",
    "other_idxs = other_idxs[:len(target_idxs)]\n",
    "# pick len(target_idxs) samples from the other_idxs\n",
    "X_train = np.array([x for i,x in enumerate(X_train) if i in other_idxs or i in target_idxs])\n",
    "y_train = np.array([y for i,y in enumerate(y_train) if i in other_idxs or i in target_idxs])"
   ]
  },
  {
   "cell_type": "code",
   "execution_count": 8,
   "id": "f43344f3",
   "metadata": {},
   "outputs": [
    {
     "name": "stdout",
     "output_type": "stream",
     "text": [
      "(28, 28)\n"
     ]
    },
    {
     "data": {
      "image/png": "[encoded data removed]",
      "text/plain": [
       "<Figure size 432x288 with 1 Axes>"
      ]
     },
     "metadata": {
      "needs_background": "light"
     },
     "output_type": "display_data"
    }
   ],
   "source": [
    "#plt.imshow(X_train[0])\n",
    "print(X_train[0].shape)\n",
    "(X_train, y_train), (X_test, y_test) = tf.keras.datasets.mnist.load_data()\n",
    "n = np.random.choice(len(X_train))\n",
    "plt.imshow(X_train[n],cmap='gray')\n",
    "plt.axis('off')\n",
    "plt.show()"
   ]
  },
  {
   "cell_type": "code",
   "execution_count": 90,
   "id": "59c7eab0",
   "metadata": {},
   "outputs": [
    {
     "name": "stderr",
     "output_type": "stream",
     "text": [
      "  2%|▏         | 4/183 [00:00<00:04, 36.64it/s]"
     ]
    },
    {
     "name": "stdout",
     "output_type": "stream",
     "text": [
      "This optimizer does not have a default compilation method. Please make sure to call the correct .compile method before use.\n",
      "deepbayes: Using implicit prior\n",
      "(588, 256) 0.05832118435198043\n",
      "(256, 128) 0.08838834764831845\n",
      "(128, 2) 0.125\n",
      "deepbayes: Using implicit prior\n",
      "(588, 256) 0.05832118435198043\n",
      "(256, 128) 0.08838834764831845\n",
      "(128, 2) 0.125\n"
     ]
    },
    {
     "name": "stderr",
     "output_type": "stream",
     "text": [
      "100%|██████████| 183/183 [00:03<00:00, 54.55it/s]\n",
      "  3%|▎         | 6/183 [00:00<00:03, 56.96it/s]"
     ]
    },
    {
     "name": "stdout",
     "output_type": "stream",
     "text": [
      "Epoch 1, loss: 0.493, acc: 0.751, val_loss: 0.314, val_acc: 0.868\n"
     ]
    },
    {
     "name": "stderr",
     "output_type": "stream",
     "text": [
      "100%|██████████| 183/183 [00:03<00:00, 55.36it/s]\n",
      "  3%|▎         | 5/183 [00:00<00:03, 48.00it/s]"
     ]
    },
    {
     "name": "stdout",
     "output_type": "stream",
     "text": [
      "Epoch 2, loss: 0.339, acc: 0.870, val_loss: 0.695, val_acc: 0.701\n"
     ]
    },
    {
     "name": "stderr",
     "output_type": "stream",
     "text": [
      "100%|██████████| 183/183 [00:03<00:00, 52.14it/s]\n",
      "  3%|▎         | 5/183 [00:00<00:03, 45.64it/s]"
     ]
    },
    {
     "name": "stdout",
     "output_type": "stream",
     "text": [
      "Epoch 3, loss: 0.254, acc: 0.897, val_loss: 0.161, val_acc: 0.935\n"
     ]
    },
    {
     "name": "stderr",
     "output_type": "stream",
     "text": [
      "100%|██████████| 183/183 [00:03<00:00, 52.90it/s]\n",
      "  3%|▎         | 6/183 [00:00<00:03, 50.22it/s]"
     ]
    },
    {
     "name": "stdout",
     "output_type": "stream",
     "text": [
      "Epoch 4, loss: 0.210, acc: 0.920, val_loss: 0.274, val_acc: 0.894\n"
     ]
    },
    {
     "name": "stderr",
     "output_type": "stream",
     "text": [
      "100%|██████████| 183/183 [00:03<00:00, 54.18it/s]\n",
      "  3%|▎         | 6/183 [00:00<00:03, 58.43it/s]"
     ]
    },
    {
     "name": "stdout",
     "output_type": "stream",
     "text": [
      "Epoch 5, loss: 0.179, acc: 0.931, val_loss: 0.208, val_acc: 0.928\n"
     ]
    },
    {
     "name": "stderr",
     "output_type": "stream",
     "text": [
      "100%|██████████| 183/183 [00:03<00:00, 51.11it/s]\n",
      "  3%|▎         | 6/183 [00:00<00:03, 52.94it/s]"
     ]
    },
    {
     "name": "stdout",
     "output_type": "stream",
     "text": [
      "Epoch 6, loss: 0.157, acc: 0.941, val_loss: 0.121, val_acc: 0.960\n"
     ]
    },
    {
     "name": "stderr",
     "output_type": "stream",
     "text": [
      "100%|██████████| 183/183 [00:03<00:00, 53.63it/s]\n",
      "  3%|▎         | 6/183 [00:00<00:03, 57.33it/s]"
     ]
    },
    {
     "name": "stdout",
     "output_type": "stream",
     "text": [
      "Epoch 7, loss: 0.128, acc: 0.952, val_loss: 0.072, val_acc: 0.978\n"
     ]
    },
    {
     "name": "stderr",
     "output_type": "stream",
     "text": [
      "100%|██████████| 183/183 [00:03<00:00, 55.75it/s]\n",
      "  3%|▎         | 6/183 [00:00<00:03, 55.45it/s]"
     ]
    },
    {
     "name": "stdout",
     "output_type": "stream",
     "text": [
      "Epoch 8, loss: 0.106, acc: 0.960, val_loss: 0.070, val_acc: 0.977\n"
     ]
    },
    {
     "name": "stderr",
     "output_type": "stream",
     "text": [
      "100%|██████████| 183/183 [00:03<00:00, 54.76it/s]\n",
      "  3%|▎         | 6/183 [00:00<00:03, 57.86it/s]"
     ]
    },
    {
     "name": "stdout",
     "output_type": "stream",
     "text": [
      "Epoch 9, loss: 0.098, acc: 0.963, val_loss: 0.143, val_acc: 0.955\n"
     ]
    },
    {
     "name": "stderr",
     "output_type": "stream",
     "text": [
      "100%|██████████| 183/183 [00:03<00:00, 51.68it/s]\n",
      "  3%|▎         | 6/183 [00:00<00:03, 52.03it/s]"
     ]
    },
    {
     "name": "stdout",
     "output_type": "stream",
     "text": [
      "Epoch 10, loss: 0.076, acc: 0.972, val_loss: 0.100, val_acc: 0.967\n"
     ]
    },
    {
     "name": "stderr",
     "output_type": "stream",
     "text": [
      "100%|██████████| 183/183 [00:03<00:00, 52.48it/s]\n",
      "  3%|▎         | 6/183 [00:00<00:03, 57.45it/s]"
     ]
    },
    {
     "name": "stdout",
     "output_type": "stream",
     "text": [
      "Epoch 11, loss: 0.068, acc: 0.976, val_loss: 0.056, val_acc: 0.982\n"
     ]
    },
    {
     "name": "stderr",
     "output_type": "stream",
     "text": [
      "100%|██████████| 183/183 [00:03<00:00, 54.48it/s]\n",
      "  3%|▎         | 6/183 [00:00<00:03, 53.24it/s]"
     ]
    },
    {
     "name": "stdout",
     "output_type": "stream",
     "text": [
      "Epoch 12, loss: 0.058, acc: 0.979, val_loss: 0.096, val_acc: 0.969\n"
     ]
    },
    {
     "name": "stderr",
     "output_type": "stream",
     "text": [
      "100%|██████████| 183/183 [00:03<00:00, 52.23it/s]\n",
      "  3%|▎         | 5/183 [00:00<00:03, 46.45it/s]"
     ]
    },
    {
     "name": "stdout",
     "output_type": "stream",
     "text": [
      "Epoch 13, loss: 0.051, acc: 0.982, val_loss: 0.072, val_acc: 0.979\n"
     ]
    },
    {
     "name": "stderr",
     "output_type": "stream",
     "text": [
      "100%|██████████| 183/183 [00:03<00:00, 54.17it/s]\n",
      "  3%|▎         | 6/183 [00:00<00:03, 57.59it/s]"
     ]
    },
    {
     "name": "stdout",
     "output_type": "stream",
     "text": [
      "Epoch 14, loss: 0.045, acc: 0.983, val_loss: 0.067, val_acc: 0.980\n"
     ]
    },
    {
     "name": "stderr",
     "output_type": "stream",
     "text": [
      "100%|██████████| 183/183 [00:03<00:00, 52.80it/s]\n",
      "  3%|▎         | 6/183 [00:00<00:02, 59.14it/s]"
     ]
    },
    {
     "name": "stdout",
     "output_type": "stream",
     "text": [
      "Epoch 15, loss: 0.041, acc: 0.986, val_loss: 0.089, val_acc: 0.974\n"
     ]
    },
    {
     "name": "stderr",
     "output_type": "stream",
     "text": [
      "100%|██████████| 183/183 [00:03<00:00, 53.51it/s]\n",
      "  3%|▎         | 6/183 [00:00<00:03, 57.16it/s]"
     ]
    },
    {
     "name": "stdout",
     "output_type": "stream",
     "text": [
      "Epoch 16, loss: 0.037, acc: 0.987, val_loss: 0.057, val_acc: 0.984\n"
     ]
    },
    {
     "name": "stderr",
     "output_type": "stream",
     "text": [
      "100%|██████████| 183/183 [00:03<00:00, 52.15it/s]\n",
      "  3%|▎         | 6/183 [00:00<00:03, 58.32it/s]"
     ]
    },
    {
     "name": "stdout",
     "output_type": "stream",
     "text": [
      "Epoch 17, loss: 0.034, acc: 0.988, val_loss: 0.080, val_acc: 0.976\n"
     ]
    },
    {
     "name": "stderr",
     "output_type": "stream",
     "text": [
      "100%|██████████| 183/183 [00:03<00:00, 53.60it/s]\n",
      "  3%|▎         | 5/183 [00:00<00:03, 49.55it/s]"
     ]
    },
    {
     "name": "stdout",
     "output_type": "stream",
     "text": [
      "Epoch 18, loss: 0.030, acc: 0.989, val_loss: 0.068, val_acc: 0.980\n"
     ]
    },
    {
     "name": "stderr",
     "output_type": "stream",
     "text": [
      "100%|██████████| 183/183 [00:03<00:00, 52.51it/s]\n",
      "  3%|▎         | 6/183 [00:00<00:03, 54.00it/s]"
     ]
    },
    {
     "name": "stdout",
     "output_type": "stream",
     "text": [
      "Epoch 19, loss: 0.026, acc: 0.991, val_loss: 0.062, val_acc: 0.983\n"
     ]
    },
    {
     "name": "stderr",
     "output_type": "stream",
     "text": [
      "100%|██████████| 183/183 [00:03<00:00, 55.45it/s]\n",
      "  3%|▎         | 6/183 [00:00<00:03, 55.96it/s]"
     ]
    },
    {
     "name": "stdout",
     "output_type": "stream",
     "text": [
      "Epoch 20, loss: 0.022, acc: 0.992, val_loss: 0.073, val_acc: 0.981\n"
     ]
    },
    {
     "name": "stderr",
     "output_type": "stream",
     "text": [
      "100%|██████████| 183/183 [00:03<00:00, 55.03it/s]\n",
      "  3%|▎         | 5/183 [00:00<00:04, 41.68it/s]"
     ]
    },
    {
     "name": "stdout",
     "output_type": "stream",
     "text": [
      "Epoch 21, loss: 0.019, acc: 0.993, val_loss: 0.061, val_acc: 0.984\n"
     ]
    },
    {
     "name": "stderr",
     "output_type": "stream",
     "text": [
      "100%|██████████| 183/183 [00:03<00:00, 53.54it/s]\n",
      "  3%|▎         | 6/183 [00:00<00:03, 56.27it/s]"
     ]
    },
    {
     "name": "stdout",
     "output_type": "stream",
     "text": [
      "Epoch 22, loss: 0.017, acc: 0.994, val_loss: 0.082, val_acc: 0.980\n"
     ]
    },
    {
     "name": "stderr",
     "output_type": "stream",
     "text": [
      "100%|██████████| 183/183 [00:03<00:00, 56.60it/s]\n",
      "  3%|▎         | 5/183 [00:00<00:03, 48.86it/s]"
     ]
    },
    {
     "name": "stdout",
     "output_type": "stream",
     "text": [
      "Epoch 23, loss: 0.016, acc: 0.994, val_loss: 0.060, val_acc: 0.985\n"
     ]
    },
    {
     "name": "stderr",
     "output_type": "stream",
     "text": [
      "100%|██████████| 183/183 [00:03<00:00, 56.01it/s]\n",
      "  3%|▎         | 6/183 [00:00<00:03, 57.30it/s]"
     ]
    },
    {
     "name": "stdout",
     "output_type": "stream",
     "text": [
      "Epoch 24, loss: 0.014, acc: 0.994, val_loss: 0.083, val_acc: 0.980\n"
     ]
    },
    {
     "name": "stderr",
     "output_type": "stream",
     "text": [
      "100%|██████████| 183/183 [00:03<00:00, 53.31it/s]\n",
      "  3%|▎         | 5/183 [00:00<00:04, 41.06it/s]"
     ]
    },
    {
     "name": "stdout",
     "output_type": "stream",
     "text": [
      "Epoch 25, loss: 0.012, acc: 0.995, val_loss: 0.074, val_acc: 0.983\n"
     ]
    },
    {
     "name": "stderr",
     "output_type": "stream",
     "text": [
      "100%|██████████| 183/183 [00:03<00:00, 53.62it/s]\n"
     ]
    },
    {
     "name": "stdout",
     "output_type": "stream",
     "text": [
      "Epoch 26, loss: 0.010, acc: 0.996, val_loss: 0.076, val_acc: 0.983\n",
      "('batch_size', 64)\n",
      "('learning_rate', 0.25)\n",
      "('decay', 0.0)\n",
      "('epochs', 26)\n",
      "('inflate_prior', 2.0)\n",
      "('input_noise', 0.0)\n",
      "('robust_train', 0)\n",
      "('epsilon', 0.1)\n",
      "('robust_lambda', 0.5)\n",
      "('loss_monte_carlo', 2)\n",
      "('input_upper', inf)\n",
      "('input_lower', -inf)\n",
      "('beta_1', 0.999)\n",
      "('beta_2', 0.9999)\n",
      "('lam', 1.0)\n",
      "('N', 11702)\n",
      "('max_eps', 0.1)\n",
      "('max_robust_lambda', 0.5)\n"
     ]
    }
   ],
   "source": [
    "model_name = f'mnist{SCALE[0]}x{SCALE[1]}_32_16_binary_target{target}_coverage_rgb'\n",
    "opt = optimizers.VariationalOnlineGuassNewton()\n",
    "likelihood = tf.keras.losses.SparseCategoricalCrossentropy()\n",
    "\n",
    "inputs = Input(shape=X_train[0].shape)\n",
    "tmp = Flatten()(inputs)\n",
    "tmp = Dense(256,activation='relu')(tmp)\n",
    "tmp = Dense(128,activation='relu')(tmp)\n",
    "predictions = Dense(2,activation='softmax')(tmp)\n",
    "model = Model(inputs=inputs,outputs=predictions)\n",
    "\n",
    "bayes_model = opt.compile(model,loss_fn=likelihood,\n",
    "                          epochs=25, learning_rate=0.25,\n",
    "                          inflate_prior=2.0, log_file='tmp/log.txt')\n",
    "bayes_model.train(X_train,y_train,X_test,y_test)\n",
    "bayes_model.save(model_name)"
   ]
  },
  {
   "cell_type": "code",
   "execution_count": 6,
   "id": "4ba14b05",
   "metadata": {},
   "outputs": [
    {
     "name": "stdout",
     "output_type": "stream",
     "text": [
      "WARNING:tensorflow:No training configuration found in the save file, so the model was *not* compiled. Compile it manually.\n",
      "Model: \"functional_105\"\n",
      "_________________________________________________________________\n",
      "Layer (type)                 Output Shape              Param #   \n",
      "=================================================================\n",
      "input_3 (InputLayer)         [(None, 14, 14, 3)]       0         \n",
      "_________________________________________________________________\n",
      "flatten_2 (Flatten)          (None, 588)               0         \n",
      "_________________________________________________________________\n",
      "dense_6 (Dense)              (None, 256)               150784    \n",
      "_________________________________________________________________\n",
      "dense_7 (Dense)              (None, 128)               32896     \n",
      "_________________________________________________________________\n",
      "dense_8 (Dense)              (None, 2)                 258       \n",
      "=================================================================\n",
      "Total params: 183,938\n",
      "Trainable params: 183,938\n",
      "Non-trainable params: 0\n",
      "_________________________________________________________________\n",
      "deepbayes: detected the above model \n",
      " None\n",
      "\n",
      "Loaded model accuracy: 97.08%\n"
     ]
    }
   ],
   "source": [
    "model_name = f'mnist{SCALE[0]}x{SCALE[1]}_32_16_binary_target{target}_coverage_rgb'\n",
    "bayes_model = PosteriorModel(model_name)\n",
    "y_pred = bayes_model.predict(X_test,n=50)\n",
    "check_accuracy = tf.keras.metrics.Accuracy(name=\"train_acc\")\n",
    "check_accuracy(y_test,np.argmax(y_pred,axis=1))\n",
    "print()\n",
    "print('Loaded model accuracy:',f'{check_accuracy.result().numpy()*100:.2f}%')"
   ]
  },
  {
   "cell_type": "code",
   "execution_count": 92,
   "id": "c4db7dbf",
   "metadata": {},
   "outputs": [
    {
     "data": {
      "image/png": "[encoded data removed]",
      "text/plain": [
       "<Figure size 432x288 with 1 Axes>"
      ]
     },
     "metadata": {
      "needs_background": "light"
     },
     "output_type": "display_data"
    },
    {
     "name": "stdout",
     "output_type": "stream",
     "text": [
      "Prediction: Not eight.\n",
      "5575\n"
     ]
    }
   ],
   "source": [
    "N = 50\n",
    "# pick a random positive input for testing\n",
    "n = 0\n",
    "'''\n",
    "while True:\n",
    "    n = np.random.choice(list(range(len(X_train))))\n",
    "    if y_train[n] == 0:\n",
    "        break\n",
    "'''\n",
    "n = 5575\n",
    "\n",
    "X = X_train[n].reshape(1,SCALE[0],SCALE[1],3).astype(np.float32)\n",
    "y_hat = np.argmax(bayes_model.predict(X,n=N))\n",
    "y_class = 'Eight.' if y_hat == 1 else 'Not eight.'\n",
    "display_number(X,SCALE)\n",
    "print('Prediction:',y_class)\n",
    "input_shape = X.flatten().shape\n",
    "print(n)\n",
    "ns = [11055,236,5575]"
   ]
  },
  {
   "cell_type": "code",
   "execution_count": 64,
   "id": "b3862780",
   "metadata": {},
   "outputs": [
    {
     "data": {
      "image/png": "[encoded data removed]",
      "text/plain": [
       "<Figure size 432x288 with 1 Axes>"
      ]
     },
     "metadata": {
      "needs_background": "light"
     },
     "output_type": "display_data"
    },
    {
     "data": {
      "image/png": "[encoded data removed]",
      "text/plain": [
       "<Figure size 432x288 with 1 Axes>"
      ]
     },
     "metadata": {
      "needs_background": "light"
     },
     "output_type": "display_data"
    },
    {
     "data": {
      "image/png": "[encoded data removed]",
      "text/plain": [
       "<Figure size 432x288 with 1 Axes>"
      ]
     },
     "metadata": {
      "needs_background": "light"
     },
     "output_type": "display_data"
    }
   ],
   "source": [
    "ns = [11055,236,5575]\n",
    "for n in ns:\n",
    "    plt.imshow(X_train[n])\n",
    "    plt.axis('off')\n",
    "    plt.show()"
   ]
  },
  {
   "cell_type": "code",
   "execution_count": 68,
   "id": "9e0a7c75",
   "metadata": {
    "scrolled": true
   },
   "outputs": [
    {
     "name": "stdout",
     "output_type": "stream",
     "text": [
      "dense_8\n",
      "dense_7\n",
      "dense_6\n",
      "flatten_2\n",
      "input_3\n",
      "(14, 14, 3)\n",
      "dense_8\n",
      "dense_7\n",
      "dense_6\n",
      "flatten_2\n",
      "input_3\n",
      "(14, 14, 3)\n",
      "dense_8\n",
      "dense_7\n",
      "dense_6\n",
      "flatten_2\n",
      "input_3\n",
      "(14, 14, 3)\n",
      "dense_8\n",
      "dense_7\n",
      "dense_6\n",
      "flatten_2\n",
      "input_3\n",
      "(14, 14, 3)\n",
      "dense_8\n",
      "dense_7\n",
      "dense_6\n",
      "flatten_2\n",
      "input_3\n",
      "(14, 14, 3)\n",
      "dense_8\n",
      "dense_7\n",
      "dense_6\n",
      "flatten_2\n",
      "input_3\n",
      "(14, 14, 3)\n",
      "dense_8\n",
      "dense_7\n",
      "dense_6\n",
      "flatten_2\n",
      "input_3\n",
      "(14, 14, 3)\n",
      "dense_8\n",
      "dense_7\n",
      "dense_6\n",
      "flatten_2\n",
      "input_3\n",
      "(14, 14, 3)\n",
      "dense_8\n",
      "dense_7\n",
      "dense_6\n",
      "flatten_2\n",
      "input_3\n",
      "(14, 14, 3)\n",
      "dense_8\n",
      "dense_7\n",
      "dense_6\n",
      "flatten_2\n",
      "input_3\n",
      "(14, 14, 3)\n",
      "dense_8\n",
      "dense_7\n",
      "dense_6\n",
      "flatten_2\n",
      "input_3\n",
      "(14, 14, 3)\n",
      "dense_8\n",
      "dense_7\n",
      "dense_6\n",
      "flatten_2\n",
      "input_3\n",
      "(14, 14, 3)\n",
      "dense_8\n",
      "dense_7\n",
      "dense_6\n",
      "flatten_2\n",
      "input_3\n",
      "(14, 14, 3)\n",
      "dense_8\n",
      "dense_7\n",
      "dense_6\n",
      "flatten_2\n",
      "input_3\n",
      "(14, 14, 3)\n",
      "dense_8\n",
      "dense_7\n",
      "dense_6\n",
      "flatten_2\n",
      "input_3\n",
      "(14, 14, 3)\n",
      "dense_8\n",
      "dense_7\n",
      "dense_6\n",
      "flatten_2\n",
      "input_3\n",
      "(14, 14, 3)\n",
      "dense_8\n",
      "dense_7\n",
      "dense_6\n",
      "flatten_2\n",
      "input_3\n",
      "(14, 14, 3)\n",
      "dense_8\n",
      "dense_7\n",
      "dense_6\n",
      "flatten_2\n",
      "input_3\n",
      "(14, 14, 3)\n",
      "dense_8\n",
      "dense_7\n",
      "dense_6\n",
      "flatten_2\n",
      "input_3\n",
      "(14, 14, 3)\n",
      "dense_8\n",
      "dense_7\n",
      "dense_6\n",
      "flatten_2\n",
      "input_3\n",
      "(14, 14, 3)\n",
      "dense_8\n",
      "dense_7\n",
      "dense_6\n",
      "flatten_2\n",
      "input_3\n",
      "(14, 14, 3)\n",
      "dense_8\n",
      "dense_7\n",
      "dense_6\n",
      "flatten_2\n",
      "input_3\n",
      "(14, 14, 3)\n",
      "dense_8\n",
      "dense_7\n",
      "dense_6\n",
      "flatten_2\n",
      "input_3\n",
      "(14, 14, 3)\n",
      "dense_8\n",
      "dense_7\n",
      "dense_6\n",
      "flatten_2\n",
      "input_3\n",
      "(14, 14, 3)\n",
      "dense_8\n",
      "dense_7\n",
      "dense_6\n",
      "flatten_2\n",
      "input_3\n",
      "(14, 14, 3)\n",
      "dense_8\n",
      "dense_7\n",
      "dense_6\n",
      "flatten_2\n",
      "input_3\n",
      "(14, 14, 3)\n",
      "dense_8\n",
      "dense_7\n",
      "dense_6\n",
      "flatten_2\n",
      "input_3\n",
      "(14, 14, 3)\n",
      "dense_8\n",
      "dense_7\n",
      "dense_6\n",
      "flatten_2\n",
      "input_3\n",
      "(14, 14, 3)\n",
      "dense_8\n",
      "dense_7\n",
      "dense_6\n",
      "flatten_2\n",
      "input_3\n",
      "(14, 14, 3)\n",
      "dense_8\n",
      "dense_7\n",
      "dense_6\n",
      "flatten_2\n",
      "input_3\n",
      "(14, 14, 3)\n",
      "dense_8\n",
      "dense_7\n",
      "dense_6\n",
      "flatten_2\n",
      "input_3\n",
      "(14, 14, 3)\n",
      "dense_8\n",
      "dense_7\n",
      "dense_6\n",
      "flatten_2\n",
      "input_3\n",
      "(14, 14, 3)\n",
      "dense_8\n",
      "dense_7\n",
      "dense_6\n",
      "flatten_2\n",
      "input_3\n",
      "(14, 14, 3)\n",
      "dense_8\n",
      "dense_7\n",
      "dense_6\n",
      "flatten_2\n",
      "input_3\n",
      "(14, 14, 3)\n",
      "dense_8\n",
      "dense_7\n",
      "dense_6\n",
      "flatten_2\n",
      "input_3\n",
      "(14, 14, 3)\n",
      "dense_8\n",
      "dense_7\n",
      "dense_6\n",
      "flatten_2\n",
      "input_3\n",
      "(14, 14, 3)\n",
      "dense_8\n",
      "dense_7\n",
      "dense_6\n",
      "flatten_2\n",
      "input_3\n",
      "(14, 14, 3)\n",
      "dense_8\n",
      "dense_7\n",
      "dense_6\n",
      "flatten_2\n",
      "input_3\n",
      "(14, 14, 3)\n",
      "dense_8\n",
      "dense_7\n",
      "dense_6\n",
      "flatten_2\n",
      "input_3\n",
      "(14, 14, 3)\n",
      "dense_8\n",
      "dense_7\n",
      "dense_6\n",
      "flatten_2\n",
      "input_3\n",
      "(14, 14, 3)\n",
      "dense_8\n",
      "dense_7\n",
      "dense_6\n",
      "flatten_2\n",
      "input_3\n",
      "(14, 14, 3)\n",
      "dense_8\n",
      "dense_7\n",
      "dense_6\n",
      "flatten_2\n",
      "input_3\n",
      "(14, 14, 3)\n",
      "dense_8\n",
      "dense_7\n",
      "dense_6\n",
      "flatten_2\n",
      "input_3\n",
      "(14, 14, 3)\n",
      "dense_8\n",
      "dense_7\n",
      "dense_6\n",
      "flatten_2\n",
      "input_3\n",
      "(14, 14, 3)\n",
      "dense_8\n",
      "dense_7\n",
      "dense_6\n",
      "flatten_2\n",
      "input_3\n",
      "(14, 14, 3)\n",
      "dense_8\n",
      "dense_7\n",
      "dense_6\n",
      "flatten_2\n",
      "input_3\n",
      "(14, 14, 3)\n",
      "dense_8\n",
      "dense_7\n",
      "dense_6\n",
      "flatten_2\n",
      "input_3\n",
      "(14, 14, 3)\n",
      "dense_8\n",
      "dense_7\n",
      "dense_6\n",
      "flatten_2\n",
      "input_3\n",
      "(14, 14, 3)\n",
      "dense_8\n",
      "dense_7\n",
      "dense_6\n",
      "flatten_2\n",
      "input_3\n",
      "(14, 14, 3)\n",
      "dense_8\n",
      "dense_7\n",
      "dense_6\n",
      "flatten_2\n",
      "input_3\n",
      "(14, 14, 3)\n",
      "dense_8\n",
      "dense_7\n",
      "dense_6\n",
      "flatten_2\n",
      "input_3\n",
      "(14, 14, 3)\n",
      "dense_8\n",
      "dense_7\n",
      "dense_6\n",
      "flatten_2\n",
      "input_3\n",
      "(14, 14, 3)\n",
      "dense_8\n",
      "dense_7\n",
      "dense_6\n",
      "flatten_2\n",
      "input_3\n",
      "(14, 14, 3)\n",
      "dense_8\n",
      "dense_7\n",
      "dense_6\n",
      "flatten_2\n",
      "input_3\n",
      "(14, 14, 3)\n",
      "dense_8\n",
      "dense_7\n",
      "dense_6\n",
      "flatten_2\n",
      "input_3\n",
      "(14, 14, 3)\n",
      "dense_8\n",
      "dense_7\n",
      "dense_6\n",
      "flatten_2\n",
      "input_3\n",
      "(14, 14, 3)\n",
      "dense_8\n",
      "dense_7\n",
      "dense_6\n",
      "flatten_2\n",
      "input_3\n",
      "(14, 14, 3)\n",
      "dense_8\n",
      "dense_7\n",
      "dense_6\n",
      "flatten_2\n",
      "input_3\n",
      "(14, 14, 3)\n",
      "dense_8\n",
      "dense_7\n",
      "dense_6\n",
      "flatten_2\n",
      "input_3\n",
      "(14, 14, 3)\n",
      "dense_8\n",
      "dense_7\n",
      "dense_6\n",
      "flatten_2\n",
      "input_3\n",
      "(14, 14, 3)\n",
      "dense_8\n",
      "dense_7\n",
      "dense_6\n",
      "flatten_2\n",
      "input_3\n",
      "(14, 14, 3)\n",
      "dense_8\n",
      "dense_7\n",
      "dense_6\n",
      "flatten_2\n",
      "input_3\n",
      "(14, 14, 3)\n",
      "dense_8\n",
      "dense_7\n",
      "dense_6\n",
      "flatten_2\n",
      "input_3\n",
      "(14, 14, 3)\n",
      "dense_8\n",
      "dense_7\n",
      "dense_6\n",
      "flatten_2\n",
      "input_3\n",
      "(14, 14, 3)\n",
      "dense_8\n",
      "dense_7\n",
      "dense_6\n",
      "flatten_2\n",
      "input_3\n",
      "(14, 14, 3)\n",
      "dense_8\n",
      "dense_7\n",
      "dense_6\n",
      "flatten_2\n",
      "input_3\n",
      "(14, 14, 3)\n",
      "dense_8\n",
      "dense_7\n",
      "dense_6\n",
      "flatten_2\n",
      "input_3\n",
      "(14, 14, 3)\n",
      "dense_8\n",
      "dense_7\n",
      "dense_6\n",
      "flatten_2\n",
      "input_3\n",
      "(14, 14, 3)\n",
      "dense_8\n",
      "dense_7\n",
      "dense_6\n",
      "flatten_2\n",
      "input_3\n",
      "(14, 14, 3)\n",
      "dense_8\n",
      "dense_7\n",
      "dense_6\n",
      "flatten_2\n",
      "input_3\n",
      "(14, 14, 3)\n",
      "dense_8\n",
      "dense_7\n",
      "dense_6\n",
      "flatten_2\n",
      "input_3\n",
      "(14, 14, 3)\n",
      "dense_8\n",
      "dense_7\n",
      "dense_6\n",
      "flatten_2\n",
      "input_3\n",
      "(14, 14, 3)\n",
      "dense_8\n",
      "dense_7\n",
      "dense_6\n",
      "flatten_2\n",
      "input_3\n",
      "(14, 14, 3)\n",
      "dense_8\n",
      "dense_7\n",
      "dense_6\n",
      "flatten_2\n",
      "input_3\n",
      "(14, 14, 3)\n",
      "dense_8\n",
      "dense_7\n",
      "dense_6\n",
      "flatten_2\n",
      "input_3\n",
      "(14, 14, 3)\n",
      "dense_8\n",
      "dense_7\n",
      "dense_6\n",
      "flatten_2\n",
      "input_3\n",
      "(14, 14, 3)\n",
      "dense_8\n",
      "dense_7\n",
      "dense_6\n",
      "flatten_2\n",
      "input_3\n",
      "(14, 14, 3)\n",
      "dense_8\n",
      "dense_7\n",
      "dense_6\n",
      "flatten_2\n",
      "input_3\n",
      "(14, 14, 3)\n",
      "dense_8\n",
      "dense_7\n",
      "dense_6\n",
      "flatten_2\n",
      "input_3\n",
      "(14, 14, 3)\n",
      "dense_8\n",
      "dense_7\n",
      "dense_6\n",
      "flatten_2\n",
      "input_3\n",
      "(14, 14, 3)\n",
      "dense_8\n",
      "dense_7\n",
      "dense_6\n",
      "flatten_2\n",
      "input_3\n",
      "(14, 14, 3)\n",
      "dense_8\n",
      "dense_7\n",
      "dense_6\n",
      "flatten_2\n",
      "input_3\n",
      "(14, 14, 3)\n",
      "dense_8\n",
      "dense_7\n",
      "dense_6\n",
      "flatten_2\n",
      "input_3\n",
      "(14, 14, 3)\n",
      "dense_8\n",
      "dense_7\n",
      "dense_6\n",
      "flatten_2\n",
      "input_3\n",
      "(14, 14, 3)\n",
      "dense_8\n",
      "dense_7\n",
      "dense_6\n",
      "flatten_2\n",
      "input_3\n",
      "(14, 14, 3)\n",
      "dense_8\n",
      "dense_7\n",
      "dense_6\n",
      "flatten_2\n",
      "input_3\n",
      "(14, 14, 3)\n",
      "dense_8\n",
      "dense_7\n",
      "dense_6\n",
      "flatten_2\n",
      "input_3\n",
      "(14, 14, 3)\n",
      "dense_8\n",
      "dense_7\n",
      "dense_6\n",
      "flatten_2\n",
      "input_3\n",
      "(14, 14, 3)\n",
      "dense_8\n",
      "dense_7\n",
      "dense_6\n",
      "flatten_2\n",
      "input_3\n",
      "(14, 14, 3)\n",
      "dense_8\n",
      "dense_7\n",
      "dense_6\n",
      "flatten_2\n",
      "input_3\n",
      "(14, 14, 3)\n",
      "dense_8\n",
      "dense_7\n",
      "dense_6\n",
      "flatten_2\n",
      "input_3\n",
      "(14, 14, 3)\n",
      "dense_8\n",
      "dense_7\n",
      "dense_6\n",
      "flatten_2\n",
      "input_3\n",
      "(14, 14, 3)\n",
      "dense_8\n",
      "dense_7\n",
      "dense_6\n",
      "flatten_2\n",
      "input_3\n",
      "(14, 14, 3)\n",
      "dense_8\n",
      "dense_7\n",
      "dense_6\n",
      "flatten_2\n",
      "input_3\n",
      "(14, 14, 3)\n",
      "dense_8\n",
      "dense_7\n",
      "dense_6\n",
      "flatten_2\n",
      "input_3\n",
      "(14, 14, 3)\n",
      "dense_8\n",
      "dense_7\n",
      "dense_6\n",
      "flatten_2\n",
      "input_3\n",
      "(14, 14, 3)\n",
      "dense_8\n",
      "dense_7\n",
      "dense_6\n",
      "flatten_2\n",
      "input_3\n",
      "(14, 14, 3)\n",
      "dense_8\n",
      "dense_7\n",
      "dense_6\n",
      "flatten_2\n",
      "input_3\n",
      "(14, 14, 3)\n",
      "dense_8\n",
      "dense_7\n",
      "dense_6\n",
      "flatten_2\n",
      "input_3\n",
      "(14, 14, 3)\n",
      "dense_8\n",
      "dense_7\n",
      "dense_6\n",
      "flatten_2\n",
      "input_3\n",
      "(14, 14, 3)\n",
      "dense_8\n",
      "dense_7\n",
      "dense_6\n",
      "flatten_2\n",
      "input_3\n",
      "(14, 14, 3)\n",
      "dense_8\n",
      "dense_7\n",
      "dense_6\n",
      "flatten_2\n",
      "input_3\n",
      "(14, 14, 3)\n",
      "dense_8\n",
      "dense_7\n",
      "dense_6\n",
      "flatten_2\n",
      "input_3\n",
      "(14, 14, 3)\n",
      "dense_8\n",
      "dense_7\n",
      "dense_6\n",
      "flatten_2\n",
      "input_3\n",
      "(14, 14, 3)\n",
      "dense_8\n",
      "dense_7\n",
      "dense_6\n",
      "flatten_2\n",
      "input_3\n",
      "(14, 14, 3)\n",
      "dense_8\n",
      "dense_7\n",
      "dense_6\n",
      "flatten_2\n",
      "input_3\n",
      "(14, 14, 3)\n",
      "dense_8\n",
      "dense_7\n",
      "dense_6\n",
      "flatten_2\n",
      "input_3\n",
      "(14, 14, 3)\n",
      "dense_8\n",
      "dense_7\n",
      "dense_6\n",
      "flatten_2\n",
      "input_3\n",
      "(14, 14, 3)\n",
      "dense_8\n",
      "dense_7\n",
      "dense_6\n",
      "flatten_2\n",
      "input_3\n",
      "(14, 14, 3)\n",
      "dense_8\n",
      "dense_7\n",
      "dense_6\n",
      "flatten_2\n",
      "input_3\n",
      "(14, 14, 3)\n",
      "dense_8\n",
      "dense_7\n",
      "dense_6\n",
      "flatten_2\n",
      "input_3\n",
      "(14, 14, 3)\n",
      "dense_8\n",
      "dense_7\n",
      "dense_6\n",
      "flatten_2\n",
      "input_3\n",
      "(14, 14, 3)\n",
      "dense_8\n",
      "dense_7\n",
      "dense_6\n",
      "flatten_2\n",
      "input_3\n",
      "(14, 14, 3)\n",
      "dense_8\n",
      "dense_7\n",
      "dense_6\n",
      "flatten_2\n",
      "input_3\n",
      "(14, 14, 3)\n",
      "dense_8\n",
      "dense_7\n",
      "dense_6\n",
      "flatten_2\n",
      "input_3\n",
      "(14, 14, 3)\n",
      "dense_8\n",
      "dense_7\n",
      "dense_6\n",
      "flatten_2\n",
      "input_3\n",
      "(14, 14, 3)\n",
      "dense_8\n",
      "dense_7\n",
      "dense_6\n",
      "flatten_2\n",
      "input_3\n",
      "(14, 14, 3)\n",
      "dense_8\n",
      "dense_7\n",
      "dense_6\n",
      "flatten_2\n",
      "input_3\n",
      "(14, 14, 3)\n",
      "dense_8\n",
      "dense_7\n",
      "dense_6\n",
      "flatten_2\n",
      "input_3\n",
      "(14, 14, 3)\n",
      "dense_8\n",
      "dense_7\n",
      "dense_6\n",
      "flatten_2\n",
      "input_3\n",
      "(14, 14, 3)\n",
      "dense_8\n",
      "dense_7\n",
      "dense_6\n",
      "flatten_2\n",
      "input_3\n",
      "(14, 14, 3)\n",
      "dense_8\n",
      "dense_7\n",
      "dense_6\n",
      "flatten_2\n",
      "input_3\n",
      "(14, 14, 3)\n",
      "dense_8\n",
      "dense_7\n",
      "dense_6\n",
      "flatten_2\n",
      "input_3\n",
      "(14, 14, 3)\n",
      "dense_8\n",
      "dense_7\n",
      "dense_6\n",
      "flatten_2\n",
      "input_3\n",
      "(14, 14, 3)\n",
      "dense_8\n",
      "dense_7\n",
      "dense_6\n",
      "flatten_2\n",
      "input_3\n",
      "(14, 14, 3)\n",
      "dense_8\n",
      "dense_7\n",
      "dense_6\n",
      "flatten_2\n",
      "input_3\n",
      "(14, 14, 3)\n",
      "dense_8\n",
      "dense_7\n",
      "dense_6\n",
      "flatten_2\n",
      "input_3\n",
      "(14, 14, 3)\n",
      "dense_8\n",
      "dense_7\n",
      "dense_6\n",
      "flatten_2\n",
      "input_3\n",
      "(14, 14, 3)\n",
      "dense_8\n",
      "dense_7\n",
      "dense_6\n",
      "flatten_2\n",
      "input_3\n",
      "(14, 14, 3)\n",
      "dense_8\n",
      "dense_7\n",
      "dense_6\n",
      "flatten_2\n",
      "input_3\n",
      "(14, 14, 3)\n",
      "dense_8\n",
      "dense_7\n",
      "dense_6\n",
      "flatten_2\n",
      "input_3\n",
      "(14, 14, 3)\n",
      "dense_8\n",
      "dense_7\n",
      "dense_6\n",
      "flatten_2\n",
      "input_3\n",
      "(14, 14, 3)\n",
      "dense_8\n",
      "dense_7\n",
      "dense_6\n",
      "flatten_2\n",
      "input_3\n",
      "(14, 14, 3)\n",
      "dense_8\n",
      "dense_7\n",
      "dense_6\n",
      "flatten_2\n",
      "input_3\n",
      "(14, 14, 3)\n",
      "dense_8\n",
      "dense_7\n",
      "dense_6\n",
      "flatten_2\n",
      "input_3\n",
      "(14, 14, 3)\n",
      "dense_8\n",
      "dense_7\n",
      "dense_6\n",
      "flatten_2\n",
      "input_3\n",
      "(14, 14, 3)\n",
      "dense_8\n",
      "dense_7\n",
      "dense_6\n",
      "flatten_2\n",
      "input_3\n",
      "(14, 14, 3)\n",
      "dense_8\n",
      "dense_7\n",
      "dense_6\n",
      "flatten_2\n",
      "input_3\n",
      "(14, 14, 3)\n",
      "dense_8\n",
      "dense_7\n",
      "dense_6\n",
      "flatten_2\n",
      "input_3\n",
      "(14, 14, 3)\n",
      "dense_8\n",
      "dense_7\n",
      "dense_6\n",
      "flatten_2\n",
      "input_3\n",
      "(14, 14, 3)\n",
      "dense_8\n",
      "dense_7\n",
      "dense_6\n",
      "flatten_2\n",
      "input_3\n",
      "(14, 14, 3)\n",
      "dense_8\n",
      "dense_7\n",
      "dense_6\n",
      "flatten_2\n",
      "input_3\n",
      "(14, 14, 3)\n",
      "dense_8\n",
      "dense_7\n",
      "dense_6\n",
      "flatten_2\n",
      "input_3\n",
      "(14, 14, 3)\n",
      "dense_8\n",
      "dense_7\n",
      "dense_6\n",
      "flatten_2\n",
      "input_3\n",
      "(14, 14, 3)\n",
      "dense_8\n",
      "dense_7\n",
      "dense_6\n",
      "flatten_2\n",
      "input_3\n",
      "(14, 14, 3)\n",
      "dense_8\n",
      "dense_7\n",
      "dense_6\n",
      "flatten_2\n",
      "input_3\n",
      "(14, 14, 3)\n",
      "dense_8\n",
      "dense_7\n",
      "dense_6\n",
      "flatten_2\n",
      "input_3\n",
      "(14, 14, 3)\n",
      "dense_8\n",
      "dense_7\n",
      "dense_6\n",
      "flatten_2\n",
      "input_3\n",
      "(14, 14, 3)\n",
      "dense_8\n",
      "dense_7\n",
      "dense_6\n",
      "flatten_2\n",
      "input_3\n",
      "(14, 14, 3)\n",
      "dense_8\n",
      "dense_7\n",
      "dense_6\n",
      "flatten_2\n",
      "input_3\n",
      "(14, 14, 3)\n"
     ]
    }
   ],
   "source": [
    "# GET EXPLS (N MOST CONTRIBUTING)\n",
    "ns = [11055,236,5575]\n",
    "\n",
    "\n",
    "sys.path.append(\"../GTSRB/LayerwiseRelevancePropagation/src\")\n",
    "from lrp import RelevancePropagation\n",
    "import math\n",
    "\n",
    "def round_nearest(x, a):\n",
    "    return round(round(x / a) * a, -int(math.floor(math.log10(a))))\n",
    "\n",
    "from itertools import chain, combinations\n",
    "\n",
    "def powerset(iterable):\n",
    "    s = list(iterable)\n",
    "    return chain.from_iterable(combinations(s, r) for r in range(len(s)+1))\n",
    "\n",
    "ns_exps = []\n",
    "for n in ns:\n",
    "    exps = []\n",
    "    X = X_train[n]\n",
    "    X = X.reshape(1,SCALE[0],SCALE[1],3)\n",
    "    for j in range(50):\n",
    "        bayes_model.set_weights(bayes_model.sample())\n",
    "        y = np.argmax(np.array(bayes_model._predict(X)).flatten())\n",
    "\n",
    "        lrp = RelevancePropagation(0.05,'max',True,X.shape,bayes_model.model)\n",
    "        exp = lrp.run(X.reshape(*X.shape[1:]))\n",
    "        #plt.imshow(exp,vmin=0,vmax=1)\n",
    "        #plt.show()\n",
    "\n",
    "        exp_pop_flat = np.array([i for i in exp.flatten().flatten() if i > 0])\n",
    "        max_rel = np.max(exp_pop_flat)\n",
    "        av_rel = np.mean(exp_pop_flat)\n",
    "        var_rel = np.var(exp_pop_flat)\n",
    "        #print('Over populated spaces:')\n",
    "        #print('Max:',max_rel,'Average:',av_rel,'Variance:',var_rel)\n",
    "\n",
    "        limit = 0.6*max_rel\n",
    "        #limit = 0\n",
    "        exp[exp < limit] = 0\n",
    "        exp[exp > 0] = 1\n",
    "        #plt.imshow(exp)\n",
    "        #plt.show()\n",
    "        exps.append(exp)\n",
    "    ns_exps.append(exps)\n"
   ]
  },
  {
   "cell_type": "code",
   "execution_count": 69,
   "id": "a624e5e2",
   "metadata": {},
   "outputs": [
    {
     "data": {
      "image/png": "[encoded data removed]",
      "text/plain": [
       "<Figure size 432x288 with 1 Axes>"
      ]
     },
     "metadata": {
      "needs_background": "light"
     },
     "output_type": "display_data"
    },
    {
     "name": "stdout",
     "output_type": "stream",
     "text": [
      "1 2.0\n"
     ]
    },
    {
     "data": {
      "image/png": "[encoded data removed]",
      "text/plain": [
       "<Figure size 432x288 with 1 Axes>"
      ]
     },
     "metadata": {
      "needs_background": "light"
     },
     "output_type": "display_data"
    },
    {
     "name": "stdout",
     "output_type": "stream",
     "text": [
      "2 4.0\n"
     ]
    },
    {
     "data": {
      "image/png": "[encoded data removed]",
      "text/plain": [
       "<Figure size 432x288 with 1 Axes>"
      ]
     },
     "metadata": {
      "needs_background": "light"
     },
     "output_type": "display_data"
    },
    {
     "name": "stdout",
     "output_type": "stream",
     "text": [
      "2 4.0\n"
     ]
    }
   ],
   "source": [
    "for exps in ns_exps:\n",
    "    cmap = dict()\n",
    "    names = []\n",
    "    es = []\n",
    "    for e in exps:\n",
    "        if not str(e) in names:\n",
    "            names.append(str(e))\n",
    "            es.append(e)\n",
    "            cmap[names.index(str(e))] = 0\n",
    "        cmap[names.index(str(e))] += 1\n",
    "\n",
    "    res = max(cmap,key=cmap.get)\n",
    "    res_image = es[res]\n",
    "    plt.imshow(res_image)\n",
    "    plt.axis('off')\n",
    "    plt.show()\n",
    "    cov = (cmap[res]/50)*100\n",
    "\n",
    "    print(cmap[res],cov)"
   ]
  },
  {
   "cell_type": "code",
   "execution_count": 9,
   "id": "c7feefec",
   "metadata": {},
   "outputs": [
    {
     "data": {
      "image/png": "[encoded data removed]",
      "text/plain": [
       "<Figure size 432x288 with 1 Axes>"
      ]
     },
     "metadata": {
      "needs_background": "light"
     },
     "output_type": "display_data"
    },
    {
     "data": {
      "image/png": "[encoded data removed]",
      "text/plain": [
       "<Figure size 432x288 with 1 Axes>"
      ]
     },
     "metadata": {
      "needs_background": "light"
     },
     "output_type": "display_data"
    },
    {
     "data": {
      "image/png": "[encoded data removed]",
      "text/plain": [
       "<Figure size 432x288 with 1 Axes>"
      ]
     },
     "metadata": {
      "needs_background": "light"
     },
     "output_type": "display_data"
    },
    {
     "data": {
      "image/png": "[encoded data removed]",
      "text/plain": [
       "<Figure size 432x288 with 1 Axes>"
      ]
     },
     "metadata": {
      "needs_background": "light"
     },
     "output_type": "display_data"
    },
    {
     "data": {
      "image/png": "[encoded data removed]",
      "text/plain": [
       "<Figure size 432x288 with 1 Axes>"
      ]
     },
     "metadata": {
      "needs_background": "light"
     },
     "output_type": "display_data"
    },
    {
     "data": {
      "image/png": "[encoded data removed]",
      "text/plain": [
       "<Figure size 432x288 with 1 Axes>"
      ]
     },
     "metadata": {
      "needs_background": "light"
     },
     "output_type": "display_data"
    },
    {
     "data": {
      "image/png": "[encoded data removed]",
      "text/plain": [
       "<Figure size 432x288 with 1 Axes>"
      ]
     },
     "metadata": {
      "needs_background": "light"
     },
     "output_type": "display_data"
    },
    {
     "data": {
      "image/png": "[encoded data removed]",
      "text/plain": [
       "<Figure size 432x288 with 1 Axes>"
      ]
     },
     "metadata": {
      "needs_background": "light"
     },
     "output_type": "display_data"
    },
    {
     "data": {
      "image/png": "[encoded data removed]",
      "text/plain": [
       "<Figure size 432x288 with 1 Axes>"
      ]
     },
     "metadata": {
      "needs_background": "light"
     },
     "output_type": "display_data"
    },
    {
     "data": {
      "image/png": "[encoded data removed]",
      "text/plain": [
       "<Figure size 432x288 with 1 Axes>"
      ]
     },
     "metadata": {
      "needs_background": "light"
     },
     "output_type": "display_data"
    },
    {
     "data": {
      "image/png": "[encoded data removed]",
      "text/plain": [
       "<Figure size 432x288 with 1 Axes>"
      ]
     },
     "metadata": {
      "needs_background": "light"
     },
     "output_type": "display_data"
    },
    {
     "data": {
      "image/png": "[encoded data removed]",
      "text/plain": [
       "<Figure size 432x288 with 1 Axes>"
      ]
     },
     "metadata": {
      "needs_background": "light"
     },
     "output_type": "display_data"
    },
    {
     "data": {
      "image/png": "[encoded data removed]",
      "text/plain": [
       "<Figure size 432x288 with 1 Axes>"
      ]
     },
     "metadata": {
      "needs_background": "light"
     },
     "output_type": "display_data"
    },
    {
     "data": {
      "image/png": "[encoded data removed]",
      "text/plain": [
       "<Figure size 432x288 with 1 Axes>"
      ]
     },
     "metadata": {
      "needs_background": "light"
     },
     "output_type": "display_data"
    },
    {
     "data": {
      "image/png": "[encoded data removed]",
      "text/plain": [
       "<Figure size 432x288 with 1 Axes>"
      ]
     },
     "metadata": {
      "needs_background": "light"
     },
     "output_type": "display_data"
    },
    {
     "data": {
      "image/png": "[encoded data removed]",
      "text/plain": [
       "<Figure size 432x288 with 1 Axes>"
      ]
     },
     "metadata": {
      "needs_background": "light"
     },
     "output_type": "display_data"
    },
    {
     "data": {
      "image/png": "[encoded data removed]",
      "text/plain": [
       "<Figure size 432x288 with 1 Axes>"
      ]
     },
     "metadata": {
      "needs_background": "light"
     },
     "output_type": "display_data"
    },
    {
     "data": {
      "image/png": "[encoded data removed]",
      "text/plain": [
       "<Figure size 432x288 with 1 Axes>"
      ]
     },
     "metadata": {
      "needs_background": "light"
     },
     "output_type": "display_data"
    },
    {
     "data": {
      "image/png": "[encoded data removed]",
      "text/plain": [
       "<Figure size 432x288 with 1 Axes>"
      ]
     },
     "metadata": {
      "needs_background": "light"
     },
     "output_type": "display_data"
    },
    {
     "data": {
      "image/png": "[encoded data removed]",
      "text/plain": [
       "<Figure size 432x288 with 1 Axes>"
      ]
     },
     "metadata": {
      "needs_background": "light"
     },
     "output_type": "display_data"
    },
    {
     "data": {
      "image/png": "[encoded data removed]",
      "text/plain": [
       "<Figure size 432x288 with 1 Axes>"
      ]
     },
     "metadata": {
      "needs_background": "light"
     },
     "output_type": "display_data"
    },
    {
     "data": {
      "image/png": "[encoded data removed]",
      "text/plain": [
       "<Figure size 432x288 with 1 Axes>"
      ]
     },
     "metadata": {
      "needs_background": "light"
     },
     "output_type": "display_data"
    },
    {
     "data": {
      "image/png": "[encoded data removed]",
      "text/plain": [
       "<Figure size 432x288 with 1 Axes>"
      ]
     },
     "metadata": {
      "needs_background": "light"
     },
     "output_type": "display_data"
    },
    {
     "data": {
      "image/png": "[encoded data removed]",
      "text/plain": [
       "<Figure size 432x288 with 1 Axes>"
      ]
     },
     "metadata": {
      "needs_background": "light"
     },
     "output_type": "display_data"
    },
    {
     "data": {
      "image/png": "[encoded data removed]",
      "text/plain": [
       "<Figure size 432x288 with 1 Axes>"
      ]
     },
     "metadata": {
      "needs_background": "light"
     },
     "output_type": "display_data"
    },
    {
     "data": {
      "image/png": "[encoded data removed]",
      "text/plain": [
       "<Figure size 432x288 with 1 Axes>"
      ]
     },
     "metadata": {
      "needs_background": "light"
     },
     "output_type": "display_data"
    },
    {
     "data": {
      "image/png": "[encoded data removed]",
      "text/plain": [
       "<Figure size 432x288 with 1 Axes>"
      ]
     },
     "metadata": {
      "needs_background": "light"
     },
     "output_type": "display_data"
    },
    {
     "data": {
      "image/png": "[encoded data removed]",
      "text/plain": [
       "<Figure size 432x288 with 1 Axes>"
      ]
     },
     "metadata": {
      "needs_background": "light"
     },
     "output_type": "display_data"
    },
    {
     "data": {
      "image/png": "[encoded data removed]",
      "text/plain": [
       "<Figure size 432x288 with 1 Axes>"
      ]
     },
     "metadata": {
      "needs_background": "light"
     },
     "output_type": "display_data"
    },
    {
     "data": {
      "image/png": "[encoded data removed]",
      "text/plain": [
       "<Figure size 432x288 with 1 Axes>"
      ]
     },
     "metadata": {
      "needs_background": "light"
     },
     "output_type": "display_data"
    },
    {
     "data": {
      "image/png": "[encoded data removed]",
      "text/plain": [
       "<Figure size 432x288 with 1 Axes>"
      ]
     },
     "metadata": {
      "needs_background": "light"
     },
     "output_type": "display_data"
    },
    {
     "data": {
      "image/png": "[encoded data removed]",
      "text/plain": [
       "<Figure size 432x288 with 1 Axes>"
      ]
     },
     "metadata": {
      "needs_background": "light"
     },
     "output_type": "display_data"
    },
    {
     "data": {
      "image/png": "[encoded data removed]",
      "text/plain": [
       "<Figure size 432x288 with 1 Axes>"
      ]
     },
     "metadata": {
      "needs_background": "light"
     },
     "output_type": "display_data"
    },
    {
     "data": {
      "image/png": "[encoded data removed]",
      "text/plain": [
       "<Figure size 432x288 with 1 Axes>"
      ]
     },
     "metadata": {
      "needs_background": "light"
     },
     "output_type": "display_data"
    },
    {
     "data": {
      "image/png": "[encoded data removed]",
      "text/plain": [
       "<Figure size 432x288 with 1 Axes>"
      ]
     },
     "metadata": {
      "needs_background": "light"
     },
     "output_type": "display_data"
    },
    {
     "data": {
      "image/png": "[encoded data removed]",
      "text/plain": [
       "<Figure size 432x288 with 1 Axes>"
      ]
     },
     "metadata": {
      "needs_background": "light"
     },
     "output_type": "display_data"
    },
    {
     "data": {
      "image/png": "[encoded data removed]",
      "text/plain": [
       "<Figure size 432x288 with 1 Axes>"
      ]
     },
     "metadata": {
      "needs_background": "light"
     },
     "output_type": "display_data"
    },
    {
     "data": {
      "image/png": "[encoded data removed]",
      "text/plain": [
       "<Figure size 432x288 with 1 Axes>"
      ]
     },
     "metadata": {
      "needs_background": "light"
     },
     "output_type": "display_data"
    },
    {
     "data": {
      "image/png": "[encoded data removed]",
      "text/plain": [
       "<Figure size 432x288 with 1 Axes>"
      ]
     },
     "metadata": {
      "needs_background": "light"
     },
     "output_type": "display_data"
    },
    {
     "data": {
      "image/png": "[encoded data removed]",
      "text/plain": [
       "<Figure size 432x288 with 1 Axes>"
      ]
     },
     "metadata": {
      "needs_background": "light"
     },
     "output_type": "display_data"
    },
    {
     "data": {
      "image/png": "[encoded data removed]",
      "text/plain": [
       "<Figure size 432x288 with 1 Axes>"
      ]
     },
     "metadata": {
      "needs_background": "light"
     },
     "output_type": "display_data"
    },
    {
     "data": {
      "image/png": "[encoded data removed]",
      "text/plain": [
       "<Figure size 432x288 with 1 Axes>"
      ]
     },
     "metadata": {
      "needs_background": "light"
     },
     "output_type": "display_data"
    },
    {
     "data": {
      "image/png": "[encoded data removed]",
      "text/plain": [
       "<Figure size 432x288 with 1 Axes>"
      ]
     },
     "metadata": {
      "needs_background": "light"
     },
     "output_type": "display_data"
    },
    {
     "data": {
      "image/png": "[encoded data removed]",
      "text/plain": [
       "<Figure size 432x288 with 1 Axes>"
      ]
     },
     "metadata": {
      "needs_background": "light"
     },
     "output_type": "display_data"
    },
    {
     "data": {
      "image/png": "[encoded data removed]",
      "text/plain": [
       "<Figure size 432x288 with 1 Axes>"
      ]
     },
     "metadata": {
      "needs_background": "light"
     },
     "output_type": "display_data"
    },
    {
     "data": {
      "image/png": "[encoded data removed]",
      "text/plain": [
       "<Figure size 432x288 with 1 Axes>"
      ]
     },
     "metadata": {
      "needs_background": "light"
     },
     "output_type": "display_data"
    },
    {
     "data": {
      "image/png": "[encoded data removed]",
      "text/plain": [
       "<Figure size 432x288 with 1 Axes>"
      ]
     },
     "metadata": {
      "needs_background": "light"
     },
     "output_type": "display_data"
    },
    {
     "data": {
      "image/png": "[encoded data removed]",
      "text/plain": [
       "<Figure size 432x288 with 1 Axes>"
      ]
     },
     "metadata": {
      "needs_background": "light"
     },
     "output_type": "display_data"
    },
    {
     "data": {
      "image/png": "[encoded data removed]",
      "text/plain": [
       "<Figure size 432x288 with 1 Axes>"
      ]
     },
     "metadata": {
      "needs_background": "light"
     },
     "output_type": "display_data"
    },
    {
     "data": {
      "image/png": "[encoded data removed]",
      "text/plain": [
       "<Figure size 432x288 with 1 Axes>"
      ]
     },
     "metadata": {
      "needs_background": "light"
     },
     "output_type": "display_data"
    },
    {
     "data": {
      "image/png": "[encoded data removed]",
      "text/plain": [
       "<Figure size 432x288 with 1 Axes>"
      ]
     },
     "metadata": {
      "needs_background": "light"
     },
     "output_type": "display_data"
    },
    {
     "data": {
      "image/png": "[encoded data removed]",
      "text/plain": [
       "<Figure size 432x288 with 1 Axes>"
      ]
     },
     "metadata": {
      "needs_background": "light"
     },
     "output_type": "display_data"
    },
    {
     "data": {
      "image/png": "[encoded data removed]",
      "text/plain": [
       "<Figure size 432x288 with 1 Axes>"
      ]
     },
     "metadata": {
      "needs_background": "light"
     },
     "output_type": "display_data"
    },
    {
     "data": {
      "image/png": "[encoded data removed]",
      "text/plain": [
       "<Figure size 432x288 with 1 Axes>"
      ]
     },
     "metadata": {
      "needs_background": "light"
     },
     "output_type": "display_data"
    },
    {
     "data": {
      "image/png": "[encoded data removed]",
      "text/plain": [
       "<Figure size 432x288 with 1 Axes>"
      ]
     },
     "metadata": {
      "needs_background": "light"
     },
     "output_type": "display_data"
    },
    {
     "data": {
      "image/png": "[encoded data removed]",
      "text/plain": [
       "<Figure size 432x288 with 1 Axes>"
      ]
     },
     "metadata": {
      "needs_background": "light"
     },
     "output_type": "display_data"
    },
    {
     "data": {
      "image/png": "[encoded data removed]",
      "text/plain": [
       "<Figure size 432x288 with 1 Axes>"
      ]
     },
     "metadata": {
      "needs_background": "light"
     },
     "output_type": "display_data"
    },
    {
     "data": {
      "image/png": "[encoded data removed]",
      "text/plain": [
       "<Figure size 432x288 with 1 Axes>"
      ]
     },
     "metadata": {
      "needs_background": "light"
     },
     "output_type": "display_data"
    },
    {
     "data": {
      "image/png": "[encoded data removed]",
      "text/plain": [
       "<Figure size 432x288 with 1 Axes>"
      ]
     },
     "metadata": {
      "needs_background": "light"
     },
     "output_type": "display_data"
    },
    {
     "data": {
      "image/png": "[encoded data removed]",
      "text/plain": [
       "<Figure size 432x288 with 1 Axes>"
      ]
     },
     "metadata": {
      "needs_background": "light"
     },
     "output_type": "display_data"
    },
    {
     "data": {
      "image/png": "[encoded data removed]",
      "text/plain": [
       "<Figure size 432x288 with 1 Axes>"
      ]
     },
     "metadata": {
      "needs_background": "light"
     },
     "output_type": "display_data"
    },
    {
     "data": {
      "image/png": "[encoded data removed]",
      "text/plain": [
       "<Figure size 432x288 with 1 Axes>"
      ]
     },
     "metadata": {
      "needs_background": "light"
     },
     "output_type": "display_data"
    },
    {
     "data": {
      "image/png": "[encoded data removed]",
      "text/plain": [
       "<Figure size 432x288 with 1 Axes>"
      ]
     },
     "metadata": {
      "needs_background": "light"
     },
     "output_type": "display_data"
    },
    {
     "data": {
      "image/png": "[encoded data removed]",
      "text/plain": [
       "<Figure size 432x288 with 1 Axes>"
      ]
     },
     "metadata": {
      "needs_background": "light"
     },
     "output_type": "display_data"
    },
    {
     "data": {
      "image/png": "[encoded data removed]",
      "text/plain": [
       "<Figure size 432x288 with 1 Axes>"
      ]
     },
     "metadata": {
      "needs_background": "light"
     },
     "output_type": "display_data"
    },
    {
     "data": {
      "image/png": "[encoded data removed]",
      "text/plain": [
       "<Figure size 432x288 with 1 Axes>"
      ]
     },
     "metadata": {
      "needs_background": "light"
     },
     "output_type": "display_data"
    },
    {
     "data": {
      "image/png": "[encoded data removed]",
      "text/plain": [
       "<Figure size 432x288 with 1 Axes>"
      ]
     },
     "metadata": {
      "needs_background": "light"
     },
     "output_type": "display_data"
    },
    {
     "data": {
      "image/png": "[encoded data removed]",
      "text/plain": [
       "<Figure size 432x288 with 1 Axes>"
      ]
     },
     "metadata": {
      "needs_background": "light"
     },
     "output_type": "display_data"
    },
    {
     "data": {
      "image/png": "[encoded data removed]",
      "text/plain": [
       "<Figure size 432x288 with 1 Axes>"
      ]
     },
     "metadata": {
      "needs_background": "light"
     },
     "output_type": "display_data"
    },
    {
     "data": {
      "image/png": "[encoded data removed]",
      "text/plain": [
       "<Figure size 432x288 with 1 Axes>"
      ]
     },
     "metadata": {
      "needs_background": "light"
     },
     "output_type": "display_data"
    },
    {
     "data": {
      "image/png": "[encoded data removed]",
      "text/plain": [
       "<Figure size 432x288 with 1 Axes>"
      ]
     },
     "metadata": {
      "needs_background": "light"
     },
     "output_type": "display_data"
    },
    {
     "data": {
      "image/png": "[encoded data removed]",
      "text/plain": [
       "<Figure size 432x288 with 1 Axes>"
      ]
     },
     "metadata": {
      "needs_background": "light"
     },
     "output_type": "display_data"
    },
    {
     "data": {
      "image/png": "[encoded data removed]",
      "text/plain": [
       "<Figure size 432x288 with 1 Axes>"
      ]
     },
     "metadata": {
      "needs_background": "light"
     },
     "output_type": "display_data"
    },
    {
     "data": {
      "image/png": "[encoded data removed]",
      "text/plain": [
       "<Figure size 432x288 with 1 Axes>"
      ]
     },
     "metadata": {
      "needs_background": "light"
     },
     "output_type": "display_data"
    },
    {
     "data": {
      "image/png": "[encoded data removed]",
      "text/plain": [
       "<Figure size 432x288 with 1 Axes>"
      ]
     },
     "metadata": {
      "needs_background": "light"
     },
     "output_type": "display_data"
    },
    {
     "data": {
      "image/png": "[encoded data removed]",
      "text/plain": [
       "<Figure size 432x288 with 1 Axes>"
      ]
     },
     "metadata": {
      "needs_background": "light"
     },
     "output_type": "display_data"
    },
    {
     "data": {
      "image/png": "[encoded data removed]",
      "text/plain": [
       "<Figure size 432x288 with 1 Axes>"
      ]
     },
     "metadata": {
      "needs_background": "light"
     },
     "output_type": "display_data"
    },
    {
     "data": {
      "image/png": "[encoded data removed]",
      "text/plain": [
       "<Figure size 432x288 with 1 Axes>"
      ]
     },
     "metadata": {
      "needs_background": "light"
     },
     "output_type": "display_data"
    },
    {
     "data": {
      "image/png": "[encoded data removed]",
      "text/plain": [
       "<Figure size 432x288 with 1 Axes>"
      ]
     },
     "metadata": {
      "needs_background": "light"
     },
     "output_type": "display_data"
    },
    {
     "data": {
      "image/png": "[encoded data removed]",
      "text/plain": [
       "<Figure size 432x288 with 1 Axes>"
      ]
     },
     "metadata": {
      "needs_background": "light"
     },
     "output_type": "display_data"
    },
    {
     "data": {
      "image/png": "[encoded data removed]",
      "text/plain": [
       "<Figure size 432x288 with 1 Axes>"
      ]
     },
     "metadata": {
      "needs_background": "light"
     },
     "output_type": "display_data"
    },
    {
     "data": {
      "image/png": "[encoded data removed]",
      "text/plain": [
       "<Figure size 432x288 with 1 Axes>"
      ]
     },
     "metadata": {
      "needs_background": "light"
     },
     "output_type": "display_data"
    },
    {
     "data": {
      "image/png": "[encoded data removed]",
      "text/plain": [
       "<Figure size 432x288 with 1 Axes>"
      ]
     },
     "metadata": {
      "needs_background": "light"
     },
     "output_type": "display_data"
    },
    {
     "data": {
      "image/png": "[encoded data removed]",
      "text/plain": [
       "<Figure size 432x288 with 1 Axes>"
      ]
     },
     "metadata": {
      "needs_background": "light"
     },
     "output_type": "display_data"
    },
    {
     "data": {
      "image/png": "[encoded data removed]",
      "text/plain": [
       "<Figure size 432x288 with 1 Axes>"
      ]
     },
     "metadata": {
      "needs_background": "light"
     },
     "output_type": "display_data"
    },
    {
     "data": {
      "image/png": "[encoded data removed]",
      "text/plain": [
       "<Figure size 432x288 with 1 Axes>"
      ]
     },
     "metadata": {
      "needs_background": "light"
     },
     "output_type": "display_data"
    },
    {
     "data": {
      "image/png": "[encoded data removed]",
      "text/plain": [
       "<Figure size 432x288 with 1 Axes>"
      ]
     },
     "metadata": {
      "needs_background": "light"
     },
     "output_type": "display_data"
    },
    {
     "data": {
      "image/png": "[encoded data removed]",
      "text/plain": [
       "<Figure size 432x288 with 1 Axes>"
      ]
     },
     "metadata": {
      "needs_background": "light"
     },
     "output_type": "display_data"
    },
    {
     "data": {
      "image/png": "[encoded data removed]",
      "text/plain": [
       "<Figure size 432x288 with 1 Axes>"
      ]
     },
     "metadata": {
      "needs_background": "light"
     },
     "output_type": "display_data"
    },
    {
     "data": {
      "image/png": "[encoded data removed]",
      "text/plain": [
       "<Figure size 432x288 with 1 Axes>"
      ]
     },
     "metadata": {
      "needs_background": "light"
     },
     "output_type": "display_data"
    },
    {
     "data": {
      "image/png": "[encoded data removed]",
      "text/plain": [
       "<Figure size 432x288 with 1 Axes>"
      ]
     },
     "metadata": {
      "needs_background": "light"
     },
     "output_type": "display_data"
    },
    {
     "data": {
      "image/png": "[encoded data removed]",
      "text/plain": [
       "<Figure size 432x288 with 1 Axes>"
      ]
     },
     "metadata": {
      "needs_background": "light"
     },
     "output_type": "display_data"
    },
    {
     "data": {
      "image/png": "[encoded data removed]",
      "text/plain": [
       "<Figure size 432x288 with 1 Axes>"
      ]
     },
     "metadata": {
      "needs_background": "light"
     },
     "output_type": "display_data"
    },
    {
     "data": {
      "image/png": "[encoded data removed]",
      "text/plain": [
       "<Figure size 432x288 with 1 Axes>"
      ]
     },
     "metadata": {
      "needs_background": "light"
     },
     "output_type": "display_data"
    }
   ],
   "source": [
    "for c in candidates:\n",
    "    tmp_exp = np.zeros((SCALE[0],SCALE[1]))\n",
    "    for (y,x) in c:\n",
    "        tmp_exp[y][x] = 1\n",
    "    plt.imshow(tmp_exp)\n",
    "    plt.show()"
   ]
  },
  {
   "cell_type": "code",
   "execution_count": 32,
   "id": "500352e0",
   "metadata": {},
   "outputs": [
    {
     "name": "stdout",
     "output_type": "stream",
     "text": [
      "dense_8\n",
      "dense_7\n",
      "dense_6\n",
      "flatten_2\n",
      "input_3\n",
      "(14, 14, 3)\n"
     ]
    },
    {
     "data": {
      "image/png": "[encoded data removed]",
      "text/plain": [
       "<Figure size 432x288 with 1 Axes>"
      ]
     },
     "metadata": {
      "needs_background": "light"
     },
     "output_type": "display_data"
    },
    {
     "name": "stdout",
     "output_type": "stream",
     "text": [
      "Over populated spaces:\n",
      "Max: 1.0 Average: 0.3572924425024421 Variance: 0.07597203896310697\n",
      "0.0\n"
     ]
    },
    {
     "data": {
      "image/png": "[encoded data removed]",
      "text/plain": [
       "<Figure size 432x288 with 1 Axes>"
      ]
     },
     "metadata": {
      "needs_background": "light"
     },
     "output_type": "display_data"
    },
    {
     "name": "stdout",
     "output_type": "stream",
     "text": [
      "13.899348556821803\n",
      "150\n"
     ]
    }
   ],
   "source": [
    "# GET EXPLS, ARBRITRARY CONTRIBUTING OVER SCORE (bens method)\n",
    "\n",
    "sys.path.append(\"../GTSRB/LayerwiseRelevancePropagation/src\")\n",
    "from lrp import RelevancePropagation\n",
    "import math\n",
    "\n",
    "def round_nearest(x, a):\n",
    "    return round(round(x / a) * a, -int(math.floor(math.log10(a))))\n",
    "\n",
    "from itertools import chain, combinations\n",
    "\n",
    "def powerset(iterable):\n",
    "    s = list(iterable)\n",
    "    return chain.from_iterable(combinations(s, r) for r in range(len(s)+1))\n",
    "\n",
    "bayes_model.set_weights(bayes_model.sample())\n",
    "X = X.reshape(1,SCALE[0],SCALE[1],3)\n",
    "y = np.argmax(np.array(bayes_model._predict(X)).flatten())\n",
    "\n",
    "lrp = RelevancePropagation(0.05,'max',True,X.shape,bayes_model.model)\n",
    "exp = lrp.run(X.reshape(*X.shape[1:]))\n",
    "plt.imshow(exp,vmin=0,vmax=1)\n",
    "plt.show()\n",
    "\n",
    "exp_pop_flat = np.array([i for i in exp.flatten().flatten() if i > 0])\n",
    "max_rel = np.max(exp_pop_flat)\n",
    "av_rel = np.mean(exp_pop_flat)\n",
    "var_rel = np.var(exp_pop_flat)\n",
    "print('Over populated spaces:')\n",
    "print('Max:',max_rel,'Average:',av_rel,'Variance:',var_rel)\n",
    "print(np.min(exp))\n",
    "\n",
    "limit =0.6*max_rel\n",
    "exp[exp < limit] = 0\n",
    "plt.imshow(exp)\n",
    "plt.show()\n",
    "\n",
    "from memo import memo\n",
    "\n",
    "@memo\n",
    "def generate_min_exps(expl,threshold):\n",
    "    exps = []\n",
    "    for i in range(len(expl)):\n",
    "        orig_expl = expl\n",
    "        if orig_expl[i] == 0:\n",
    "            continue\n",
    "        else:\n",
    "            if i == len(expl) - 1:\n",
    "                s = sum(orig_expl[:i])\n",
    "            else:\n",
    "                s = sum(orig_expl[:i])+sum(orig_expl[i+1:])\n",
    "            if s < threshold:\n",
    "                exps.append(expl)\n",
    "                break\n",
    "            else:\n",
    "                new_expl = tuple(orig_expl[:i]) + (0,)\n",
    "                if i < len(expl)-1:\n",
    "                    new_expl = new_expl + tuple(orig_expl[i+1:])\n",
    "                new_exps = generate_min_exps(new_expl,threshold)\n",
    "                exps += new_exps\n",
    "    return exps\n",
    "\n",
    "\n",
    "\n",
    "print(np.sum(exp))\n",
    "exp_list = set(generate_min_exps(tuple(exp.flatten()),0.9*np.sum(exp)))\n",
    "print(len(exp_list))\n"
   ]
  },
  {
   "cell_type": "code",
   "execution_count": 33,
   "id": "094f148f",
   "metadata": {},
   "outputs": [
    {
     "data": {
      "image/png": "[encoded data removed]",
      "text/plain": [
       "<Figure size 432x288 with 1 Axes>"
      ]
     },
     "metadata": {
      "needs_background": "light"
     },
     "output_type": "display_data"
    },
    {
     "data": {
      "image/png": "[encoded data removed]",
      "text/plain": [
       "<Figure size 432x288 with 1 Axes>"
      ]
     },
     "metadata": {
      "needs_background": "light"
     },
     "output_type": "display_data"
    },
    {
     "data": {
      "image/png": "[encoded data removed]",
      "text/plain": [
       "<Figure size 432x288 with 1 Axes>"
      ]
     },
     "metadata": {
      "needs_background": "light"
     },
     "output_type": "display_data"
    },
    {
     "data": {
      "image/png": "[encoded data removed]",
      "text/plain": [
       "<Figure size 432x288 with 1 Axes>"
      ]
     },
     "metadata": {
      "needs_background": "light"
     },
     "output_type": "display_data"
    },
    {
     "data": {
      "image/png": "[encoded data removed]",
      "text/plain": [
       "<Figure size 432x288 with 1 Axes>"
      ]
     },
     "metadata": {
      "needs_background": "light"
     },
     "output_type": "display_data"
    },
    {
     "data": {
      "image/png": "[encoded data removed]",
      "text/plain": [
       "<Figure size 432x288 with 1 Axes>"
      ]
     },
     "metadata": {
      "needs_background": "light"
     },
     "output_type": "display_data"
    },
    {
     "data": {
      "image/png": "[encoded data removed]",
      "text/plain": [
       "<Figure size 432x288 with 1 Axes>"
      ]
     },
     "metadata": {
      "needs_background": "light"
     },
     "output_type": "display_data"
    },
    {
     "data": {
      "image/png": "[encoded data removed]",
      "text/plain": [
       "<Figure size 432x288 with 1 Axes>"
      ]
     },
     "metadata": {
      "needs_background": "light"
     },
     "output_type": "display_data"
    },
    {
     "data": {
      "image/png": "[encoded data removed]",
      "text/plain": [
       "<Figure size 432x288 with 1 Axes>"
      ]
     },
     "metadata": {
      "needs_background": "light"
     },
     "output_type": "display_data"
    },
    {
     "data": {
      "image/png": "[encoded data removed]",
      "text/plain": [
       "<Figure size 432x288 with 1 Axes>"
      ]
     },
     "metadata": {
      "needs_background": "light"
     },
     "output_type": "display_data"
    }
   ],
   "source": [
    "exp_list = list(set(exp_list))\n",
    "for e in exp_list[:10]:\n",
    "    e = np.array(e)\n",
    "    e = e.reshape(SCALE[0],SCALE[1])\n",
    "    plt.imshow(e)\n",
    "    plt.show()"
   ]
  },
  {
   "cell_type": "code",
   "execution_count": 93,
   "id": "c2f86bbe",
   "metadata": {},
   "outputs": [],
   "source": [
    "input_path = 'X.npy'\n",
    "y_path = 'y.npy'\n",
    "output_path = f'exps/exps_ben{n}'\n",
    "if not os.path.exists(output_path):\n",
    "    os.mkdir(output_path)\n",
    "np.save(os.path.join(output_path,input_path),X,False)\n",
    "np.save(os.path.join(output_path,y_path),y_hat,False)\n",
    "\n",
    "thresh = 0.88\n",
    "\n",
    "iterations = 50\n",
    "for i in range(iterations):\n",
    "    subprocess.Popen(['python3','get_ben_mnist_exp.py',str(i),model_name,os.path.join(output_path,input_path),output_path, str(SCALE[0]), str(SCALE[1]), str(thresh)])\n",
    "    \n",
    "full = False \n",
    "while not full:\n",
    "    if len([name for name in os.listdir(output_path) if os.path.isfile(os.path.join(output_path, name))]) >= iterations+1:\n",
    "        full = True"
   ]
  },
  {
   "cell_type": "code",
   "execution_count": 95,
   "id": "fd24c0df",
   "metadata": {},
   "outputs": [
    {
     "name": "stdout",
     "output_type": "stream",
     "text": [
      "0.08695652173913043 46\n"
     ]
    },
    {
     "data": {
      "image/png": "[encoded data removed]",
      "text/plain": [
       "<Figure size 432x288 with 1 Axes>"
      ]
     },
     "metadata": {
      "needs_background": "light"
     },
     "output_type": "display_data"
    },
    {
     "name": "stdout",
     "output_type": "stream",
     "text": [
      "0.04 50\n"
     ]
    },
    {
     "data": {
      "image/png": "[encoded data removed]",
      "text/plain": [
       "<Figure size 432x288 with 1 Axes>"
      ]
     },
     "metadata": {
      "needs_background": "light"
     },
     "output_type": "display_data"
    },
    {
     "name": "stdout",
     "output_type": "stream",
     "text": [
      "0.18 50\n"
     ]
    },
    {
     "data": {
      "image/png": "[encoded data removed]",
      "text/plain": [
       "<Figure size 432x288 with 1 Axes>"
      ]
     },
     "metadata": {
      "needs_background": "light"
     },
     "output_type": "display_data"
    }
   ],
   "source": [
    "import ast\n",
    "\n",
    "ns = [11055,236,5575]\n",
    "preds = [y_train[ns[0]],y_train[ns[1]],y_train[ns[2]]]\n",
    "for idx,en in enumerate(ns):\n",
    "    all_exps = []\n",
    "    path = f'exps/exps_ben{en}'\n",
    "    for file in os.listdir(path):\n",
    "        if file[:-4].endswith(f'_{preds[idx]}'):\n",
    "            e = np.load(os.path.join(path,file),allow_pickle=True)\n",
    "            all_exps.append(e)\n",
    "    net_count = len(all_exps)\n",
    "    #print(net_count)\n",
    "    coverage_map = dict()\n",
    "    for exp_list in all_exps:\n",
    "        exp_list = '['+str(exp_list)[1:-1]+']'\n",
    "        exp_list = ast.literal_eval(exp_list)\n",
    "        exp_list = np.array([np.array(inner) for inner in exp_list])\n",
    "        exp_list[exp_list>0] = 1\n",
    "        exp_list = [list(inner) for inner in exp_list]\n",
    "        for exp in exp_list:\n",
    "            if not str(exp) in coverage_map.keys():\n",
    "                coverage_map[str(exp)] = 0\n",
    "            coverage_map[str(exp)] += 1\n",
    "\n",
    "    cover_exp = max(coverage_map,key=coverage_map.get)\n",
    "    cover_p = coverage_map[cover_exp]/net_count\n",
    "    print(cover_p,net_count)\n",
    "    e = np.array(ast.literal_eval(cover_exp)).reshape(SCALE[0],SCALE[1])\n",
    "    plt.imshow(e)\n",
    "    plt.axis('off')\n",
    "    plt.show()"
   ]
  },
  {
   "cell_type": "code",
   "execution_count": 78,
   "id": "61abda45",
   "metadata": {},
   "outputs": [
    {
     "data": {
      "image/png": "[encoded data removed]",
      "text/plain": [
       "<Figure size 432x288 with 1 Axes>"
      ]
     },
     "metadata": {
      "needs_background": "light"
     },
     "output_type": "display_data"
    }
   ],
   "source": [
    "plt.imshow(e)\n",
    "plt.axis('off')\n",
    "plt.show()"
   ]
  },
  {
   "cell_type": "code",
   "execution_count": 91,
   "id": "8e17d79d",
   "metadata": {},
   "outputs": [
    {
     "data": {
      "image/png": "[encoded data removed]",
      "text/plain": [
       "<Figure size 432x288 with 1 Axes>"
      ]
     },
     "metadata": {
      "needs_background": "light"
     },
     "output_type": "display_data"
    }
   ],
   "source": [
    "e = np.array(ast.literal_eval(cover_exp)).reshape(SCALE[0],SCALE[1])\n",
    "plt.imshow(e)\n",
    "plt.show()"
   ]
  },
  {
   "cell_type": "code",
   "execution_count": 1,
   "id": "b55aed11",
   "metadata": {},
   "outputs": [
    {
     "ename": "NameError",
     "evalue": "name 'np' is not defined",
     "output_type": "error",
     "traceback": [
      "\u001b[0;31m---------------------------------------------------------------------------\u001b[0m",
      "\u001b[0;31mNameError\u001b[0m                                 Traceback (most recent call last)",
      "\u001b[0;32m<ipython-input-1-dcc89b31075a>\u001b[0m in \u001b[0;36m<module>\u001b[0;34m\u001b[0m\n\u001b[0;32m----> 1\u001b[0;31m \u001b[0mnp_exps\u001b[0m \u001b[0;34m=\u001b[0m \u001b[0mnp\u001b[0m\u001b[0;34m.\u001b[0m\u001b[0marray\u001b[0m\u001b[0;34m(\u001b[0m\u001b[0mexps\u001b[0m\u001b[0;34m)\u001b[0m\u001b[0;34m\u001b[0m\u001b[0;34m\u001b[0m\u001b[0m\n\u001b[0m\u001b[1;32m      2\u001b[0m \u001b[0;34m\u001b[0m\u001b[0m\n\u001b[1;32m      3\u001b[0m \u001b[0mnew_exps\u001b[0m \u001b[0;34m=\u001b[0m \u001b[0mnp_exps\u001b[0m\u001b[0;34m\u001b[0m\u001b[0;34m\u001b[0m\u001b[0m\n\u001b[1;32m      4\u001b[0m \u001b[0;34m\u001b[0m\u001b[0m\n\u001b[1;32m      5\u001b[0m \u001b[0mmerged\u001b[0m \u001b[0;34m=\u001b[0m \u001b[0msum\u001b[0m\u001b[0;34m(\u001b[0m\u001b[0mnew_exps\u001b[0m\u001b[0;34m)\u001b[0m\u001b[0;34m/\u001b[0m\u001b[0mlen\u001b[0m\u001b[0;34m(\u001b[0m\u001b[0mnew_exps\u001b[0m\u001b[0;34m)\u001b[0m\u001b[0;34m\u001b[0m\u001b[0;34m\u001b[0m\u001b[0m\n",
      "\u001b[0;31mNameError\u001b[0m: name 'np' is not defined"
     ]
    }
   ],
   "source": [
    "np_exps = np.array(exps)\n",
    "\n",
    "new_exps = np_exps\n",
    "\n",
    "merged = sum(new_exps)/len(new_exps)\n",
    "\n",
    "mexp = merged[0]\n",
    "pos = np.zeros(input_shape)\n",
    "neg = np.zeros(input_shape)\n",
    "\n",
    "clip_val = 100000\n",
    "\n",
    "if(y_hat == 0):\n",
    "    pos += np.squeeze(np.clip(mexp, 0, clip_val))\n",
    "    neg += -1*np.squeeze(np.clip(mexp, -clip_val, 0))\n",
    "elif(y_hat == 1):\n",
    "    neg += np.squeeze(np.clip(mexp, 0, clip_val))\n",
    "    pos += -1*np.squeeze(np.clip(mexp, -clip_val, 0))\n",
    "    \n",
    "display_number(X.flatten(),SCALE)\n",
    "expl = pos if y_hat == 0 else neg\n",
    "display_explanation(X.flatten(),SCALE,expl)"
   ]
  },
  {
   "cell_type": "code",
   "execution_count": 8,
   "id": "0b90f3c2",
   "metadata": {
    "scrolled": true
   },
   "outputs": [
    {
     "name": "stdout",
     "output_type": "stream",
     "text": [
      "step 0\n",
      "step 100\n",
      "step 200\n",
      "step 300\n"
     ]
    },
    {
     "ename": "KeyboardInterrupt",
     "evalue": "",
     "output_type": "error",
     "traceback": [
      "\u001b[0;31m---------------------------------------------------------------------------\u001b[0m",
      "\u001b[0;31mKeyboardInterrupt\u001b[0m                         Traceback (most recent call last)",
      "\u001b[0;32m<ipython-input-8-b3d7a4395bb3>\u001b[0m in \u001b[0;36m<module>\u001b[0;34m\u001b[0m\n\u001b[1;32m     12\u001b[0m     \u001b[0;32mfor\u001b[0m \u001b[0mi\u001b[0m \u001b[0;32min\u001b[0m \u001b[0mrange\u001b[0m\u001b[0;34m(\u001b[0m\u001b[0mn\u001b[0m\u001b[0;34m)\u001b[0m\u001b[0;34m:\u001b[0m\u001b[0;34m\u001b[0m\u001b[0;34m\u001b[0m\u001b[0m\n\u001b[1;32m     13\u001b[0m         \u001b[0mbayes_model\u001b[0m\u001b[0;34m.\u001b[0m\u001b[0mmodel\u001b[0m\u001b[0;34m.\u001b[0m\u001b[0mset_weights\u001b[0m\u001b[0;34m(\u001b[0m\u001b[0mbayes_model\u001b[0m\u001b[0;34m.\u001b[0m\u001b[0msample\u001b[0m\u001b[0;34m(\u001b[0m\u001b[0;34m)\u001b[0m\u001b[0;34m)\u001b[0m\u001b[0;34m\u001b[0m\u001b[0;34m\u001b[0m\u001b[0m\n\u001b[0;32m---> 14\u001b[0;31m         \u001b[0my_preds\u001b[0m\u001b[0;34m.\u001b[0m\u001b[0mappend\u001b[0m\u001b[0;34m(\u001b[0m\u001b[0mbayes_model\u001b[0m\u001b[0;34m.\u001b[0m\u001b[0mmodel\u001b[0m\u001b[0;34m(\u001b[0m\u001b[0mXt_one\u001b[0m\u001b[0;34m)\u001b[0m\u001b[0;34m)\u001b[0m\u001b[0;34m\u001b[0m\u001b[0;34m\u001b[0m\u001b[0m\n\u001b[0m\u001b[1;32m     15\u001b[0m \u001b[0;34m\u001b[0m\u001b[0m\n\u001b[1;32m     16\u001b[0m     \u001b[0;31m#print(y_preds)\u001b[0m\u001b[0;34m\u001b[0m\u001b[0;34m\u001b[0m\u001b[0;34m\u001b[0m\u001b[0m\n",
      "\u001b[0;32m~/.local/lib/python3.6/site-packages/tensorflow/python/keras/engine/base_layer.py\u001b[0m in \u001b[0;36m__call__\u001b[0;34m(self, *args, **kwargs)\u001b[0m\n\u001b[1;32m    983\u001b[0m \u001b[0;34m\u001b[0m\u001b[0m\n\u001b[1;32m    984\u001b[0m         \u001b[0;32mwith\u001b[0m \u001b[0mops\u001b[0m\u001b[0;34m.\u001b[0m\u001b[0menable_auto_cast_variables\u001b[0m\u001b[0;34m(\u001b[0m\u001b[0mself\u001b[0m\u001b[0;34m.\u001b[0m\u001b[0m_compute_dtype_object\u001b[0m\u001b[0;34m)\u001b[0m\u001b[0;34m:\u001b[0m\u001b[0;34m\u001b[0m\u001b[0;34m\u001b[0m\u001b[0m\n\u001b[0;32m--> 985\u001b[0;31m           \u001b[0moutputs\u001b[0m \u001b[0;34m=\u001b[0m \u001b[0mcall_fn\u001b[0m\u001b[0;34m(\u001b[0m\u001b[0minputs\u001b[0m\u001b[0;34m,\u001b[0m \u001b[0;34m*\u001b[0m\u001b[0margs\u001b[0m\u001b[0;34m,\u001b[0m \u001b[0;34m**\u001b[0m\u001b[0mkwargs\u001b[0m\u001b[0;34m)\u001b[0m\u001b[0;34m\u001b[0m\u001b[0;34m\u001b[0m\u001b[0m\n\u001b[0m\u001b[1;32m    986\u001b[0m \u001b[0;34m\u001b[0m\u001b[0m\n\u001b[1;32m    987\u001b[0m         \u001b[0;32mif\u001b[0m \u001b[0mself\u001b[0m\u001b[0;34m.\u001b[0m\u001b[0m_activity_regularizer\u001b[0m\u001b[0;34m:\u001b[0m\u001b[0;34m\u001b[0m\u001b[0;34m\u001b[0m\u001b[0m\n",
      "\u001b[0;32m~/.local/lib/python3.6/site-packages/tensorflow/python/keras/engine/sequential.py\u001b[0m in \u001b[0;36mcall\u001b[0;34m(self, inputs, training, mask)\u001b[0m\n\u001b[1;32m    370\u001b[0m       \u001b[0;32mif\u001b[0m \u001b[0;32mnot\u001b[0m \u001b[0mself\u001b[0m\u001b[0;34m.\u001b[0m\u001b[0mbuilt\u001b[0m\u001b[0;34m:\u001b[0m\u001b[0;34m\u001b[0m\u001b[0;34m\u001b[0m\u001b[0m\n\u001b[1;32m    371\u001b[0m         \u001b[0mself\u001b[0m\u001b[0;34m.\u001b[0m\u001b[0m_init_graph_network\u001b[0m\u001b[0;34m(\u001b[0m\u001b[0mself\u001b[0m\u001b[0;34m.\u001b[0m\u001b[0minputs\u001b[0m\u001b[0;34m,\u001b[0m \u001b[0mself\u001b[0m\u001b[0;34m.\u001b[0m\u001b[0moutputs\u001b[0m\u001b[0;34m)\u001b[0m\u001b[0;34m\u001b[0m\u001b[0;34m\u001b[0m\u001b[0m\n\u001b[0;32m--> 372\u001b[0;31m       \u001b[0;32mreturn\u001b[0m \u001b[0msuper\u001b[0m\u001b[0;34m(\u001b[0m\u001b[0mSequential\u001b[0m\u001b[0;34m,\u001b[0m \u001b[0mself\u001b[0m\u001b[0;34m)\u001b[0m\u001b[0;34m.\u001b[0m\u001b[0mcall\u001b[0m\u001b[0;34m(\u001b[0m\u001b[0minputs\u001b[0m\u001b[0;34m,\u001b[0m \u001b[0mtraining\u001b[0m\u001b[0;34m=\u001b[0m\u001b[0mtraining\u001b[0m\u001b[0;34m,\u001b[0m \u001b[0mmask\u001b[0m\u001b[0;34m=\u001b[0m\u001b[0mmask\u001b[0m\u001b[0;34m)\u001b[0m\u001b[0;34m\u001b[0m\u001b[0;34m\u001b[0m\u001b[0m\n\u001b[0m\u001b[1;32m    373\u001b[0m \u001b[0;34m\u001b[0m\u001b[0m\n\u001b[1;32m    374\u001b[0m     \u001b[0moutputs\u001b[0m \u001b[0;34m=\u001b[0m \u001b[0minputs\u001b[0m  \u001b[0;31m# handle the corner case where self.layers is empty\u001b[0m\u001b[0;34m\u001b[0m\u001b[0;34m\u001b[0m\u001b[0m\n",
      "\u001b[0;32m~/.local/lib/python3.6/site-packages/tensorflow/python/keras/engine/functional.py\u001b[0m in \u001b[0;36mcall\u001b[0;34m(self, inputs, training, mask)\u001b[0m\n\u001b[1;32m    384\u001b[0m     \"\"\"\n\u001b[1;32m    385\u001b[0m     return self._run_internal_graph(\n\u001b[0;32m--> 386\u001b[0;31m         inputs, training=training, mask=mask)\n\u001b[0m\u001b[1;32m    387\u001b[0m \u001b[0;34m\u001b[0m\u001b[0m\n\u001b[1;32m    388\u001b[0m   \u001b[0;32mdef\u001b[0m \u001b[0mcompute_output_shape\u001b[0m\u001b[0;34m(\u001b[0m\u001b[0mself\u001b[0m\u001b[0;34m,\u001b[0m \u001b[0minput_shape\u001b[0m\u001b[0;34m)\u001b[0m\u001b[0;34m:\u001b[0m\u001b[0;34m\u001b[0m\u001b[0;34m\u001b[0m\u001b[0m\n",
      "\u001b[0;32m~/.local/lib/python3.6/site-packages/tensorflow/python/keras/engine/functional.py\u001b[0m in \u001b[0;36m_run_internal_graph\u001b[0;34m(self, inputs, training, mask)\u001b[0m\n\u001b[1;32m    506\u001b[0m \u001b[0;34m\u001b[0m\u001b[0m\n\u001b[1;32m    507\u001b[0m         \u001b[0margs\u001b[0m\u001b[0;34m,\u001b[0m \u001b[0mkwargs\u001b[0m \u001b[0;34m=\u001b[0m \u001b[0mnode\u001b[0m\u001b[0;34m.\u001b[0m\u001b[0mmap_arguments\u001b[0m\u001b[0;34m(\u001b[0m\u001b[0mtensor_dict\u001b[0m\u001b[0;34m)\u001b[0m\u001b[0;34m\u001b[0m\u001b[0;34m\u001b[0m\u001b[0m\n\u001b[0;32m--> 508\u001b[0;31m         \u001b[0moutputs\u001b[0m \u001b[0;34m=\u001b[0m \u001b[0mnode\u001b[0m\u001b[0;34m.\u001b[0m\u001b[0mlayer\u001b[0m\u001b[0;34m(\u001b[0m\u001b[0;34m*\u001b[0m\u001b[0margs\u001b[0m\u001b[0;34m,\u001b[0m \u001b[0;34m**\u001b[0m\u001b[0mkwargs\u001b[0m\u001b[0;34m)\u001b[0m\u001b[0;34m\u001b[0m\u001b[0;34m\u001b[0m\u001b[0m\n\u001b[0m\u001b[1;32m    509\u001b[0m \u001b[0;34m\u001b[0m\u001b[0m\n\u001b[1;32m    510\u001b[0m         \u001b[0;31m# Update tensor_dict.\u001b[0m\u001b[0;34m\u001b[0m\u001b[0;34m\u001b[0m\u001b[0;34m\u001b[0m\u001b[0m\n",
      "\u001b[0;32m~/.local/lib/python3.6/site-packages/tensorflow/python/keras/engine/base_layer.py\u001b[0m in \u001b[0;36m__call__\u001b[0;34m(self, *args, **kwargs)\u001b[0m\n\u001b[1;32m    967\u001b[0m \u001b[0;34m\u001b[0m\u001b[0m\n\u001b[1;32m    968\u001b[0m       \u001b[0;32mif\u001b[0m \u001b[0mself\u001b[0m\u001b[0;34m.\u001b[0m\u001b[0m_autocast\u001b[0m\u001b[0;34m:\u001b[0m\u001b[0;34m\u001b[0m\u001b[0;34m\u001b[0m\u001b[0m\n\u001b[0;32m--> 969\u001b[0;31m         \u001b[0minputs\u001b[0m \u001b[0;34m=\u001b[0m \u001b[0mself\u001b[0m\u001b[0;34m.\u001b[0m\u001b[0m_maybe_cast_inputs\u001b[0m\u001b[0;34m(\u001b[0m\u001b[0minputs\u001b[0m\u001b[0;34m,\u001b[0m \u001b[0minput_list\u001b[0m\u001b[0;34m)\u001b[0m\u001b[0;34m\u001b[0m\u001b[0;34m\u001b[0m\u001b[0m\n\u001b[0m\u001b[1;32m    970\u001b[0m \u001b[0;34m\u001b[0m\u001b[0m\n\u001b[1;32m    971\u001b[0m       \u001b[0;32mif\u001b[0m \u001b[0meager\u001b[0m\u001b[0;34m:\u001b[0m\u001b[0;34m\u001b[0m\u001b[0;34m\u001b[0m\u001b[0m\n",
      "\u001b[0;32m~/.local/lib/python3.6/site-packages/tensorflow/python/keras/engine/base_layer.py\u001b[0m in \u001b[0;36m_maybe_cast_inputs\u001b[0;34m(self, inputs, input_list)\u001b[0m\n\u001b[1;32m   2310\u001b[0m     \u001b[0;32mreturn\u001b[0m \u001b[0mself\u001b[0m\u001b[0;34m.\u001b[0m\u001b[0m_dtype_policy\u001b[0m\u001b[0;34m.\u001b[0m\u001b[0mcompute_dtype\u001b[0m\u001b[0;34m\u001b[0m\u001b[0;34m\u001b[0m\u001b[0m\n\u001b[1;32m   2311\u001b[0m \u001b[0;34m\u001b[0m\u001b[0m\n\u001b[0;32m-> 2312\u001b[0;31m   \u001b[0;32mdef\u001b[0m \u001b[0m_maybe_cast_inputs\u001b[0m\u001b[0;34m(\u001b[0m\u001b[0mself\u001b[0m\u001b[0;34m,\u001b[0m \u001b[0minputs\u001b[0m\u001b[0;34m,\u001b[0m \u001b[0minput_list\u001b[0m\u001b[0;34m=\u001b[0m\u001b[0;32mNone\u001b[0m\u001b[0;34m)\u001b[0m\u001b[0;34m:\u001b[0m\u001b[0;34m\u001b[0m\u001b[0;34m\u001b[0m\u001b[0m\n\u001b[0m\u001b[1;32m   2313\u001b[0m     \"\"\"Maybe casts the inputs to the compute dtype.\n\u001b[1;32m   2314\u001b[0m \u001b[0;34m\u001b[0m\u001b[0m\n",
      "\u001b[0;31mKeyboardInterrupt\u001b[0m: "
     ]
    }
   ],
   "source": [
    "uncert_Xs = []\n",
    "uncert_Ypredarrs = []\n",
    "uncert_ytruth = []\n",
    "for idx,xt in enumerate(X_test):\n",
    "    if idx%100 == 0:\n",
    "        print('step',idx)\n",
    "    s_len = len(uncert_Xs)\n",
    "    Xt_one = np.array([xt])\n",
    "    y_preds = []\n",
    "    n = 50\n",
    "    truth = y_test[idx]\n",
    "    for i in range(n):\n",
    "        bayes_model.model.set_weights(bayes_model.sample())\n",
    "        y_preds.append(bayes_model.model(Xt_one))\n",
    "\n",
    "    #print(y_preds)\n",
    "    argmax = list(map(np.argmax,y_preds))\n",
    "    try:\n",
    "        m = mode(argmax)\n",
    "        if not argmax.count(m) >= len(argmax)-(n/2):\n",
    "            uncert_Xs.append(list(map(float,xt)))\n",
    "            uncert_Ypredarrs.append([list(map(float,yp[0])) for yp in y_preds])\n",
    "            uncert_ytruth.append(int(truth))\n",
    "    except:\n",
    "        uncert_Xs.append(list(map(float,xt)))\n",
    "        uncert_Ypredarrs.append([list(map(float,yp[0])) for yp in y_preds])\n",
    "        uncert_ytruth.append(int(truth))\n",
    "\n",
    "    if len(uncert_Xs) > s_len:\n",
    "        print(len(uncert_Xs))\n",
    "    if len(uncert_Xs) > 4:\n",
    "        break\n",
    "        \n",
    "to_file_entries = []\n",
    "for idx,uyp in enumerate(uncert_Ypredarrs):\n",
    "    entry = dict()\n",
    "    entry['input'] = uncert_Xs[idx]\n",
    "    entry['y'] = uncert_ytruth[idx]\n",
    "    entry['y_pred_arrs'] = uyp\n",
    "    entry['y_preds'] = list(map(int,list(map(np.argmax,uyp))))\n",
    "    to_file_entries.append(entry)\n",
    "    print(list(map(np.argmax,uyp)))\n",
    "\n",
    "# save uncert inputs to file\n",
    "\n",
    "with open('uncert_data/uncert_mnist.json','w') as f:\n",
    "    json.dump(to_file_entries,f)\n",
    "    "
   ]
  },
  {
   "cell_type": "code",
   "execution_count": 102,
   "id": "6f5e3592",
   "metadata": {},
   "outputs": [],
   "source": [
    "# TAKES A WHILE TO RUN (~5 MINS)\n",
    "\n",
    "uncert_idx = 3\n",
    "\n",
    "uncert_dict = None\n",
    "with open('uncert_data/uncert_mnist.json','r') as f:\n",
    "    uncert_dict = json.load(f)\n",
    "    \n",
    "if uncert_idx > len(uncert_dict):\n",
    "    print('No data at this index.')\n",
    "    \n",
    "uncert_X = np.asarray(uncert_dict[uncert_idx]['input']).reshape(1,SCALE[0]*SCALE[1]).astype(float)\n",
    "uncert_y = uncert_dict[uncert_idx]['y']\n",
    "\n",
    "input_path = 'X_uncert.npy'\n",
    "y_path = 'y_uncert.npy'\n",
    "output_path = f'exps/exps_uncert{uncert_idx}'\n",
    "if not os.path.exists(output_path):\n",
    "    os.mkdir(output_path)\n",
    "np.save(os.path.join(output_path,input_path),uncert_X,False)\n",
    "np.save(os.path.join(output_path,y_path),uncert_y,False)\n",
    "\n",
    "iterations = 20\n",
    "for i in range(iterations):\n",
    "    subprocess.Popen(['python3','get_mnist_exp.py',str(i),model_name,os.path.join(output_path,input_path),output_path])\n",
    "    \n",
    "full = False \n",
    "while not full:\n",
    "    if len([name for name in os.listdir(output_path) if os.path.isfile(os.path.join(output_path, name))]) == iterations+1:\n",
    "        full = True\n",
    "    "
   ]
  },
  {
   "cell_type": "code",
   "execution_count": 53,
   "id": "14d7f86d",
   "metadata": {},
   "outputs": [],
   "source": []
  },
  {
   "cell_type": "code",
   "execution_count": 11,
   "id": "1cecbfa7",
   "metadata": {},
   "outputs": [
    {
     "name": "stdout",
     "output_type": "stream",
     "text": [
      "Input image (ground truth = 0 Negative (it's not an 8)):\n"
     ]
    },
    {
     "data": {
      "image/png": "[encoded data removed]",
      "text/plain": [
       "<Figure size 432x288 with 1 Axes>"
      ]
     },
     "metadata": {
      "needs_background": "light"
     },
     "output_type": "display_data"
    },
    {
     "name": "stdout",
     "output_type": "stream",
     "text": [
      "Positive explanation (contributes to class 0):\n"
     ]
    },
    {
     "data": {
      "image/png": "[encoded data removed]",
      "text/plain": [
       "<Figure size 432x288 with 3 Axes>"
      ]
     },
     "metadata": {
      "needs_background": "light"
     },
     "output_type": "display_data"
    },
    {
     "name": "stdout",
     "output_type": "stream",
     "text": [
      "Negative explanation (contributes against class 0):\n"
     ]
    },
    {
     "data": {
      "image/png": "[encoded data removed]",
      "text/plain": [
       "<Figure size 432x288 with 3 Axes>"
      ]
     },
     "metadata": {
      "needs_background": "light"
     },
     "output_type": "display_data"
    },
    {
     "name": "stdout",
     "output_type": "stream",
     "text": [
      "\n",
      "Sanity checking\n",
      "---------------\n",
      "Index in X_test: 1554\n",
      "Classification in y_test: 0\n"
     ]
    }
   ],
   "source": [
    "# read in and display the results from an uncert input\n",
    "\n",
    "input_num = 1\n",
    "input_path = 'X_uncert.npy'\n",
    "output_path = f'exps/exps_uncert{input_num}'\n",
    "y_path = 'y_uncert.npy'\n",
    "\n",
    "\n",
    "exps = []\n",
    "for f in os.listdir(output_path):\n",
    "    if os.path.isfile(os.path.join(output_path,f)) and not f.startswith('X') and not f.startswith('y'):\n",
    "        tmp = np.load(os.path.join(output_path,f))\n",
    "        exps.append(tmp)\n",
    "        \n",
    "uncert_X = np.load(os.path.join(output_path,input_path))\n",
    "uncert_y = np.load(os.path.join(output_path,y_path))\n",
    "\n",
    "input_shape = uncert_X.flatten().shape\n",
    "        \n",
    "np_exps = np.array(exps)\n",
    "\n",
    "new_exps = np_exps\n",
    "\n",
    "merged = sum(new_exps)/len(new_exps)\n",
    "\n",
    "mexp = merged[0]\n",
    "pos = np.zeros(input_shape)\n",
    "neg = np.zeros(input_shape)\n",
    "\n",
    "clip_val = 100000\n",
    "\n",
    "if(uncert_y == 0):\n",
    "    pos += np.squeeze(np.clip(mexp, 0, clip_val))\n",
    "    neg += -1*np.squeeze(np.clip(mexp, -clip_val, 0))\n",
    "elif(uncert_y == 1):\n",
    "    neg += np.squeeze(np.clip(mexp, 0, clip_val))\n",
    "    pos += -1*np.squeeze(np.clip(mexp, -clip_val, 0))\n",
    "\n",
    "act_class = \"Positive (it's an 8)\" if uncert_y > 0 else \"Negative (it's not an 8)\" \n",
    "print(f'Input image (ground truth = {uncert_y} {act_class}):')\n",
    "display_number(uncert_X.flatten(),SCALE)\n",
    "print(f'Positive explanation (contributes to class {uncert_y}):')\n",
    "display_explanation(uncert_X.flatten(),SCALE,pos)\n",
    "print(f'Negative explanation (contributes against class {uncert_y}):')\n",
    "display_explanation(uncert_X.flatten(),SCALE,neg)\n",
    "print()\n",
    "print('Sanity checking')\n",
    "print('---------------')\n",
    "for idx,xt in enumerate(X_test):\n",
    "    if list(uncert_X.flatten()) == list(map(float,xt)):\n",
    "        print('Index in X_test:',idx)\n",
    "        print('Classification in y_test:',y_test[idx])"
   ]
  },
  {
   "cell_type": "code",
   "execution_count": null,
   "id": "f2aced74",
   "metadata": {},
   "outputs": [],
   "source": [
    "# want to find: average bayesian explanation of an 8\n",
    "\n",
    "# train on just 1's and 9's, give it a 7 (look at prediction for both 1 and 9, hope we see corresponding parts)\n",
    "\n",
    "# pick another good explanation method"
   ]
  }
 ],
 "metadata": {
  "kernelspec": {
   "display_name": "Python 3",
   "language": "python",
   "name": "python3"
  },
  "language_info": {
   "codemirror_mode": {
    "name": "ipython",
    "version": 3
   },
   "file_extension": ".py",
   "mimetype": "text/x-python",
   "name": "python",
   "nbconvert_exporter": "python",
   "pygments_lexer": "ipython3",
   "version": "3.6.9"
  }
 },
 "nbformat": 4,
 "nbformat_minor": 5
}
