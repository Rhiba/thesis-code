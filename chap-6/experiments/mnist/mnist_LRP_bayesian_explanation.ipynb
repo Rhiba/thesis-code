{
 "cells": [
  {
   "cell_type": "code",
   "execution_count": 2,
   "id": "df76856e",
   "metadata": {},
   "outputs": [],
   "source": [
    "import os\n",
    "import sys\n",
    "sys.path.append('../..')\n",
    "import numpy as np\n",
    "import deepbayesHF\n",
    "import deepbayesHF.optimizers as optimizers\n",
    "from deepbayesHF import PosteriorModel\n",
    "from deepbayesHF.analyzers import FGSM\n",
    "from deepbayesHF.analyzers import eps_LRP\n",
    "import tensorflow as tf\n",
    "from tensorflow.keras.models import *\n",
    "from tensorflow.keras.layers import *\n",
    "import cv2\n",
    "import random\n",
    "import matplotlib.pyplot as plt\n",
    "from collections import namedtuple\n",
    "\n",
    "from joblib import Parallel, delayed\n",
    "import subprocess\n",
    "from statistics import mode\n",
    "import json"
   ]
  },
  {
   "cell_type": "code",
   "execution_count": 3,
   "id": "30d254de",
   "metadata": {},
   "outputs": [],
   "source": [
    "def display_number(X,SCALE):\n",
    "    X = X.reshape(SCALE[0],SCALE[1])\n",
    "    plt.imshow(X,cmap='gray')\n",
    "    plt.show()\n",
    "    \n",
    "def display_explanation(x0,SCALE,expl):\n",
    "    fig, (ax1,ax2,ax3) = plt.subplots(1,3)\n",
    "    x0_2d = x0.reshape(SCALE[0],SCALE[1])\n",
    "    ax1.set_title('Input')\n",
    "    ax1.imshow(x0_2d,cmap='gray')\n",
    "    expl_2d = expl.reshape(SCALE[0],SCALE[1])\n",
    "    ax2.set_title('Explanation')\n",
    "    ax2.imshow(expl_2d)\n",
    "    \n",
    "    cmap = plt.cm.gray\n",
    "    norm = plt.Normalize(x0.min(),x0.max())\n",
    "    rgba = cmap(norm(x0))\n",
    "    \n",
    "    norm_ex = plt.Normalize(expl.min(),expl.max())\n",
    "    normed_ex = norm_ex(expl)\n",
    "    \n",
    "    for i,x in enumerate(normed_ex):\n",
    "        if x > 0:\n",
    "            rgba[i] = x,0,0,1\n",
    "    \n",
    "    rgba = rgba.reshape(SCALE[0],SCALE[1],4)\n",
    "    \n",
    "    ax3.set_title('Overlayed')\n",
    "    ax3.imshow(rgba,interpolation='nearest')\n",
    "    plt.show()"
   ]
  },
  {
   "cell_type": "code",
   "execution_count": 4,
   "id": "4190aa74",
   "metadata": {},
   "outputs": [],
   "source": [
    "# Load mnist data and scale down to SCALE (trying 14x14 initially)\n",
    "\n",
    "(X_train, y_train), (X_test, y_test) = tf.keras.datasets.mnist.load_data()\n",
    "SCALE = (14,14)\n",
    "if not SCALE == X_train[0].shape:\n",
    "    X_train = np.array(list(map(lambda x:cv2.resize(x,SCALE,interpolation=cv2.INTER_CUBIC),X_train)))\n",
    "X_train = X_train/255.\n",
    "X_train = X_train.astype(\"float32\").reshape(len(X_train), SCALE[0],SCALE[1])\n",
    "\n",
    "if not SCALE == X_test.shape:\n",
    "    X_test = np.array(list(map(lambda x:cv2.resize(x,SCALE,interpolation=cv2.INTER_CUBIC),X_test)))\n",
    "X_test = X_test/255.\n",
    "X_test = X_test.astype(\"float32\").reshape(len(X_test), SCALE[0], SCALE[1])\n",
    "\n",
    "# make it a binary classification task (X or not X)\n",
    "\n",
    "target = 8\n",
    "y_train = np.array([1 if y == target else 0 for y in y_train])\n",
    "y_test = np.array([1 if y == target else 0 for y in y_test])\n",
    "\n",
    "# filter so we get about 50% target class and 50% other\n",
    "target_idxs = [i for i in range(len(y_train)) if y_train[i] == 1]\n",
    "other_idxs = [i for i in range(len(y_train)) if y_train[i] == 0]\n",
    "\n",
    "random.shuffle(other_idxs)\n",
    "other_idxs = other_idxs[:len(target_idxs)]\n",
    "# pick len(target_idxs) samples from the other_idxs\n",
    "X_train = np.array([x for i,x in enumerate(X_train) if i in other_idxs or i in target_idxs])\n",
    "y_train = np.array([y for i,y in enumerate(y_train) if i in other_idxs or i in target_idxs])"
   ]
  },
  {
   "cell_type": "code",
   "execution_count": 15,
   "id": "f43344f3",
   "metadata": {},
   "outputs": [
    {
     "data": {
      "image/png": "[encoded data removed]",
      "text/plain": [
       "<Figure size 432x288 with 1 Axes>"
      ]
     },
     "metadata": {
      "needs_background": "light"
     },
     "output_type": "display_data"
    },
    {
     "name": "stdout",
     "output_type": "stream",
     "text": [
      "[[0.00 0.00 0.00 0.00 0.00 0.00 0.00 0.00 0.00 0.00 0.00 0.00 0.00 0.00 ]\n",
      "[ 0.00 0.00 0.00 0.00 0.00 0.00 0.00 0.00 0.00 0.00 0.00 0.00 0.00 0.00 ]\n",
      "[ 0.00 0.00 0.00 0.00 0.00 0.00 0.00 0.00 0.00 0.00 0.49 0.00 0.00 0.00 ]\n",
      "[ 0.00 0.00 0.00 0.00 0.00 0.01 0.32 0.40 0.67 0.33 1.00 0.00 0.00 0.00 ]\n",
      "[ 0.00 0.00 0.00 0.00 0.00 0.47 0.99 0.71 0.31 1.00 0.60 0.00 0.00 0.00 ]\n",
      "[ 0.00 0.00 0.00 0.00 0.00 0.71 0.64 0.00 0.67 0.95 0.02 0.00 0.00 0.00 ]\n",
      "[ 0.00 0.00 0.00 0.00 0.00 0.24 1.00 0.81 1.00 0.04 0.00 0.00 0.00 0.00 ]\n",
      "[ 0.00 0.00 0.00 0.00 0.00 0.18 1.00 0.97 0.13 0.00 0.00 0.00 0.00 0.00 ]\n",
      "[ 0.00 0.00 0.00 0.00 0.05 1.00 0.87 0.96 0.00 0.00 0.00 0.00 0.00 0.00 ]\n",
      "[ 0.00 0.00 0.00 0.00 0.96 0.42 0.23 0.86 0.00 0.00 0.00 0.00 0.00 0.00 ]\n",
      "[ 0.00 0.00 0.00 0.22 0.98 0.00 0.93 0.54 0.00 0.00 0.00 0.00 0.00 0.00 ]\n",
      "[ 0.00 0.00 0.00 0.24 0.96 1.00 0.45 0.00 0.00 0.00 0.00 0.00 0.00 0.00 ]\n",
      "[ 0.00 0.00 0.00 0.00 0.36 0.27 0.00 0.00 0.00 0.00 0.00 0.00 0.00 0.00 ]\n",
      "[ 0.00 0.00 0.00 0.00 0.00 0.00 0.00 0.00 0.00 0.00 0.00 0.00 0.00 0.00 ]]\n"
     ]
    }
   ],
   "source": [
    "plt.imshow(X_train[0],cmap='gray')\n",
    "plt.axis('off')\n",
    "plt.show()\n",
    "print('[',end='')\n",
    "for idx,row in enumerate(X_train[0]):\n",
    "    print('[',end='')\n",
    "    if not idx == 0:\n",
    "        print(' ',end='')\n",
    "    for val in row:\n",
    "        print(f'{val:.2f} ',end='')\n",
    "    print(']',end='')\n",
    "    if not idx == len(X_train[0])-1:\n",
    "        print()\n",
    "print(']')"
   ]
  },
  {
   "cell_type": "code",
   "execution_count": 30,
   "id": "ed17b1bb",
   "metadata": {},
   "outputs": [
    {
     "data": {
      "image/png": "[encoded data removed]",
      "text/plain": [
       "<Figure size 432x288 with 1 Axes>"
      ]
     },
     "metadata": {
      "needs_background": "light"
     },
     "output_type": "display_data"
    },
    {
     "data": {
      "image/png": "[encoded data removed]",
      "text/plain": [
       "<Figure size 432x288 with 1 Axes>"
      ]
     },
     "metadata": {
      "needs_background": "light"
     },
     "output_type": "display_data"
    },
    {
     "name": "stdout",
     "output_type": "stream",
     "text": [
      "1.4142135\n"
     ]
    }
   ],
   "source": [
    "im = X_train[10]\n",
    "plt.imshow(im,cmap='gray')\n",
    "plt.axis('off')\n",
    "plt.show()\n",
    "\n",
    "im2 = im.copy()\n",
    "im2[6][6] = 1\n",
    "im2[8][8] = 1\n",
    "plt.imshow(im2,cmap='gray')\n",
    "plt.axis('off')\n",
    "plt.show()\n",
    "\n",
    "dist = np.linalg.norm(im2-im)\n",
    "print(dist)"
   ]
  },
  {
   "cell_type": "code",
   "execution_count": 34,
   "id": "59c7eab0",
   "metadata": {},
   "outputs": [
    {
     "name": "stderr",
     "output_type": "stream",
     "text": [
      "  4%|▍         | 7/183 [00:00<00:02, 64.91it/s]"
     ]
    },
    {
     "name": "stdout",
     "output_type": "stream",
     "text": [
      "This optimizer does not have a default compilation method. Please make sure to call the correct .compile method before use.\n",
      "deepbayes: Using implicit prior\n",
      "(196, 256) 0.10101525445522107\n",
      "(256, 128) 0.08838834764831845\n",
      "(128, 2) 0.125\n",
      "deepbayes: Using implicit prior\n",
      "(196, 256) 0.10101525445522107\n",
      "(256, 128) 0.08838834764831845\n",
      "(128, 2) 0.125\n"
     ]
    },
    {
     "name": "stderr",
     "output_type": "stream",
     "text": [
      "100%|██████████| 183/183 [00:02<00:00, 69.25it/s]\n",
      "  4%|▍         | 8/183 [00:00<00:02, 79.24it/s]"
     ]
    },
    {
     "name": "stdout",
     "output_type": "stream",
     "text": [
      "Epoch 1, loss: 0.575, acc: 0.697, val_loss: 0.376, val_acc: 0.851\n"
     ]
    },
    {
     "name": "stderr",
     "output_type": "stream",
     "text": [
      "100%|██████████| 183/183 [00:02<00:00, 69.91it/s]\n",
      "  4%|▍         | 7/183 [00:00<00:02, 68.77it/s]"
     ]
    },
    {
     "name": "stdout",
     "output_type": "stream",
     "text": [
      "Epoch 2, loss: 0.331, acc: 0.869, val_loss: 0.503, val_acc: 0.811\n"
     ]
    },
    {
     "name": "stderr",
     "output_type": "stream",
     "text": [
      "100%|██████████| 183/183 [00:02<00:00, 69.92it/s]\n",
      "  3%|▎         | 6/183 [00:00<00:03, 54.79it/s]"
     ]
    },
    {
     "name": "stdout",
     "output_type": "stream",
     "text": [
      "Epoch 3, loss: 0.263, acc: 0.900, val_loss: 0.273, val_acc: 0.891\n"
     ]
    },
    {
     "name": "stderr",
     "output_type": "stream",
     "text": [
      "100%|██████████| 183/183 [00:02<00:00, 69.31it/s]\n",
      "  5%|▍         | 9/183 [00:00<00:02, 80.46it/s]"
     ]
    },
    {
     "name": "stdout",
     "output_type": "stream",
     "text": [
      "Epoch 4, loss: 0.216, acc: 0.916, val_loss: 0.214, val_acc: 0.913\n"
     ]
    },
    {
     "name": "stderr",
     "output_type": "stream",
     "text": [
      "100%|██████████| 183/183 [00:02<00:00, 68.27it/s]\n",
      "  4%|▍         | 8/183 [00:00<00:02, 73.48it/s]"
     ]
    },
    {
     "name": "stdout",
     "output_type": "stream",
     "text": [
      "Epoch 5, loss: 0.199, acc: 0.925, val_loss: 0.172, val_acc: 0.934\n"
     ]
    },
    {
     "name": "stderr",
     "output_type": "stream",
     "text": [
      "100%|██████████| 183/183 [00:02<00:00, 70.55it/s]\n",
      "  4%|▍         | 8/183 [00:00<00:02, 74.76it/s]"
     ]
    },
    {
     "name": "stdout",
     "output_type": "stream",
     "text": [
      "Epoch 6, loss: 0.181, acc: 0.933, val_loss: 0.258, val_acc: 0.903\n"
     ]
    },
    {
     "name": "stderr",
     "output_type": "stream",
     "text": [
      "100%|██████████| 183/183 [00:02<00:00, 67.35it/s]\n",
      "  3%|▎         | 5/183 [00:00<00:03, 48.09it/s]"
     ]
    },
    {
     "name": "stdout",
     "output_type": "stream",
     "text": [
      "Epoch 7, loss: 0.137, acc: 0.949, val_loss: 0.109, val_acc: 0.957\n"
     ]
    },
    {
     "name": "stderr",
     "output_type": "stream",
     "text": [
      "100%|██████████| 183/183 [00:02<00:00, 69.39it/s]\n",
      "  5%|▍         | 9/183 [00:00<00:02, 82.26it/s]"
     ]
    },
    {
     "name": "stdout",
     "output_type": "stream",
     "text": [
      "Epoch 8, loss: 0.111, acc: 0.962, val_loss: 0.121, val_acc: 0.952\n"
     ]
    },
    {
     "name": "stderr",
     "output_type": "stream",
     "text": [
      "100%|██████████| 183/183 [00:02<00:00, 69.52it/s]\n",
      "  5%|▍         | 9/183 [00:00<00:02, 81.69it/s]"
     ]
    },
    {
     "name": "stdout",
     "output_type": "stream",
     "text": [
      "Epoch 9, loss: 0.093, acc: 0.968, val_loss: 0.125, val_acc: 0.953\n"
     ]
    },
    {
     "name": "stderr",
     "output_type": "stream",
     "text": [
      "100%|██████████| 183/183 [00:02<00:00, 72.19it/s]\n",
      "  5%|▍         | 9/183 [00:00<00:02, 83.33it/s]"
     ]
    },
    {
     "name": "stdout",
     "output_type": "stream",
     "text": [
      "Epoch 10, loss: 0.084, acc: 0.970, val_loss: 0.117, val_acc: 0.958\n"
     ]
    },
    {
     "name": "stderr",
     "output_type": "stream",
     "text": [
      "100%|██████████| 183/183 [00:02<00:00, 72.93it/s]\n",
      "  3%|▎         | 6/183 [00:00<00:03, 56.62it/s]"
     ]
    },
    {
     "name": "stdout",
     "output_type": "stream",
     "text": [
      "Epoch 11, loss: 0.073, acc: 0.973, val_loss: 0.110, val_acc: 0.961\n"
     ]
    },
    {
     "name": "stderr",
     "output_type": "stream",
     "text": [
      "100%|██████████| 183/183 [00:02<00:00, 66.76it/s]\n",
      "  5%|▍         | 9/183 [00:00<00:02, 82.53it/s]"
     ]
    },
    {
     "name": "stdout",
     "output_type": "stream",
     "text": [
      "Epoch 12, loss: 0.066, acc: 0.977, val_loss: 0.123, val_acc: 0.958\n"
     ]
    },
    {
     "name": "stderr",
     "output_type": "stream",
     "text": [
      "100%|██████████| 183/183 [00:02<00:00, 68.94it/s]\n",
      "  4%|▍         | 8/183 [00:00<00:02, 78.90it/s]"
     ]
    },
    {
     "name": "stdout",
     "output_type": "stream",
     "text": [
      "Epoch 13, loss: 0.060, acc: 0.979, val_loss: 0.125, val_acc: 0.956\n"
     ]
    },
    {
     "name": "stderr",
     "output_type": "stream",
     "text": [
      "100%|██████████| 183/183 [00:02<00:00, 68.95it/s]\n",
      "  4%|▍         | 7/183 [00:00<00:02, 61.59it/s]"
     ]
    },
    {
     "name": "stdout",
     "output_type": "stream",
     "text": [
      "Epoch 14, loss: 0.059, acc: 0.980, val_loss: 0.057, val_acc: 0.980\n"
     ]
    },
    {
     "name": "stderr",
     "output_type": "stream",
     "text": [
      "100%|██████████| 183/183 [00:02<00:00, 71.28it/s]\n",
      "  5%|▍         | 9/183 [00:00<00:02, 84.16it/s]"
     ]
    },
    {
     "name": "stdout",
     "output_type": "stream",
     "text": [
      "Epoch 15, loss: 0.053, acc: 0.979, val_loss: 0.032, val_acc: 0.989\n"
     ]
    },
    {
     "name": "stderr",
     "output_type": "stream",
     "text": [
      "100%|██████████| 183/183 [00:02<00:00, 71.32it/s]\n",
      "  4%|▍         | 8/183 [00:00<00:02, 74.33it/s]"
     ]
    },
    {
     "name": "stdout",
     "output_type": "stream",
     "text": [
      "Epoch 16, loss: 0.044, acc: 0.984, val_loss: 0.084, val_acc: 0.970\n"
     ]
    },
    {
     "name": "stderr",
     "output_type": "stream",
     "text": [
      "100%|██████████| 183/183 [00:02<00:00, 72.59it/s]\n",
      "  5%|▍         | 9/183 [00:00<00:02, 72.85it/s]"
     ]
    },
    {
     "name": "stdout",
     "output_type": "stream",
     "text": [
      "Epoch 17, loss: 0.039, acc: 0.986, val_loss: 0.060, val_acc: 0.979\n"
     ]
    },
    {
     "name": "stderr",
     "output_type": "stream",
     "text": [
      "100%|██████████| 183/183 [00:02<00:00, 69.70it/s]\n",
      "  5%|▍         | 9/183 [00:00<00:02, 80.81it/s]"
     ]
    },
    {
     "name": "stdout",
     "output_type": "stream",
     "text": [
      "Epoch 18, loss: 0.037, acc: 0.987, val_loss: 0.035, val_acc: 0.987\n"
     ]
    },
    {
     "name": "stderr",
     "output_type": "stream",
     "text": [
      "100%|██████████| 183/183 [00:02<00:00, 68.64it/s]\n",
      "  4%|▍         | 7/183 [00:00<00:02, 60.10it/s]"
     ]
    },
    {
     "name": "stdout",
     "output_type": "stream",
     "text": [
      "Epoch 19, loss: 0.032, acc: 0.989, val_loss: 0.093, val_acc: 0.969\n"
     ]
    },
    {
     "name": "stderr",
     "output_type": "stream",
     "text": [
      "100%|██████████| 183/183 [00:02<00:00, 69.86it/s]\n",
      "  4%|▍         | 7/183 [00:00<00:02, 68.44it/s]"
     ]
    },
    {
     "name": "stdout",
     "output_type": "stream",
     "text": [
      "Epoch 20, loss: 0.030, acc: 0.988, val_loss: 0.036, val_acc: 0.987\n"
     ]
    },
    {
     "name": "stderr",
     "output_type": "stream",
     "text": [
      "100%|██████████| 183/183 [00:02<00:00, 71.35it/s]\n",
      "  4%|▍         | 8/183 [00:00<00:02, 71.95it/s]"
     ]
    },
    {
     "name": "stdout",
     "output_type": "stream",
     "text": [
      "Epoch 21, loss: 0.023, acc: 0.992, val_loss: 0.068, val_acc: 0.977\n"
     ]
    },
    {
     "name": "stderr",
     "output_type": "stream",
     "text": [
      "100%|██████████| 183/183 [00:02<00:00, 68.60it/s]\n",
      "  3%|▎         | 6/183 [00:00<00:03, 53.78it/s]"
     ]
    },
    {
     "name": "stdout",
     "output_type": "stream",
     "text": [
      "Epoch 22, loss: 0.020, acc: 0.992, val_loss: 0.052, val_acc: 0.982\n"
     ]
    },
    {
     "name": "stderr",
     "output_type": "stream",
     "text": [
      "100%|██████████| 183/183 [00:02<00:00, 67.49it/s]\n",
      "  4%|▍         | 8/183 [00:00<00:02, 70.74it/s]"
     ]
    },
    {
     "name": "stdout",
     "output_type": "stream",
     "text": [
      "Epoch 23, loss: 0.018, acc: 0.994, val_loss: 0.042, val_acc: 0.985\n"
     ]
    },
    {
     "name": "stderr",
     "output_type": "stream",
     "text": [
      "100%|██████████| 183/183 [00:02<00:00, 71.72it/s]\n",
      "  4%|▍         | 8/183 [00:00<00:02, 64.51it/s]"
     ]
    },
    {
     "name": "stdout",
     "output_type": "stream",
     "text": [
      "Epoch 24, loss: 0.015, acc: 0.994, val_loss: 0.070, val_acc: 0.979\n"
     ]
    },
    {
     "name": "stderr",
     "output_type": "stream",
     "text": [
      "100%|██████████| 183/183 [00:02<00:00, 64.24it/s]\n",
      "  4%|▍         | 7/183 [00:00<00:02, 68.02it/s]"
     ]
    },
    {
     "name": "stdout",
     "output_type": "stream",
     "text": [
      "Epoch 25, loss: 0.013, acc: 0.996, val_loss: 0.044, val_acc: 0.985\n"
     ]
    },
    {
     "name": "stderr",
     "output_type": "stream",
     "text": [
      "100%|██████████| 183/183 [00:02<00:00, 65.90it/s]\n"
     ]
    },
    {
     "name": "stdout",
     "output_type": "stream",
     "text": [
      "Epoch 26, loss: 0.011, acc: 0.997, val_loss: 0.079, val_acc: 0.977\n",
      "('batch_size', 64)\n",
      "('learning_rate', 0.25)\n",
      "('decay', 0.0)\n",
      "('epochs', 26)\n",
      "('inflate_prior', 2.0)\n",
      "('input_noise', 0.0)\n",
      "('robust_train', 0)\n",
      "('epsilon', 0.1)\n",
      "('robust_lambda', 0.5)\n",
      "('loss_monte_carlo', 2)\n",
      "('input_upper', inf)\n",
      "('input_lower', -inf)\n",
      "('beta_1', 0.999)\n",
      "('beta_2', 0.9999)\n",
      "('lam', 1.0)\n",
      "('N', 11702)\n",
      "('max_eps', 0.1)\n",
      "('max_robust_lambda', 0.5)\n"
     ]
    }
   ],
   "source": [
    "model_name = f'mnist{SCALE[0]}x{SCALE[1]}_32_16_binary_target{target}_thesistest'\n",
    "opt = optimizers.VariationalOnlineGuassNewton()\n",
    "likelihood = tf.keras.losses.SparseCategoricalCrossentropy()\n",
    "\n",
    "inputs = Input(shape=X_train[0].shape)\n",
    "tmp = Flatten()(inputs)\n",
    "tmp = Dense(256,activation='relu')(tmp)\n",
    "tmp = Dense(128,activation='relu')(tmp)\n",
    "predictions = Dense(2,activation='softmax')(tmp)\n",
    "model = Model(inputs=inputs,outputs=predictions)\n",
    "\n",
    "bayes_model = opt.compile(model,loss_fn=likelihood,\n",
    "                          epochs=25, learning_rate=0.25,\n",
    "                          inflate_prior=2.0, log_file='tmp/log.txt')\n",
    "bayes_model.train(X_train,y_train,X_test,y_test)\n",
    "bayes_model.save(model_name)"
   ]
  },
  {
   "cell_type": "code",
   "execution_count": 35,
   "id": "4ba14b05",
   "metadata": {},
   "outputs": [
    {
     "name": "stdout",
     "output_type": "stream",
     "text": [
      "WARNING:tensorflow:No training configuration found in the save file, so the model was *not* compiled. Compile it manually.\n",
      "Model: \"functional_13\"\n",
      "_________________________________________________________________\n",
      "Layer (type)                 Output Shape              Param #   \n",
      "=================================================================\n",
      "input_8 (InputLayer)         [(None, 14, 14)]          0         \n",
      "_________________________________________________________________\n",
      "flatten_1 (Flatten)          (None, 196)               0         \n",
      "_________________________________________________________________\n",
      "dense_16 (Dense)             (None, 256)               50432     \n",
      "_________________________________________________________________\n",
      "dense_17 (Dense)             (None, 128)               32896     \n",
      "_________________________________________________________________\n",
      "dense_18 (Dense)             (None, 2)                 258       \n",
      "=================================================================\n",
      "Total params: 83,586\n",
      "Trainable params: 83,586\n",
      "Non-trainable params: 0\n",
      "_________________________________________________________________\n",
      "deepbayes: detected the above model \n",
      " None\n",
      "\n",
      "Loaded model accuracy: 96.56%\n"
     ]
    }
   ],
   "source": [
    "model_name = f'mnist{SCALE[0]}x{SCALE[1]}_32_16_binary_target{target}_thesistest'\n",
    "bayes_model = PosteriorModel(model_name)\n",
    "y_pred = bayes_model.predict(X_test,n=50)\n",
    "check_accuracy = tf.keras.metrics.Accuracy(name=\"train_acc\")\n",
    "check_accuracy(y_test,np.argmax(y_pred,axis=1))\n",
    "print()\n",
    "print('Loaded model accuracy:',f'{check_accuracy.result().numpy()*100:.2f}%')"
   ]
  },
  {
   "cell_type": "code",
   "execution_count": 48,
   "id": "c4db7dbf",
   "metadata": {},
   "outputs": [
    {
     "data": {
      "image/png": "[encoded data removed]",
      "text/plain": [
       "<Figure size 432x288 with 1 Axes>"
      ]
     },
     "metadata": {
      "needs_background": "light"
     },
     "output_type": "display_data"
    },
    {
     "name": "stdout",
     "output_type": "stream",
     "text": [
      "Prediction: Not eight.\n"
     ]
    }
   ],
   "source": [
    "N = 50\n",
    "# pick a random positive input for testing\n",
    "n = 0\n",
    "for i in range(11235,len(y_train)):\n",
    "    if y_train[i] == 1:\n",
    "        n = i\n",
    "        break\n",
    "\n",
    "X = X_train[n].reshape(1,SCALE[0],SCALE[1]).astype(np.float32)\n",
    "y_hat = np.argmax(bayes_model.predict(X,n=N))\n",
    "y_class = 'Eight.' if y_hat == 1 else 'Not eight.'\n",
    "display_number(X,SCALE)\n",
    "print('Prediction:',y_class)\n",
    "input_shape = X.flatten().shape"
   ]
  },
  {
   "cell_type": "code",
   "execution_count": 49,
   "id": "9e0a7c75",
   "metadata": {},
   "outputs": [
    {
     "name": "stdout",
     "output_type": "stream",
     "text": [
      "dense_18\n",
      "dense_17\n",
      "dense_16\n",
      "flatten_1\n",
      "input_8\n",
      "(1, 14, 14)\n",
      "[0.00000000e+00 0.00000000e+00 7.03198323e-01 8.41634334e-01\n",
      " 6.07175265e-01 4.21925643e-01 6.85384600e-01 7.52185648e-01\n",
      " 6.01189255e-01 9.74530187e-01 6.34470027e-01 1.00000000e+00\n",
      " 4.23366831e-04 0.00000000e+00]\n"
     ]
    }
   ],
   "source": [
    "sys.path.append(\"../GTSRB/LayerwiseRelevancePropagation/src\")\n",
    "from lrp import RelevancePropagation\n",
    "bayes_model.set_weights(bayes_model.sample())\n",
    "X = X.reshape(1,SCALE[0],SCALE[1])\n",
    "y = np.argmax(np.array(bayes_model._predict(X)).flatten())\n",
    "\n",
    "lrp = RelevancePropagation(0.01,'max',True,X.shape,bayes_model.model)\n",
    "exp = lrp.run(X)\n",
    "print(exp)"
   ]
  },
  {
   "cell_type": "code",
   "execution_count": 14,
   "id": "c2f86bbe",
   "metadata": {},
   "outputs": [
    {
     "ename": "KeyboardInterrupt",
     "evalue": "",
     "output_type": "error",
     "traceback": [
      "\u001b[0;31m---------------------------------------------------------------------------\u001b[0m",
      "\u001b[0;31mKeyboardInterrupt\u001b[0m                         Traceback (most recent call last)",
      "\u001b[0;32m<ipython-input-14-64ae639e2a32>\u001b[0m in \u001b[0;36m<module>\u001b[0;34m\u001b[0m\n\u001b[1;32m     14\u001b[0m \u001b[0mfull\u001b[0m \u001b[0;34m=\u001b[0m \u001b[0;32mFalse\u001b[0m\u001b[0;34m\u001b[0m\u001b[0;34m\u001b[0m\u001b[0m\n\u001b[1;32m     15\u001b[0m \u001b[0;32mwhile\u001b[0m \u001b[0;32mnot\u001b[0m \u001b[0mfull\u001b[0m\u001b[0;34m:\u001b[0m\u001b[0;34m\u001b[0m\u001b[0;34m\u001b[0m\u001b[0m\n\u001b[0;32m---> 16\u001b[0;31m     \u001b[0;32mif\u001b[0m \u001b[0mlen\u001b[0m\u001b[0;34m(\u001b[0m\u001b[0;34m[\u001b[0m\u001b[0mname\u001b[0m \u001b[0;32mfor\u001b[0m \u001b[0mname\u001b[0m \u001b[0;32min\u001b[0m \u001b[0mos\u001b[0m\u001b[0;34m.\u001b[0m\u001b[0mlistdir\u001b[0m\u001b[0;34m(\u001b[0m\u001b[0moutput_path\u001b[0m\u001b[0;34m)\u001b[0m \u001b[0;32mif\u001b[0m \u001b[0mos\u001b[0m\u001b[0;34m.\u001b[0m\u001b[0mpath\u001b[0m\u001b[0;34m.\u001b[0m\u001b[0misfile\u001b[0m\u001b[0;34m(\u001b[0m\u001b[0mos\u001b[0m\u001b[0;34m.\u001b[0m\u001b[0mpath\u001b[0m\u001b[0;34m.\u001b[0m\u001b[0mjoin\u001b[0m\u001b[0;34m(\u001b[0m\u001b[0moutput_path\u001b[0m\u001b[0;34m,\u001b[0m \u001b[0mname\u001b[0m\u001b[0;34m)\u001b[0m\u001b[0;34m)\u001b[0m\u001b[0;34m]\u001b[0m\u001b[0;34m)\u001b[0m \u001b[0;34m==\u001b[0m \u001b[0miterations\u001b[0m\u001b[0;34m+\u001b[0m\u001b[0;36m1\u001b[0m\u001b[0;34m:\u001b[0m\u001b[0;34m\u001b[0m\u001b[0;34m\u001b[0m\u001b[0m\n\u001b[0m\u001b[1;32m     17\u001b[0m         \u001b[0mfull\u001b[0m \u001b[0;34m=\u001b[0m \u001b[0;32mTrue\u001b[0m\u001b[0;34m\u001b[0m\u001b[0;34m\u001b[0m\u001b[0m\n",
      "\u001b[0;31mKeyboardInterrupt\u001b[0m: "
     ]
    }
   ],
   "source": [
    "# THIS TAKES ~ 5 mins\n",
    "input_path = 'X_thesis.npy'\n",
    "y_path = 'y_thesis.npy'\n",
    "output_path = f'exps/exps_thesis{n}'\n",
    "if not os.path.exists(output_path):\n",
    "    os.mkdir(output_path)\n",
    "np.save(os.path.join(output_path,input_path),X,False)\n",
    "np.save(os.path.join(output_path,y_path),y_hat,False)\n",
    "\n",
    "iterations = 20\n",
    "for i in range(iterations):\n",
    "    subprocess.Popen(['python3','get_mnist_exp.py',str(i),model_name,os.path.join(output_path,input_path),output_path])\n",
    "    \n",
    "full = False \n",
    "while not full:\n",
    "    if len([name for name in os.listdir(output_path) if os.path.isfile(os.path.join(output_path, name))]) == iterations+1:\n",
    "        full = True"
   ]
  },
  {
   "cell_type": "code",
   "execution_count": 6,
   "id": "fd24c0df",
   "metadata": {},
   "outputs": [],
   "source": [
    "# read in and display the results from the above\n",
    "exps = []\n",
    "for f in os.listdir('exps'):\n",
    "    if os.path.isfile(os.path.join('exps',f)):\n",
    "        tmp = np.load(os.path.join('exps',f))\n",
    "        exps.append(tmp)"
   ]
  },
  {
   "cell_type": "code",
   "execution_count": 1,
   "id": "b55aed11",
   "metadata": {},
   "outputs": [
    {
     "ename": "NameError",
     "evalue": "name 'np' is not defined",
     "output_type": "error",
     "traceback": [
      "\u001b[0;31m---------------------------------------------------------------------------\u001b[0m",
      "\u001b[0;31mNameError\u001b[0m                                 Traceback (most recent call last)",
      "\u001b[0;32m<ipython-input-1-dcc89b31075a>\u001b[0m in \u001b[0;36m<module>\u001b[0;34m\u001b[0m\n\u001b[0;32m----> 1\u001b[0;31m \u001b[0mnp_exps\u001b[0m \u001b[0;34m=\u001b[0m \u001b[0mnp\u001b[0m\u001b[0;34m.\u001b[0m\u001b[0marray\u001b[0m\u001b[0;34m(\u001b[0m\u001b[0mexps\u001b[0m\u001b[0;34m)\u001b[0m\u001b[0;34m\u001b[0m\u001b[0;34m\u001b[0m\u001b[0m\n\u001b[0m\u001b[1;32m      2\u001b[0m \u001b[0;34m\u001b[0m\u001b[0m\n\u001b[1;32m      3\u001b[0m \u001b[0mnew_exps\u001b[0m \u001b[0;34m=\u001b[0m \u001b[0mnp_exps\u001b[0m\u001b[0;34m\u001b[0m\u001b[0;34m\u001b[0m\u001b[0m\n\u001b[1;32m      4\u001b[0m \u001b[0;34m\u001b[0m\u001b[0m\n\u001b[1;32m      5\u001b[0m \u001b[0mmerged\u001b[0m \u001b[0;34m=\u001b[0m \u001b[0msum\u001b[0m\u001b[0;34m(\u001b[0m\u001b[0mnew_exps\u001b[0m\u001b[0;34m)\u001b[0m\u001b[0;34m/\u001b[0m\u001b[0mlen\u001b[0m\u001b[0;34m(\u001b[0m\u001b[0mnew_exps\u001b[0m\u001b[0;34m)\u001b[0m\u001b[0;34m\u001b[0m\u001b[0;34m\u001b[0m\u001b[0m\n",
      "\u001b[0;31mNameError\u001b[0m: name 'np' is not defined"
     ]
    }
   ],
   "source": [
    "np_exps = np.array(exps)\n",
    "\n",
    "new_exps = np_exps\n",
    "\n",
    "merged = sum(new_exps)/len(new_exps)\n",
    "\n",
    "mexp = merged[0]\n",
    "pos = np.zeros(input_shape)\n",
    "neg = np.zeros(input_shape)\n",
    "\n",
    "clip_val = 100000\n",
    "\n",
    "if(y_hat == 0):\n",
    "    pos += np.squeeze(np.clip(mexp, 0, clip_val))\n",
    "    neg += -1*np.squeeze(np.clip(mexp, -clip_val, 0))\n",
    "elif(y_hat == 1):\n",
    "    neg += np.squeeze(np.clip(mexp, 0, clip_val))\n",
    "    pos += -1*np.squeeze(np.clip(mexp, -clip_val, 0))\n",
    "    \n",
    "display_number(X.flatten(),SCALE)\n",
    "expl = pos if y_hat == 0 else neg\n",
    "display_explanation(X.flatten(),SCALE,expl)"
   ]
  },
  {
   "cell_type": "code",
   "execution_count": 8,
   "id": "0b90f3c2",
   "metadata": {
    "scrolled": true
   },
   "outputs": [
    {
     "name": "stdout",
     "output_type": "stream",
     "text": [
      "step 0\n",
      "step 100\n",
      "step 200\n",
      "step 300\n"
     ]
    },
    {
     "ename": "KeyboardInterrupt",
     "evalue": "",
     "output_type": "error",
     "traceback": [
      "\u001b[0;31m---------------------------------------------------------------------------\u001b[0m",
      "\u001b[0;31mKeyboardInterrupt\u001b[0m                         Traceback (most recent call last)",
      "\u001b[0;32m<ipython-input-8-b3d7a4395bb3>\u001b[0m in \u001b[0;36m<module>\u001b[0;34m\u001b[0m\n\u001b[1;32m     12\u001b[0m     \u001b[0;32mfor\u001b[0m \u001b[0mi\u001b[0m \u001b[0;32min\u001b[0m \u001b[0mrange\u001b[0m\u001b[0;34m(\u001b[0m\u001b[0mn\u001b[0m\u001b[0;34m)\u001b[0m\u001b[0;34m:\u001b[0m\u001b[0;34m\u001b[0m\u001b[0;34m\u001b[0m\u001b[0m\n\u001b[1;32m     13\u001b[0m         \u001b[0mbayes_model\u001b[0m\u001b[0;34m.\u001b[0m\u001b[0mmodel\u001b[0m\u001b[0;34m.\u001b[0m\u001b[0mset_weights\u001b[0m\u001b[0;34m(\u001b[0m\u001b[0mbayes_model\u001b[0m\u001b[0;34m.\u001b[0m\u001b[0msample\u001b[0m\u001b[0;34m(\u001b[0m\u001b[0;34m)\u001b[0m\u001b[0;34m)\u001b[0m\u001b[0;34m\u001b[0m\u001b[0;34m\u001b[0m\u001b[0m\n\u001b[0;32m---> 14\u001b[0;31m         \u001b[0my_preds\u001b[0m\u001b[0;34m.\u001b[0m\u001b[0mappend\u001b[0m\u001b[0;34m(\u001b[0m\u001b[0mbayes_model\u001b[0m\u001b[0;34m.\u001b[0m\u001b[0mmodel\u001b[0m\u001b[0;34m(\u001b[0m\u001b[0mXt_one\u001b[0m\u001b[0;34m)\u001b[0m\u001b[0;34m)\u001b[0m\u001b[0;34m\u001b[0m\u001b[0;34m\u001b[0m\u001b[0m\n\u001b[0m\u001b[1;32m     15\u001b[0m \u001b[0;34m\u001b[0m\u001b[0m\n\u001b[1;32m     16\u001b[0m     \u001b[0;31m#print(y_preds)\u001b[0m\u001b[0;34m\u001b[0m\u001b[0;34m\u001b[0m\u001b[0;34m\u001b[0m\u001b[0m\n",
      "\u001b[0;32m~/.local/lib/python3.6/site-packages/tensorflow/python/keras/engine/base_layer.py\u001b[0m in \u001b[0;36m__call__\u001b[0;34m(self, *args, **kwargs)\u001b[0m\n\u001b[1;32m    983\u001b[0m \u001b[0;34m\u001b[0m\u001b[0m\n\u001b[1;32m    984\u001b[0m         \u001b[0;32mwith\u001b[0m \u001b[0mops\u001b[0m\u001b[0;34m.\u001b[0m\u001b[0menable_auto_cast_variables\u001b[0m\u001b[0;34m(\u001b[0m\u001b[0mself\u001b[0m\u001b[0;34m.\u001b[0m\u001b[0m_compute_dtype_object\u001b[0m\u001b[0;34m)\u001b[0m\u001b[0;34m:\u001b[0m\u001b[0;34m\u001b[0m\u001b[0;34m\u001b[0m\u001b[0m\n\u001b[0;32m--> 985\u001b[0;31m           \u001b[0moutputs\u001b[0m \u001b[0;34m=\u001b[0m \u001b[0mcall_fn\u001b[0m\u001b[0;34m(\u001b[0m\u001b[0minputs\u001b[0m\u001b[0;34m,\u001b[0m \u001b[0;34m*\u001b[0m\u001b[0margs\u001b[0m\u001b[0;34m,\u001b[0m \u001b[0;34m**\u001b[0m\u001b[0mkwargs\u001b[0m\u001b[0;34m)\u001b[0m\u001b[0;34m\u001b[0m\u001b[0;34m\u001b[0m\u001b[0m\n\u001b[0m\u001b[1;32m    986\u001b[0m \u001b[0;34m\u001b[0m\u001b[0m\n\u001b[1;32m    987\u001b[0m         \u001b[0;32mif\u001b[0m \u001b[0mself\u001b[0m\u001b[0;34m.\u001b[0m\u001b[0m_activity_regularizer\u001b[0m\u001b[0;34m:\u001b[0m\u001b[0;34m\u001b[0m\u001b[0;34m\u001b[0m\u001b[0m\n",
      "\u001b[0;32m~/.local/lib/python3.6/site-packages/tensorflow/python/keras/engine/sequential.py\u001b[0m in \u001b[0;36mcall\u001b[0;34m(self, inputs, training, mask)\u001b[0m\n\u001b[1;32m    370\u001b[0m       \u001b[0;32mif\u001b[0m \u001b[0;32mnot\u001b[0m \u001b[0mself\u001b[0m\u001b[0;34m.\u001b[0m\u001b[0mbuilt\u001b[0m\u001b[0;34m:\u001b[0m\u001b[0;34m\u001b[0m\u001b[0;34m\u001b[0m\u001b[0m\n\u001b[1;32m    371\u001b[0m         \u001b[0mself\u001b[0m\u001b[0;34m.\u001b[0m\u001b[0m_init_graph_network\u001b[0m\u001b[0;34m(\u001b[0m\u001b[0mself\u001b[0m\u001b[0;34m.\u001b[0m\u001b[0minputs\u001b[0m\u001b[0;34m,\u001b[0m \u001b[0mself\u001b[0m\u001b[0;34m.\u001b[0m\u001b[0moutputs\u001b[0m\u001b[0;34m)\u001b[0m\u001b[0;34m\u001b[0m\u001b[0;34m\u001b[0m\u001b[0m\n\u001b[0;32m--> 372\u001b[0;31m       \u001b[0;32mreturn\u001b[0m \u001b[0msuper\u001b[0m\u001b[0;34m(\u001b[0m\u001b[0mSequential\u001b[0m\u001b[0;34m,\u001b[0m \u001b[0mself\u001b[0m\u001b[0;34m)\u001b[0m\u001b[0;34m.\u001b[0m\u001b[0mcall\u001b[0m\u001b[0;34m(\u001b[0m\u001b[0minputs\u001b[0m\u001b[0;34m,\u001b[0m \u001b[0mtraining\u001b[0m\u001b[0;34m=\u001b[0m\u001b[0mtraining\u001b[0m\u001b[0;34m,\u001b[0m \u001b[0mmask\u001b[0m\u001b[0;34m=\u001b[0m\u001b[0mmask\u001b[0m\u001b[0;34m)\u001b[0m\u001b[0;34m\u001b[0m\u001b[0;34m\u001b[0m\u001b[0m\n\u001b[0m\u001b[1;32m    373\u001b[0m \u001b[0;34m\u001b[0m\u001b[0m\n\u001b[1;32m    374\u001b[0m     \u001b[0moutputs\u001b[0m \u001b[0;34m=\u001b[0m \u001b[0minputs\u001b[0m  \u001b[0;31m# handle the corner case where self.layers is empty\u001b[0m\u001b[0;34m\u001b[0m\u001b[0;34m\u001b[0m\u001b[0m\n",
      "\u001b[0;32m~/.local/lib/python3.6/site-packages/tensorflow/python/keras/engine/functional.py\u001b[0m in \u001b[0;36mcall\u001b[0;34m(self, inputs, training, mask)\u001b[0m\n\u001b[1;32m    384\u001b[0m     \"\"\"\n\u001b[1;32m    385\u001b[0m     return self._run_internal_graph(\n\u001b[0;32m--> 386\u001b[0;31m         inputs, training=training, mask=mask)\n\u001b[0m\u001b[1;32m    387\u001b[0m \u001b[0;34m\u001b[0m\u001b[0m\n\u001b[1;32m    388\u001b[0m   \u001b[0;32mdef\u001b[0m \u001b[0mcompute_output_shape\u001b[0m\u001b[0;34m(\u001b[0m\u001b[0mself\u001b[0m\u001b[0;34m,\u001b[0m \u001b[0minput_shape\u001b[0m\u001b[0;34m)\u001b[0m\u001b[0;34m:\u001b[0m\u001b[0;34m\u001b[0m\u001b[0;34m\u001b[0m\u001b[0m\n",
      "\u001b[0;32m~/.local/lib/python3.6/site-packages/tensorflow/python/keras/engine/functional.py\u001b[0m in \u001b[0;36m_run_internal_graph\u001b[0;34m(self, inputs, training, mask)\u001b[0m\n\u001b[1;32m    506\u001b[0m \u001b[0;34m\u001b[0m\u001b[0m\n\u001b[1;32m    507\u001b[0m         \u001b[0margs\u001b[0m\u001b[0;34m,\u001b[0m \u001b[0mkwargs\u001b[0m \u001b[0;34m=\u001b[0m \u001b[0mnode\u001b[0m\u001b[0;34m.\u001b[0m\u001b[0mmap_arguments\u001b[0m\u001b[0;34m(\u001b[0m\u001b[0mtensor_dict\u001b[0m\u001b[0;34m)\u001b[0m\u001b[0;34m\u001b[0m\u001b[0;34m\u001b[0m\u001b[0m\n\u001b[0;32m--> 508\u001b[0;31m         \u001b[0moutputs\u001b[0m \u001b[0;34m=\u001b[0m \u001b[0mnode\u001b[0m\u001b[0;34m.\u001b[0m\u001b[0mlayer\u001b[0m\u001b[0;34m(\u001b[0m\u001b[0;34m*\u001b[0m\u001b[0margs\u001b[0m\u001b[0;34m,\u001b[0m \u001b[0;34m**\u001b[0m\u001b[0mkwargs\u001b[0m\u001b[0;34m)\u001b[0m\u001b[0;34m\u001b[0m\u001b[0;34m\u001b[0m\u001b[0m\n\u001b[0m\u001b[1;32m    509\u001b[0m \u001b[0;34m\u001b[0m\u001b[0m\n\u001b[1;32m    510\u001b[0m         \u001b[0;31m# Update tensor_dict.\u001b[0m\u001b[0;34m\u001b[0m\u001b[0;34m\u001b[0m\u001b[0;34m\u001b[0m\u001b[0m\n",
      "\u001b[0;32m~/.local/lib/python3.6/site-packages/tensorflow/python/keras/engine/base_layer.py\u001b[0m in \u001b[0;36m__call__\u001b[0;34m(self, *args, **kwargs)\u001b[0m\n\u001b[1;32m    967\u001b[0m \u001b[0;34m\u001b[0m\u001b[0m\n\u001b[1;32m    968\u001b[0m       \u001b[0;32mif\u001b[0m \u001b[0mself\u001b[0m\u001b[0;34m.\u001b[0m\u001b[0m_autocast\u001b[0m\u001b[0;34m:\u001b[0m\u001b[0;34m\u001b[0m\u001b[0;34m\u001b[0m\u001b[0m\n\u001b[0;32m--> 969\u001b[0;31m         \u001b[0minputs\u001b[0m \u001b[0;34m=\u001b[0m \u001b[0mself\u001b[0m\u001b[0;34m.\u001b[0m\u001b[0m_maybe_cast_inputs\u001b[0m\u001b[0;34m(\u001b[0m\u001b[0minputs\u001b[0m\u001b[0;34m,\u001b[0m \u001b[0minput_list\u001b[0m\u001b[0;34m)\u001b[0m\u001b[0;34m\u001b[0m\u001b[0;34m\u001b[0m\u001b[0m\n\u001b[0m\u001b[1;32m    970\u001b[0m \u001b[0;34m\u001b[0m\u001b[0m\n\u001b[1;32m    971\u001b[0m       \u001b[0;32mif\u001b[0m \u001b[0meager\u001b[0m\u001b[0;34m:\u001b[0m\u001b[0;34m\u001b[0m\u001b[0;34m\u001b[0m\u001b[0m\n",
      "\u001b[0;32m~/.local/lib/python3.6/site-packages/tensorflow/python/keras/engine/base_layer.py\u001b[0m in \u001b[0;36m_maybe_cast_inputs\u001b[0;34m(self, inputs, input_list)\u001b[0m\n\u001b[1;32m   2310\u001b[0m     \u001b[0;32mreturn\u001b[0m \u001b[0mself\u001b[0m\u001b[0;34m.\u001b[0m\u001b[0m_dtype_policy\u001b[0m\u001b[0;34m.\u001b[0m\u001b[0mcompute_dtype\u001b[0m\u001b[0;34m\u001b[0m\u001b[0;34m\u001b[0m\u001b[0m\n\u001b[1;32m   2311\u001b[0m \u001b[0;34m\u001b[0m\u001b[0m\n\u001b[0;32m-> 2312\u001b[0;31m   \u001b[0;32mdef\u001b[0m \u001b[0m_maybe_cast_inputs\u001b[0m\u001b[0;34m(\u001b[0m\u001b[0mself\u001b[0m\u001b[0;34m,\u001b[0m \u001b[0minputs\u001b[0m\u001b[0;34m,\u001b[0m \u001b[0minput_list\u001b[0m\u001b[0;34m=\u001b[0m\u001b[0;32mNone\u001b[0m\u001b[0;34m)\u001b[0m\u001b[0;34m:\u001b[0m\u001b[0;34m\u001b[0m\u001b[0;34m\u001b[0m\u001b[0m\n\u001b[0m\u001b[1;32m   2313\u001b[0m     \"\"\"Maybe casts the inputs to the compute dtype.\n\u001b[1;32m   2314\u001b[0m \u001b[0;34m\u001b[0m\u001b[0m\n",
      "\u001b[0;31mKeyboardInterrupt\u001b[0m: "
     ]
    }
   ],
   "source": [
    "uncert_Xs = []\n",
    "uncert_Ypredarrs = []\n",
    "uncert_ytruth = []\n",
    "for idx,xt in enumerate(X_test):\n",
    "    if idx%100 == 0:\n",
    "        print('step',idx)\n",
    "    s_len = len(uncert_Xs)\n",
    "    Xt_one = np.array([xt])\n",
    "    y_preds = []\n",
    "    n = 50\n",
    "    truth = y_test[idx]\n",
    "    for i in range(n):\n",
    "        bayes_model.model.set_weights(bayes_model.sample())\n",
    "        y_preds.append(bayes_model.model(Xt_one))\n",
    "\n",
    "    #print(y_preds)\n",
    "    argmax = list(map(np.argmax,y_preds))\n",
    "    try:\n",
    "        m = mode(argmax)\n",
    "        if not argmax.count(m) >= len(argmax)-(n/2):\n",
    "            uncert_Xs.append(list(map(float,xt)))\n",
    "            uncert_Ypredarrs.append([list(map(float,yp[0])) for yp in y_preds])\n",
    "            uncert_ytruth.append(int(truth))\n",
    "    except:\n",
    "        uncert_Xs.append(list(map(float,xt)))\n",
    "        uncert_Ypredarrs.append([list(map(float,yp[0])) for yp in y_preds])\n",
    "        uncert_ytruth.append(int(truth))\n",
    "\n",
    "    if len(uncert_Xs) > s_len:\n",
    "        print(len(uncert_Xs))\n",
    "    if len(uncert_Xs) > 4:\n",
    "        break\n",
    "        \n",
    "to_file_entries = []\n",
    "for idx,uyp in enumerate(uncert_Ypredarrs):\n",
    "    entry = dict()\n",
    "    entry['input'] = uncert_Xs[idx]\n",
    "    entry['y'] = uncert_ytruth[idx]\n",
    "    entry['y_pred_arrs'] = uyp\n",
    "    entry['y_preds'] = list(map(int,list(map(np.argmax,uyp))))\n",
    "    to_file_entries.append(entry)\n",
    "    print(list(map(np.argmax,uyp)))\n",
    "\n",
    "# save uncert inputs to file\n",
    "\n",
    "with open('uncert_data/uncert_mnist.json','w') as f:\n",
    "    json.dump(to_file_entries,f)\n",
    "    "
   ]
  },
  {
   "cell_type": "code",
   "execution_count": 102,
   "id": "6f5e3592",
   "metadata": {},
   "outputs": [],
   "source": [
    "# TAKES A WHILE TO RUN (~5 MINS)\n",
    "\n",
    "uncert_idx = 3\n",
    "\n",
    "uncert_dict = None\n",
    "with open('uncert_data/uncert_mnist.json','r') as f:\n",
    "    uncert_dict = json.load(f)\n",
    "    \n",
    "if uncert_idx > len(uncert_dict):\n",
    "    print('No data at this index.')\n",
    "    \n",
    "uncert_X = np.asarray(uncert_dict[uncert_idx]['input']).reshape(1,SCALE[0]*SCALE[1]).astype(float)\n",
    "uncert_y = uncert_dict[uncert_idx]['y']\n",
    "\n",
    "input_path = 'X_uncert.npy'\n",
    "y_path = 'y_uncert.npy'\n",
    "output_path = f'exps/exps_uncert{uncert_idx}'\n",
    "if not os.path.exists(output_path):\n",
    "    os.mkdir(output_path)\n",
    "np.save(os.path.join(output_path,input_path),uncert_X,False)\n",
    "np.save(os.path.join(output_path,y_path),uncert_y,False)\n",
    "\n",
    "iterations = 20\n",
    "for i in range(iterations):\n",
    "    subprocess.Popen(['python3','get_mnist_exp.py',str(i),model_name,os.path.join(output_path,input_path),output_path])\n",
    "    \n",
    "full = False \n",
    "while not full:\n",
    "    if len([name for name in os.listdir(output_path) if os.path.isfile(os.path.join(output_path, name))]) == iterations+1:\n",
    "        full = True\n",
    "    "
   ]
  },
  {
   "cell_type": "code",
   "execution_count": 53,
   "id": "14d7f86d",
   "metadata": {},
   "outputs": [],
   "source": []
  },
  {
   "cell_type": "code",
   "execution_count": 11,
   "id": "1cecbfa7",
   "metadata": {},
   "outputs": [
    {
     "name": "stdout",
     "output_type": "stream",
     "text": [
      "Input image (ground truth = 0 Negative (it's not an 8)):\n"
     ]
    },
    {
     "data": {
      "image/png": "[encoded data removed]",
      "text/plain": [
       "<Figure size 432x288 with 1 Axes>"
      ]
     },
     "metadata": {
      "needs_background": "light"
     },
     "output_type": "display_data"
    },
    {
     "name": "stdout",
     "output_type": "stream",
     "text": [
      "Positive explanation (contributes to class 0):\n"
     ]
    },
    {
     "data": {
      "image/png": "[encoded data removed]",
      "text/plain": [
       "<Figure size 432x288 with 3 Axes>"
      ]
     },
     "metadata": {
      "needs_background": "light"
     },
     "output_type": "display_data"
    },
    {
     "name": "stdout",
     "output_type": "stream",
     "text": [
      "Negative explanation (contributes against class 0):\n"
     ]
    },
    {
     "data": {
      "image/png": "[encoded data removed]",
      "text/plain": [
       "<Figure size 432x288 with 3 Axes>"
      ]
     },
     "metadata": {
      "needs_background": "light"
     },
     "output_type": "display_data"
    },
    {
     "name": "stdout",
     "output_type": "stream",
     "text": [
      "\n",
      "Sanity checking\n",
      "---------------\n",
      "Index in X_test: 1554\n",
      "Classification in y_test: 0\n"
     ]
    }
   ],
   "source": [
    "# read in and display the results from an uncert input\n",
    "\n",
    "input_num = 1\n",
    "input_path = 'X_uncert.npy'\n",
    "output_path = f'exps/exps_uncert{input_num}'\n",
    "y_path = 'y_uncert.npy'\n",
    "\n",
    "\n",
    "exps = []\n",
    "for f in os.listdir(output_path):\n",
    "    if os.path.isfile(os.path.join(output_path,f)) and not f.startswith('X') and not f.startswith('y'):\n",
    "        tmp = np.load(os.path.join(output_path,f))\n",
    "        exps.append(tmp)\n",
    "        \n",
    "uncert_X = np.load(os.path.join(output_path,input_path))\n",
    "uncert_y = np.load(os.path.join(output_path,y_path))\n",
    "\n",
    "input_shape = uncert_X.flatten().shape\n",
    "        \n",
    "np_exps = np.array(exps)\n",
    "\n",
    "new_exps = np_exps\n",
    "\n",
    "merged = sum(new_exps)/len(new_exps)\n",
    "\n",
    "mexp = merged[0]\n",
    "pos = np.zeros(input_shape)\n",
    "neg = np.zeros(input_shape)\n",
    "\n",
    "clip_val = 100000\n",
    "\n",
    "if(uncert_y == 0):\n",
    "    pos += np.squeeze(np.clip(mexp, 0, clip_val))\n",
    "    neg += -1*np.squeeze(np.clip(mexp, -clip_val, 0))\n",
    "elif(uncert_y == 1):\n",
    "    neg += np.squeeze(np.clip(mexp, 0, clip_val))\n",
    "    pos += -1*np.squeeze(np.clip(mexp, -clip_val, 0))\n",
    "\n",
    "act_class = \"Positive (it's an 8)\" if uncert_y > 0 else \"Negative (it's not an 8)\" \n",
    "print(f'Input image (ground truth = {uncert_y} {act_class}):')\n",
    "display_number(uncert_X.flatten(),SCALE)\n",
    "print(f'Positive explanation (contributes to class {uncert_y}):')\n",
    "display_explanation(uncert_X.flatten(),SCALE,pos)\n",
    "print(f'Negative explanation (contributes against class {uncert_y}):')\n",
    "display_explanation(uncert_X.flatten(),SCALE,neg)\n",
    "print()\n",
    "print('Sanity checking')\n",
    "print('---------------')\n",
    "for idx,xt in enumerate(X_test):\n",
    "    if list(uncert_X.flatten()) == list(map(float,xt)):\n",
    "        print('Index in X_test:',idx)\n",
    "        print('Classification in y_test:',y_test[idx])"
   ]
  },
  {
   "cell_type": "code",
   "execution_count": null,
   "id": "f2aced74",
   "metadata": {},
   "outputs": [],
   "source": [
    "# want to find: average bayesian explanation of an 8\n",
    "\n",
    "# train on just 1's and 9's, give it a 7 (look at prediction for both 1 and 9, hope we see corresponding parts)\n",
    "\n",
    "# pick another good explanation method"
   ]
  }
 ],
 "metadata": {
  "kernelspec": {
   "display_name": "Python 3",
   "language": "python",
   "name": "python3"
  },
  "language_info": {
   "codemirror_mode": {
    "name": "ipython",
    "version": 3
   },
   "file_extension": ".py",
   "mimetype": "text/x-python",
   "name": "python",
   "nbconvert_exporter": "python",
   "pygments_lexer": "ipython3",
   "version": "3.6.9"
  }
 },
 "nbformat": 4,
 "nbformat_minor": 5
}
