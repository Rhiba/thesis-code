{
 "cells": [
  {
   "cell_type": "code",
   "execution_count": 1,
   "id": "df76856e",
   "metadata": {},
   "outputs": [],
   "source": [
    "import os\n",
    "import sys\n",
    "sys.path.append('../..')\n",
    "import numpy as np\n",
    "import deepbayesHF\n",
    "import deepbayesHF.optimizers as optimizers\n",
    "from deepbayesHF import PosteriorModel\n",
    "from deepbayesHF.analyzers import FGSM\n",
    "from deepbayesHF.analyzers import eps_LRP\n",
    "import tensorflow as tf\n",
    "from tensorflow.keras.models import *\n",
    "from tensorflow.keras.layers import *\n",
    "import cv2\n",
    "import random\n",
    "import matplotlib.pyplot as plt\n",
    "from collections import namedtuple\n",
    "\n",
    "from joblib import Parallel, delayed\n",
    "import subprocess\n",
    "from statistics import mode\n",
    "import json"
   ]
  },
  {
   "cell_type": "code",
   "execution_count": 2,
   "id": "30d254de",
   "metadata": {},
   "outputs": [],
   "source": [
    "def display_number(X,SCALE):\n",
    "    X = X.reshape(SCALE[0],SCALE[1])\n",
    "    plt.imshow(X,cmap='gray')\n",
    "    plt.show()\n",
    "    \n",
    "def display_explanation(x0,SCALE,expl):\n",
    "    fig, (ax1,ax2,ax3) = plt.subplots(1,3)\n",
    "    x0_2d = x0.reshape(SCALE[0],SCALE[1])\n",
    "    ax1.set_title('Input')\n",
    "    ax1.imshow(x0_2d,cmap='gray')\n",
    "    expl_2d = expl.reshape(SCALE[0],SCALE[1])\n",
    "    ax2.set_title('Explanation')\n",
    "    ax2.imshow(expl_2d)\n",
    "    \n",
    "    cmap = plt.cm.gray\n",
    "    norm = plt.Normalize(x0.min(),x0.max())\n",
    "    rgba = cmap(norm(x0))\n",
    "    \n",
    "    norm_ex = plt.Normalize(expl.min(),expl.max())\n",
    "    normed_ex = norm_ex(expl)\n",
    "    \n",
    "    for i,x in enumerate(normed_ex):\n",
    "        if x > 0:\n",
    "            rgba[i] = x,0,0,1\n",
    "    \n",
    "    rgba = rgba.reshape(SCALE[0],SCALE[1],4)\n",
    "    \n",
    "    ax3.set_title('Overlayed')\n",
    "    ax3.imshow(rgba,interpolation='nearest')\n",
    "    plt.show()"
   ]
  },
  {
   "cell_type": "code",
   "execution_count": 3,
   "id": "4190aa74",
   "metadata": {},
   "outputs": [],
   "source": [
    "# Load mnist data and scale down to SCALE (trying 14x14 initially)\n",
    "\n",
    "(X_train, y_train), (X_test, y_test) = tf.keras.datasets.mnist.load_data()\n",
    "SCALE = (14,14)\n",
    "if not SCALE == X_train[0].shape:\n",
    "    X_train = np.array(list(map(lambda x:cv2.resize(x,SCALE,interpolation=cv2.INTER_CUBIC),X_train)))\n",
    "X_train = X_train/255.\n",
    "X_train = X_train.astype(\"float32\").reshape(-1, SCALE[0]*SCALE[1])\n",
    "\n",
    "if not SCALE == X_test.shape:\n",
    "    X_test = np.array(list(map(lambda x:cv2.resize(x,SCALE,interpolation=cv2.INTER_CUBIC),X_test)))\n",
    "X_test = X_test/255.\n",
    "X_test = X_test.astype(\"float32\").reshape(-1, SCALE[0]* SCALE[1])\n",
    "\n",
    "# make it a binary classification task (X or not X)\n",
    "\n",
    "target = 8\n",
    "y_train = np.array([1 if y == target else 0 for y in y_train])\n",
    "y_test = np.array([1 if y == target else 0 for y in y_test])\n",
    "\n",
    "# filter so we get about 50% target class and 50% other\n",
    "target_idxs = [i for i in range(len(y_train)) if y_train[i] == 1]\n",
    "other_idxs = [i for i in range(len(y_train)) if y_train[i] == 0]\n",
    "\n",
    "random.shuffle(other_idxs)\n",
    "other_idxs = other_idxs[:len(target_idxs)]\n",
    "# pick len(target_idxs) samples from the other_idxs\n",
    "X_train = np.array([x for i,x in enumerate(X_train) if i in other_idxs or i in target_idxs])\n",
    "y_train = np.array([y for i,y in enumerate(y_train) if i in other_idxs or i in target_idxs])"
   ]
  },
  {
   "cell_type": "code",
   "execution_count": 4,
   "id": "4ba14b05",
   "metadata": {},
   "outputs": [
    {
     "name": "stdout",
     "output_type": "stream",
     "text": [
      "WARNING:tensorflow:No training configuration found in the save file, so the model was *not* compiled. Compile it manually.\n",
      "Model: \"sequential_1\"\n",
      "_________________________________________________________________\n",
      "Layer (type)                 Output Shape              Param #   \n",
      "=================================================================\n",
      "dense_3 (Dense)              (None, 32)                6304      \n",
      "_________________________________________________________________\n",
      "dense_4 (Dense)              (None, 16)                528       \n",
      "_________________________________________________________________\n",
      "dense_5 (Dense)              (None, 2)                 34        \n",
      "=================================================================\n",
      "Total params: 6,866\n",
      "Trainable params: 6,866\n",
      "Non-trainable params: 0\n",
      "_________________________________________________________________\n",
      "deepbayes: detected the above model \n",
      " None\n",
      "\n",
      "Loaded model accuracy: 97.96%\n"
     ]
    }
   ],
   "source": [
    "model_name = f'mnist{SCALE[0]}x{SCALE[1]}_32_16_binary_target{target}'\n",
    "bayes_model = PosteriorModel(model_name)\n",
    "y_pred = bayes_model.predict(X_test,n=50)\n",
    "check_accuracy = tf.keras.metrics.Accuracy(name=\"train_acc\")\n",
    "check_accuracy(y_test,np.argmax(y_pred,axis=1))\n",
    "print()\n",
    "print('Loaded model accuracy:',f'{check_accuracy.result().numpy()*100:.2f}%')"
   ]
  },
  {
   "cell_type": "code",
   "execution_count": 5,
   "id": "c4db7dbf",
   "metadata": {},
   "outputs": [
    {
     "data": {
      "image/png": "[encoded data removed]",
      "text/plain": [
       "<Figure size 432x288 with 1 Axes>"
      ]
     },
     "metadata": {
      "needs_background": "light"
     },
     "output_type": "display_data"
    },
    {
     "name": "stdout",
     "output_type": "stream",
     "text": [
      "Prediction: Eight.\n"
     ]
    }
   ],
   "source": [
    "N = 50\n",
    "# pick a random positive input for testing\n",
    "n = 0\n",
    "for i in range(len(y_train)):\n",
    "    if y_train[i] == 1:\n",
    "        n = i\n",
    "        break\n",
    "\n",
    "X = X_train[n].reshape(1,SCALE[0]*SCALE[1]).astype(float)\n",
    "y_hat = np.argmax(bayes_model.predict(X,n=N))\n",
    "y_class = 'Eight.' if y_hat == 1 else 'Not eight.'\n",
    "display_number(X,SCALE)\n",
    "print('Prediction:',y_class)\n",
    "input_shape = X.flatten().shape"
   ]
  },
  {
   "cell_type": "code",
   "execution_count": 21,
   "id": "c2f86bbe",
   "metadata": {},
   "outputs": [],
   "source": [
    "# THIS TAKES ~ 5 mins\n",
    "input_path = 'X.npy'\n",
    "np.save(input_path,X,False)\n",
    "\n",
    "iterations = 20\n",
    "for i in range(iterations):\n",
    "    subprocess.Popen(['python3','get_mnist_exp.py',str(i),model_name,input_path])\n",
    "    \n",
    "full = False \n",
    "while not full:\n",
    "    if len([name for name in os.listdir('exps/') if os.path.isfile(os.path.join('exps', name))]) == iterations:\n",
    "        full = True"
   ]
  },
  {
   "cell_type": "code",
   "execution_count": 6,
   "id": "fd24c0df",
   "metadata": {},
   "outputs": [],
   "source": [
    "# read in and display the results from the above\n",
    "exps = []\n",
    "for f in os.listdir('exps'):\n",
    "    if os.path.isfile(os.path.join('exps',f)):\n",
    "        tmp = np.load(os.path.join('exps',f))\n",
    "        exps.append(tmp)"
   ]
  },
  {
   "cell_type": "code",
   "execution_count": 7,
   "id": "b55aed11",
   "metadata": {},
   "outputs": [
    {
     "ename": "ZeroDivisionError",
     "evalue": "division by zero",
     "output_type": "error",
     "traceback": [
      "\u001b[0;31m---------------------------------------------------------------------------\u001b[0m",
      "\u001b[0;31mZeroDivisionError\u001b[0m                         Traceback (most recent call last)",
      "\u001b[0;32m<ipython-input-7-dcc89b31075a>\u001b[0m in \u001b[0;36m<module>\u001b[0;34m\u001b[0m\n\u001b[1;32m      3\u001b[0m \u001b[0mnew_exps\u001b[0m \u001b[0;34m=\u001b[0m \u001b[0mnp_exps\u001b[0m\u001b[0;34m\u001b[0m\u001b[0;34m\u001b[0m\u001b[0m\n\u001b[1;32m      4\u001b[0m \u001b[0;34m\u001b[0m\u001b[0m\n\u001b[0;32m----> 5\u001b[0;31m \u001b[0mmerged\u001b[0m \u001b[0;34m=\u001b[0m \u001b[0msum\u001b[0m\u001b[0;34m(\u001b[0m\u001b[0mnew_exps\u001b[0m\u001b[0;34m)\u001b[0m\u001b[0;34m/\u001b[0m\u001b[0mlen\u001b[0m\u001b[0;34m(\u001b[0m\u001b[0mnew_exps\u001b[0m\u001b[0;34m)\u001b[0m\u001b[0;34m\u001b[0m\u001b[0;34m\u001b[0m\u001b[0m\n\u001b[0m\u001b[1;32m      6\u001b[0m \u001b[0;34m\u001b[0m\u001b[0m\n\u001b[1;32m      7\u001b[0m \u001b[0mmexp\u001b[0m \u001b[0;34m=\u001b[0m \u001b[0mmerged\u001b[0m\u001b[0;34m[\u001b[0m\u001b[0;36m0\u001b[0m\u001b[0;34m]\u001b[0m\u001b[0;34m\u001b[0m\u001b[0;34m\u001b[0m\u001b[0m\n",
      "\u001b[0;31mZeroDivisionError\u001b[0m: division by zero"
     ]
    }
   ],
   "source": [
    "np_exps = np.array(exps)\n",
    "\n",
    "new_exps = np_exps\n",
    "\n",
    "merged = sum(new_exps)/len(new_exps)\n",
    "\n",
    "mexp = merged[0]\n",
    "pos = np.zeros(input_shape)\n",
    "neg = np.zeros(input_shape)\n",
    "\n",
    "clip_val = 100000\n",
    "\n",
    "if(y_hat == 0):\n",
    "    pos += np.squeeze(np.clip(mexp, 0, clip_val))\n",
    "    neg += -1*np.squeeze(np.clip(mexp, -clip_val, 0))\n",
    "elif(y_hat == 1):\n",
    "    neg += np.squeeze(np.clip(mexp, 0, clip_val))\n",
    "    pos += -1*np.squeeze(np.clip(mexp, -clip_val, 0))\n",
    "    \n",
    "display_number(X.flatten(),SCALE)\n",
    "expl = pos if y_hat == 0 else neg\n",
    "display_explanation(X.flatten(),SCALE,expl)"
   ]
  },
  {
   "cell_type": "code",
   "execution_count": 8,
   "id": "0b90f3c2",
   "metadata": {
    "scrolled": true
   },
   "outputs": [
    {
     "name": "stdout",
     "output_type": "stream",
     "text": [
      "step 0\n",
      "step 100\n",
      "step 200\n",
      "step 300\n"
     ]
    },
    {
     "ename": "KeyboardInterrupt",
     "evalue": "",
     "output_type": "error",
     "traceback": [
      "\u001b[0;31m---------------------------------------------------------------------------\u001b[0m",
      "\u001b[0;31mKeyboardInterrupt\u001b[0m                         Traceback (most recent call last)",
      "\u001b[0;32m<ipython-input-8-b3d7a4395bb3>\u001b[0m in \u001b[0;36m<module>\u001b[0;34m\u001b[0m\n\u001b[1;32m     12\u001b[0m     \u001b[0;32mfor\u001b[0m \u001b[0mi\u001b[0m \u001b[0;32min\u001b[0m \u001b[0mrange\u001b[0m\u001b[0;34m(\u001b[0m\u001b[0mn\u001b[0m\u001b[0;34m)\u001b[0m\u001b[0;34m:\u001b[0m\u001b[0;34m\u001b[0m\u001b[0;34m\u001b[0m\u001b[0m\n\u001b[1;32m     13\u001b[0m         \u001b[0mbayes_model\u001b[0m\u001b[0;34m.\u001b[0m\u001b[0mmodel\u001b[0m\u001b[0;34m.\u001b[0m\u001b[0mset_weights\u001b[0m\u001b[0;34m(\u001b[0m\u001b[0mbayes_model\u001b[0m\u001b[0;34m.\u001b[0m\u001b[0msample\u001b[0m\u001b[0;34m(\u001b[0m\u001b[0;34m)\u001b[0m\u001b[0;34m)\u001b[0m\u001b[0;34m\u001b[0m\u001b[0;34m\u001b[0m\u001b[0m\n\u001b[0;32m---> 14\u001b[0;31m         \u001b[0my_preds\u001b[0m\u001b[0;34m.\u001b[0m\u001b[0mappend\u001b[0m\u001b[0;34m(\u001b[0m\u001b[0mbayes_model\u001b[0m\u001b[0;34m.\u001b[0m\u001b[0mmodel\u001b[0m\u001b[0;34m(\u001b[0m\u001b[0mXt_one\u001b[0m\u001b[0;34m)\u001b[0m\u001b[0;34m)\u001b[0m\u001b[0;34m\u001b[0m\u001b[0;34m\u001b[0m\u001b[0m\n\u001b[0m\u001b[1;32m     15\u001b[0m \u001b[0;34m\u001b[0m\u001b[0m\n\u001b[1;32m     16\u001b[0m     \u001b[0;31m#print(y_preds)\u001b[0m\u001b[0;34m\u001b[0m\u001b[0;34m\u001b[0m\u001b[0;34m\u001b[0m\u001b[0m\n",
      "\u001b[0;32m~/.local/lib/python3.6/site-packages/tensorflow/python/keras/engine/base_layer.py\u001b[0m in \u001b[0;36m__call__\u001b[0;34m(self, *args, **kwargs)\u001b[0m\n\u001b[1;32m    983\u001b[0m \u001b[0;34m\u001b[0m\u001b[0m\n\u001b[1;32m    984\u001b[0m         \u001b[0;32mwith\u001b[0m \u001b[0mops\u001b[0m\u001b[0;34m.\u001b[0m\u001b[0menable_auto_cast_variables\u001b[0m\u001b[0;34m(\u001b[0m\u001b[0mself\u001b[0m\u001b[0;34m.\u001b[0m\u001b[0m_compute_dtype_object\u001b[0m\u001b[0;34m)\u001b[0m\u001b[0;34m:\u001b[0m\u001b[0;34m\u001b[0m\u001b[0;34m\u001b[0m\u001b[0m\n\u001b[0;32m--> 985\u001b[0;31m           \u001b[0moutputs\u001b[0m \u001b[0;34m=\u001b[0m \u001b[0mcall_fn\u001b[0m\u001b[0;34m(\u001b[0m\u001b[0minputs\u001b[0m\u001b[0;34m,\u001b[0m \u001b[0;34m*\u001b[0m\u001b[0margs\u001b[0m\u001b[0;34m,\u001b[0m \u001b[0;34m**\u001b[0m\u001b[0mkwargs\u001b[0m\u001b[0;34m)\u001b[0m\u001b[0;34m\u001b[0m\u001b[0;34m\u001b[0m\u001b[0m\n\u001b[0m\u001b[1;32m    986\u001b[0m \u001b[0;34m\u001b[0m\u001b[0m\n\u001b[1;32m    987\u001b[0m         \u001b[0;32mif\u001b[0m \u001b[0mself\u001b[0m\u001b[0;34m.\u001b[0m\u001b[0m_activity_regularizer\u001b[0m\u001b[0;34m:\u001b[0m\u001b[0;34m\u001b[0m\u001b[0;34m\u001b[0m\u001b[0m\n",
      "\u001b[0;32m~/.local/lib/python3.6/site-packages/tensorflow/python/keras/engine/sequential.py\u001b[0m in \u001b[0;36mcall\u001b[0;34m(self, inputs, training, mask)\u001b[0m\n\u001b[1;32m    370\u001b[0m       \u001b[0;32mif\u001b[0m \u001b[0;32mnot\u001b[0m \u001b[0mself\u001b[0m\u001b[0;34m.\u001b[0m\u001b[0mbuilt\u001b[0m\u001b[0;34m:\u001b[0m\u001b[0;34m\u001b[0m\u001b[0;34m\u001b[0m\u001b[0m\n\u001b[1;32m    371\u001b[0m         \u001b[0mself\u001b[0m\u001b[0;34m.\u001b[0m\u001b[0m_init_graph_network\u001b[0m\u001b[0;34m(\u001b[0m\u001b[0mself\u001b[0m\u001b[0;34m.\u001b[0m\u001b[0minputs\u001b[0m\u001b[0;34m,\u001b[0m \u001b[0mself\u001b[0m\u001b[0;34m.\u001b[0m\u001b[0moutputs\u001b[0m\u001b[0;34m)\u001b[0m\u001b[0;34m\u001b[0m\u001b[0;34m\u001b[0m\u001b[0m\n\u001b[0;32m--> 372\u001b[0;31m       \u001b[0;32mreturn\u001b[0m \u001b[0msuper\u001b[0m\u001b[0;34m(\u001b[0m\u001b[0mSequential\u001b[0m\u001b[0;34m,\u001b[0m \u001b[0mself\u001b[0m\u001b[0;34m)\u001b[0m\u001b[0;34m.\u001b[0m\u001b[0mcall\u001b[0m\u001b[0;34m(\u001b[0m\u001b[0minputs\u001b[0m\u001b[0;34m,\u001b[0m \u001b[0mtraining\u001b[0m\u001b[0;34m=\u001b[0m\u001b[0mtraining\u001b[0m\u001b[0;34m,\u001b[0m \u001b[0mmask\u001b[0m\u001b[0;34m=\u001b[0m\u001b[0mmask\u001b[0m\u001b[0;34m)\u001b[0m\u001b[0;34m\u001b[0m\u001b[0;34m\u001b[0m\u001b[0m\n\u001b[0m\u001b[1;32m    373\u001b[0m \u001b[0;34m\u001b[0m\u001b[0m\n\u001b[1;32m    374\u001b[0m     \u001b[0moutputs\u001b[0m \u001b[0;34m=\u001b[0m \u001b[0minputs\u001b[0m  \u001b[0;31m# handle the corner case where self.layers is empty\u001b[0m\u001b[0;34m\u001b[0m\u001b[0;34m\u001b[0m\u001b[0m\n",
      "\u001b[0;32m~/.local/lib/python3.6/site-packages/tensorflow/python/keras/engine/functional.py\u001b[0m in \u001b[0;36mcall\u001b[0;34m(self, inputs, training, mask)\u001b[0m\n\u001b[1;32m    384\u001b[0m     \"\"\"\n\u001b[1;32m    385\u001b[0m     return self._run_internal_graph(\n\u001b[0;32m--> 386\u001b[0;31m         inputs, training=training, mask=mask)\n\u001b[0m\u001b[1;32m    387\u001b[0m \u001b[0;34m\u001b[0m\u001b[0m\n\u001b[1;32m    388\u001b[0m   \u001b[0;32mdef\u001b[0m \u001b[0mcompute_output_shape\u001b[0m\u001b[0;34m(\u001b[0m\u001b[0mself\u001b[0m\u001b[0;34m,\u001b[0m \u001b[0minput_shape\u001b[0m\u001b[0;34m)\u001b[0m\u001b[0;34m:\u001b[0m\u001b[0;34m\u001b[0m\u001b[0;34m\u001b[0m\u001b[0m\n",
      "\u001b[0;32m~/.local/lib/python3.6/site-packages/tensorflow/python/keras/engine/functional.py\u001b[0m in \u001b[0;36m_run_internal_graph\u001b[0;34m(self, inputs, training, mask)\u001b[0m\n\u001b[1;32m    506\u001b[0m \u001b[0;34m\u001b[0m\u001b[0m\n\u001b[1;32m    507\u001b[0m         \u001b[0margs\u001b[0m\u001b[0;34m,\u001b[0m \u001b[0mkwargs\u001b[0m \u001b[0;34m=\u001b[0m \u001b[0mnode\u001b[0m\u001b[0;34m.\u001b[0m\u001b[0mmap_arguments\u001b[0m\u001b[0;34m(\u001b[0m\u001b[0mtensor_dict\u001b[0m\u001b[0;34m)\u001b[0m\u001b[0;34m\u001b[0m\u001b[0;34m\u001b[0m\u001b[0m\n\u001b[0;32m--> 508\u001b[0;31m         \u001b[0moutputs\u001b[0m \u001b[0;34m=\u001b[0m \u001b[0mnode\u001b[0m\u001b[0;34m.\u001b[0m\u001b[0mlayer\u001b[0m\u001b[0;34m(\u001b[0m\u001b[0;34m*\u001b[0m\u001b[0margs\u001b[0m\u001b[0;34m,\u001b[0m \u001b[0;34m**\u001b[0m\u001b[0mkwargs\u001b[0m\u001b[0;34m)\u001b[0m\u001b[0;34m\u001b[0m\u001b[0;34m\u001b[0m\u001b[0m\n\u001b[0m\u001b[1;32m    509\u001b[0m \u001b[0;34m\u001b[0m\u001b[0m\n\u001b[1;32m    510\u001b[0m         \u001b[0;31m# Update tensor_dict.\u001b[0m\u001b[0;34m\u001b[0m\u001b[0;34m\u001b[0m\u001b[0;34m\u001b[0m\u001b[0m\n",
      "\u001b[0;32m~/.local/lib/python3.6/site-packages/tensorflow/python/keras/engine/base_layer.py\u001b[0m in \u001b[0;36m__call__\u001b[0;34m(self, *args, **kwargs)\u001b[0m\n\u001b[1;32m    967\u001b[0m \u001b[0;34m\u001b[0m\u001b[0m\n\u001b[1;32m    968\u001b[0m       \u001b[0;32mif\u001b[0m \u001b[0mself\u001b[0m\u001b[0;34m.\u001b[0m\u001b[0m_autocast\u001b[0m\u001b[0;34m:\u001b[0m\u001b[0;34m\u001b[0m\u001b[0;34m\u001b[0m\u001b[0m\n\u001b[0;32m--> 969\u001b[0;31m         \u001b[0minputs\u001b[0m \u001b[0;34m=\u001b[0m \u001b[0mself\u001b[0m\u001b[0;34m.\u001b[0m\u001b[0m_maybe_cast_inputs\u001b[0m\u001b[0;34m(\u001b[0m\u001b[0minputs\u001b[0m\u001b[0;34m,\u001b[0m \u001b[0minput_list\u001b[0m\u001b[0;34m)\u001b[0m\u001b[0;34m\u001b[0m\u001b[0;34m\u001b[0m\u001b[0m\n\u001b[0m\u001b[1;32m    970\u001b[0m \u001b[0;34m\u001b[0m\u001b[0m\n\u001b[1;32m    971\u001b[0m       \u001b[0;32mif\u001b[0m \u001b[0meager\u001b[0m\u001b[0;34m:\u001b[0m\u001b[0;34m\u001b[0m\u001b[0;34m\u001b[0m\u001b[0m\n",
      "\u001b[0;32m~/.local/lib/python3.6/site-packages/tensorflow/python/keras/engine/base_layer.py\u001b[0m in \u001b[0;36m_maybe_cast_inputs\u001b[0;34m(self, inputs, input_list)\u001b[0m\n\u001b[1;32m   2310\u001b[0m     \u001b[0;32mreturn\u001b[0m \u001b[0mself\u001b[0m\u001b[0;34m.\u001b[0m\u001b[0m_dtype_policy\u001b[0m\u001b[0;34m.\u001b[0m\u001b[0mcompute_dtype\u001b[0m\u001b[0;34m\u001b[0m\u001b[0;34m\u001b[0m\u001b[0m\n\u001b[1;32m   2311\u001b[0m \u001b[0;34m\u001b[0m\u001b[0m\n\u001b[0;32m-> 2312\u001b[0;31m   \u001b[0;32mdef\u001b[0m \u001b[0m_maybe_cast_inputs\u001b[0m\u001b[0;34m(\u001b[0m\u001b[0mself\u001b[0m\u001b[0;34m,\u001b[0m \u001b[0minputs\u001b[0m\u001b[0;34m,\u001b[0m \u001b[0minput_list\u001b[0m\u001b[0;34m=\u001b[0m\u001b[0;32mNone\u001b[0m\u001b[0;34m)\u001b[0m\u001b[0;34m:\u001b[0m\u001b[0;34m\u001b[0m\u001b[0;34m\u001b[0m\u001b[0m\n\u001b[0m\u001b[1;32m   2313\u001b[0m     \"\"\"Maybe casts the inputs to the compute dtype.\n\u001b[1;32m   2314\u001b[0m \u001b[0;34m\u001b[0m\u001b[0m\n",
      "\u001b[0;31mKeyboardInterrupt\u001b[0m: "
     ]
    }
   ],
   "source": [
    "uncert_Xs = []\n",
    "uncert_Ypredarrs = []\n",
    "uncert_ytruth = []\n",
    "for idx,xt in enumerate(X_test):\n",
    "    if idx%100 == 0:\n",
    "        print('step',idx)\n",
    "    s_len = len(uncert_Xs)\n",
    "    Xt_one = np.array([xt])\n",
    "    y_preds = []\n",
    "    n = 50\n",
    "    truth = y_test[idx]\n",
    "    for i in range(n):\n",
    "        bayes_model.model.set_weights(bayes_model.sample())\n",
    "        y_preds.append(bayes_model.model(Xt_one))\n",
    "\n",
    "    #print(y_preds)\n",
    "    argmax = list(map(np.argmax,y_preds))\n",
    "    try:\n",
    "        m = mode(argmax)\n",
    "        if not argmax.count(m) >= len(argmax)-(n/2):\n",
    "            uncert_Xs.append(list(map(float,xt)))\n",
    "            uncert_Ypredarrs.append([list(map(float,yp[0])) for yp in y_preds])\n",
    "            uncert_ytruth.append(int(truth))\n",
    "    except:\n",
    "        uncert_Xs.append(list(map(float,xt)))\n",
    "        uncert_Ypredarrs.append([list(map(float,yp[0])) for yp in y_preds])\n",
    "        uncert_ytruth.append(int(truth))\n",
    "\n",
    "    if len(uncert_Xs) > s_len:\n",
    "        print(len(uncert_Xs))\n",
    "    if len(uncert_Xs) > 4:\n",
    "        break\n",
    "        \n",
    "to_file_entries = []\n",
    "for idx,uyp in enumerate(uncert_Ypredarrs):\n",
    "    entry = dict()\n",
    "    entry['input'] = uncert_Xs[idx]\n",
    "    entry['y'] = uncert_ytruth[idx]\n",
    "    entry['y_pred_arrs'] = uyp\n",
    "    entry['y_preds'] = list(map(int,list(map(np.argmax,uyp))))\n",
    "    to_file_entries.append(entry)\n",
    "    print(list(map(np.argmax,uyp)))\n",
    "\n",
    "# save uncert inputs to file\n",
    "\n",
    "with open('uncert_data/uncert_mnist.json','w') as f:\n",
    "    json.dump(to_file_entries,f)\n",
    "    "
   ]
  },
  {
   "cell_type": "code",
   "execution_count": 102,
   "id": "6f5e3592",
   "metadata": {},
   "outputs": [],
   "source": [
    "# TAKES A WHILE TO RUN (~5 MINS)\n",
    "\n",
    "uncert_idx = 3\n",
    "\n",
    "uncert_dict = None\n",
    "with open('uncert_data/uncert_mnist.json','r') as f:\n",
    "    uncert_dict = json.load(f)\n",
    "    \n",
    "if uncert_idx > len(uncert_dict):\n",
    "    print('No data at this index.')\n",
    "    \n",
    "uncert_X = np.asarray(uncert_dict[uncert_idx]['input']).reshape(1,SCALE[0]*SCALE[1]).astype(float)\n",
    "uncert_y = uncert_dict[uncert_idx]['y']\n",
    "\n",
    "input_path = 'X_uncert.npy'\n",
    "y_path = 'y_uncert.npy'\n",
    "output_path = f'exps/exps_uncert{uncert_idx}'\n",
    "if not os.path.exists(output_path):\n",
    "    os.mkdir(output_path)\n",
    "np.save(os.path.join(output_path,input_path),uncert_X,False)\n",
    "np.save(os.path.join(output_path,y_path),uncert_y,False)\n",
    "\n",
    "iterations = 20\n",
    "for i in range(iterations):\n",
    "    subprocess.Popen(['python3','get_mnist_exp.py',str(i),model_name,os.path.join(output_path,input_path),output_path])\n",
    "    \n",
    "full = False \n",
    "while not full:\n",
    "    if len([name for name in os.listdir(output_path) if os.path.isfile(os.path.join(output_path, name))]) == iterations+1:\n",
    "        full = True\n",
    "    "
   ]
  },
  {
   "cell_type": "code",
   "execution_count": 53,
   "id": "14d7f86d",
   "metadata": {},
   "outputs": [],
   "source": []
  },
  {
   "cell_type": "code",
   "execution_count": 9,
   "id": "1cecbfa7",
   "metadata": {},
   "outputs": [
    {
     "name": "stdout",
     "output_type": "stream",
     "text": [
      "Input image (ground truth = 0 Negative (it's not an 8)):\n"
     ]
    },
    {
     "data": {
      "image/png": "[encoded data removed]",
      "text/plain": [
       "<Figure size 432x288 with 1 Axes>"
      ]
     },
     "metadata": {
      "needs_background": "light"
     },
     "output_type": "display_data"
    },
    {
     "name": "stdout",
     "output_type": "stream",
     "text": [
      "Positive explanation (contributes to class 0):\n"
     ]
    },
    {
     "data": {
      "image/png": "[encoded data removed]",
      "text/plain": [
       "<Figure size 432x288 with 3 Axes>"
      ]
     },
     "metadata": {
      "needs_background": "light"
     },
     "output_type": "display_data"
    },
    {
     "name": "stdout",
     "output_type": "stream",
     "text": [
      "Negative explanation (contributes against class 0):\n"
     ]
    },
    {
     "data": {
      "image/png": "[encoded data removed]",
      "text/plain": [
       "<Figure size 432x288 with 3 Axes>"
      ]
     },
     "metadata": {
      "needs_background": "light"
     },
     "output_type": "display_data"
    },
    {
     "name": "stdout",
     "output_type": "stream",
     "text": [
      "\n",
      "Sanity checking\n",
      "---------------\n",
      "Index in X_test: 3477\n",
      "Classification in y_test: 0\n"
     ]
    }
   ],
   "source": [
    "# read in and display the results from an uncert input\n",
    "\n",
    "input_num = 2\n",
    "input_path = 'X_uncert.npy'\n",
    "output_path = f'exps/exps_uncert{input_num}'\n",
    "y_path = 'y_uncert.npy'\n",
    "\n",
    "\n",
    "exps = []\n",
    "for f in os.listdir(output_path):\n",
    "    if os.path.isfile(os.path.join(output_path,f)) and not f.startswith('X') and not f.startswith('y'):\n",
    "        tmp = np.load(os.path.join(output_path,f))\n",
    "        exps.append(tmp)\n",
    "        \n",
    "uncert_X = np.load(os.path.join(output_path,input_path))\n",
    "uncert_y = np.load(os.path.join(output_path,y_path))\n",
    "\n",
    "input_shape = uncert_X.flatten().shape\n",
    "        \n",
    "np_exps = np.array(exps)\n",
    "\n",
    "new_exps = np_exps\n",
    "\n",
    "merged = sum(new_exps)/len(new_exps)\n",
    "\n",
    "mexp = merged[0]\n",
    "pos = np.zeros(input_shape)\n",
    "neg = np.zeros(input_shape)\n",
    "\n",
    "clip_val = 100000\n",
    "\n",
    "if(uncert_y == 0):\n",
    "    pos += np.squeeze(np.clip(mexp, 0, clip_val))\n",
    "    neg += -1*np.squeeze(np.clip(mexp, -clip_val, 0))\n",
    "elif(uncert_y == 1):\n",
    "    neg += np.squeeze(np.clip(mexp, 0, clip_val))\n",
    "    pos += -1*np.squeeze(np.clip(mexp, -clip_val, 0))\n",
    "\n",
    "act_class = \"Positive (it's an 8)\" if uncert_y > 0 else \"Negative (it's not an 8)\" \n",
    "print(f'Input image (ground truth = {uncert_y} {act_class}):')\n",
    "display_number(uncert_X.flatten(),SCALE)\n",
    "print(f'Positive explanation (contributes to class {uncert_y}):')\n",
    "display_explanation(uncert_X.flatten(),SCALE,pos)\n",
    "print(f'Negative explanation (contributes against class {uncert_y}):')\n",
    "display_explanation(uncert_X.flatten(),SCALE,neg)\n",
    "print()\n",
    "print('Sanity checking')\n",
    "print('---------------')\n",
    "for idx,xt in enumerate(X_test):\n",
    "    if list(uncert_X.flatten()) == list(map(float,xt)):\n",
    "        print('Index in X_test:',idx)\n",
    "        print('Classification in y_test:',y_test[idx])"
   ]
  },
  {
   "cell_type": "code",
   "execution_count": null,
   "id": "f2aced74",
   "metadata": {},
   "outputs": [],
   "source": [
    "# want to find: average bayesian explanation of an 8\n",
    "\n",
    "# train on just 1's and 9's, give it a 7 (look at prediction for both 1 and 9, hope we see corresponding parts)\n",
    "\n",
    "# pick another good explanation method"
   ]
  }
 ],
 "metadata": {
  "kernelspec": {
   "display_name": "Python 3",
   "language": "python",
   "name": "python3"
  },
  "language_info": {
   "codemirror_mode": {
    "name": "ipython",
    "version": 3
   },
   "file_extension": ".py",
   "mimetype": "text/x-python",
   "name": "python",
   "nbconvert_exporter": "python",
   "pygments_lexer": "ipython3",
   "version": "3.6.9"
  }
 },
 "nbformat": 4,
 "nbformat_minor": 5
}
