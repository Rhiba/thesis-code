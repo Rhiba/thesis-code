{
 "cells": [
  {
   "cell_type": "code",
   "execution_count": 11,
   "id": "c8577968",
   "metadata": {},
   "outputs": [],
   "source": [
    "import sys\n",
    "sys.path.append('../../')\n",
    "sys.path.append('../../utils/')\n",
    "\n",
    "import scipy\n",
    "import json\n",
    "import deepbayesHF\n",
    "import deepbayesHF.optimizers as optimizers\n",
    "from deepbayesHF import PosteriorModel\n",
    "from deepbayesHF.analyzers import FGSM\n",
    "from deepbayesHF.analyzers import eps_LRP\n",
    "import tensorflow as tf\n",
    "from tensorflow.keras.models import *\n",
    "from tensorflow.keras.layers import *\n",
    "import cv2\n",
    "import random\n",
    "import matplotlib.pyplot as plt\n",
    "from collections import namedtuple\n",
    "from load_data import load_data, load_embedding_function\n",
    "\n",
    "from embedding import Embedding\n",
    "from scipy.spatial import ConvexHull\n",
    "from operator import itemgetter\n",
    "\n",
    "sys.path.append('../../abduction_algorithms')\n",
    "#from abduction_algorithms import knn_smallest_explanation_linf\n",
    "from abduction_algorithms_HS_cost import knn_smallest_explanation_linf_with_cost, Entails\n",
    "\n",
    "import itertools\n",
    "\n",
    "sys.path.append('./../../../Marabou/')\n",
    "from maraboupy import Marabou\n",
    "from maraboupy import MarabouUtils, MarabouCore\n",
    "from hitman_cost import HitmanCost\n",
    "\n",
    "import json\n",
    "import numpy as np\n",
    "\n",
    "import adversarial_attacks as adv\n",
    "\n",
    "import ast\n",
    "from itertools import chain, combinations\n",
    "import pickle\n",
    "import math"
   ]
  },
  {
   "cell_type": "code",
   "execution_count": 5,
   "id": "1fb1f0aa",
   "metadata": {},
   "outputs": [],
   "source": [
    "def print_exp(exp,text,maxlen,num_exps=1):\n",
    " \n",
    "    xs = []\n",
    "    ys = []\n",
    "    for i in range(maxlen):\n",
    "        txt = text[i] if i < len(text) else '<PAD>'\n",
    "        if not txt == '<PAD>':\n",
    "            c = text.count(txt)\n",
    "        else:\n",
    "            c = maxlen - len(text)\n",
    "        total = int(exp.count(txt)/c)/num_exps\n",
    "        xs.append(txt)\n",
    "        ys.append(total)\n",
    "        \n",
    "    objects = xs[::-1]\n",
    "    y_pos = np.arange(len(objects))\n",
    "    performance = ys[::-1]\n",
    "\n",
    "    plt.barh(y_pos, performance, align='center', alpha=0.5)\n",
    "    plt.yticks(y_pos, objects)\n",
    "    plt.xlabel('Weight')\n",
    "    plt.title('Word')\n",
    "\n",
    "    plt.show()\n",
    "    \n",
    "def powerset(iterable):\n",
    "    \"powerset([1,2,3]) --> () (1,) (2,) (3,) (1,2) (1,3) (2,3) (1,2,3)\"\n",
    "    s = list(iterable)\n",
    "    return chain.from_iterable(combinations(s, r) for r in range(len(s)+1))\n",
    "    \n",
    "def get_all_of_cost(cost,word_cost_func,padded_input):\n",
    "    # first get all combinations of input\n",
    "    equal_cost = []\n",
    "    equal_ids = []\n",
    "    pwset = list(powerset((list(zip(range(len(padded_input)),padded_input)))))\n",
    "    for pw in pwset:\n",
    "        words = [p[1] for p in pw]\n",
    "        ids = [p[0] for p in pw]\n",
    "        if sum([word_cost_func[w] for w in words]) == cost:\n",
    "            equal_cost.append(words)\n",
    "            equal_ids.append(ids)\n",
    "            \n",
    "    return equal_cost,equal_ids\n",
    "\n",
    "#a, b = get_all_of_cost(2,word_cost_func,['an','absurdist','comedy','<PAD>','<PAD>','<PAD>','<PAD>','<PAD>'])\n",
    "    "
   ]
  },
  {
   "cell_type": "markdown",
   "id": "610f5037",
   "metadata": {},
   "source": [
    "# Load Data"
   ]
  },
  {
   "cell_type": "code",
   "execution_count": 6,
   "id": "299d2ea3",
   "metadata": {},
   "outputs": [],
   "source": [
    "maxlen = 10\n",
    "emb_dims = 5\n",
    "ksize = None\n",
    "X_train, y_train, X_test, y_test, text_train, text_test = load_data('SST',maxlen,emb_dims,'../../training_data/','../../embeddings/',True)"
   ]
  },
  {
   "cell_type": "code",
   "execution_count": 7,
   "id": "d1aa8ba5",
   "metadata": {},
   "outputs": [
    {
     "name": "stdout",
     "output_type": "stream",
     "text": [
      "[-0.1732389   0.18825129 -0.11132352  0.16556485  0.07364118  0.\n",
      "  0.          0.          0.          0.          0.          0.\n",
      "  0.          0.          0.          0.          0.          0.\n",
      "  0.          0.          0.          0.          0.          0.\n",
      "  0.          0.          0.          0.          0.          0.\n",
      "  0.          0.          0.          0.          0.          0.\n",
      "  0.          0.          0.          0.          0.          0.\n",
      "  0.          0.          0.          0.          0.          0.\n",
      "  0.          0.        ]\n",
      "['brilliant']\n"
     ]
    }
   ],
   "source": [
    "print(X_train[0])\n",
    "print(text_train[0])"
   ]
  },
  {
   "cell_type": "markdown",
   "id": "65e7e88c",
   "metadata": {},
   "source": [
    "## Train model (optional)"
   ]
  },
  {
   "cell_type": "code",
   "execution_count": null,
   "id": "fcc51397",
   "metadata": {
    "scrolled": false
   },
   "outputs": [],
   "source": [
    "model_name = f'SST_{maxlen}x{emb_dims}d_16_8'\n",
    "\n",
    "opt = optimizers.VariationalOnlineGuassNewton()\n",
    "likelihood = tf.keras.losses.SparseCategoricalCrossentropy()\n",
    "model = Sequential()\n",
    "model.add(Dense(16,activation='relu',input_shape=X_train[0].shape))\n",
    "model.add(Dense(8,activation='relu'))\n",
    "model.add(Dense(2,activation='softmax'))\n",
    "\n",
    "bayes_model = opt.compile(model,loss_fn=likelihood,\n",
    "                          epochs=25, learning_rate=0.25,\n",
    "                          inflate_prior=2.0, log_file='tmp/log.txt')\n",
    "bayes_model.train(X_train,y_train,X_test,y_test)\n",
    "bayes_model.save(model_name)"
   ]
  },
  {
   "cell_type": "markdown",
   "id": "4d9eadd0",
   "metadata": {},
   "source": [
    "# Load Model"
   ]
  },
  {
   "cell_type": "code",
   "execution_count": 8,
   "id": "2f22ee68",
   "metadata": {},
   "outputs": [
    {
     "name": "stdout",
     "output_type": "stream",
     "text": [
      "WARNING:tensorflow:No training configuration found in the save file, so the model was *not* compiled. Compile it manually.\n",
      "Model: \"sequential_1\"\n",
      "_________________________________________________________________\n",
      "Layer (type)                 Output Shape              Param #   \n",
      "=================================================================\n",
      "dense_3 (Dense)              (None, 16)                816       \n",
      "_________________________________________________________________\n",
      "dense_4 (Dense)              (None, 8)                 136       \n",
      "_________________________________________________________________\n",
      "dense_5 (Dense)              (None, 2)                 18        \n",
      "=================================================================\n",
      "Total params: 970\n",
      "Trainable params: 970\n",
      "Non-trainable params: 0\n",
      "_________________________________________________________________\n",
      "deepbayes: detected the above model \n",
      " None\n",
      "\n",
      "Loaded model accuracy: 79.89%\n"
     ]
    }
   ],
   "source": [
    "model_name = f'SST_{maxlen}x{emb_dims}d_16_8'\n",
    "bayes_model = PosteriorModel(model_name)\n",
    "y_pred = bayes_model.predict(X_test,n=50)\n",
    "check_accuracy = tf.keras.metrics.Accuracy(name=\"train_acc\")\n",
    "check_accuracy(y_test,np.argmax(y_pred,axis=1))\n",
    "print()\n",
    "print('Loaded model accuracy:',f'{check_accuracy.result().numpy()*100:.2f}%')"
   ]
  },
  {
   "cell_type": "markdown",
   "id": "0b49c742",
   "metadata": {},
   "source": [
    "# Random positive example runs"
   ]
  },
  {
   "cell_type": "code",
   "execution_count": 62,
   "id": "8d743c85",
   "metadata": {},
   "outputs": [],
   "source": [
    "# idx 9 onwards are negative reviews\n",
    "ns = [113807,27919,16750]\n",
    "knns = [8,6,6]"
   ]
  },
  {
   "cell_type": "code",
   "execution_count": 20,
   "id": "d07bda2e",
   "metadata": {},
   "outputs": [
    {
     "name": "stdout",
     "output_type": "stream",
     "text": [
      "104326\n",
      "[1, 0, 1, 1, 1, 0, 1, 0, 0, 1, 0, 0, 1, 1, 0, 0, 1, 0, 0, 1, 1, 0, 1, 0, 1, 0, 1, 1, 0, 0, 0, 0, 0, 0, 1, 0, 1, 1, 0, 0, 0, 0, 1, 1, 1, 0, 0, 0, 0, 0]\n",
      "['the', 'subject', 'matter', 'is', 'as', 'adult', 'as', 'you', 'can', 'get']\n",
      "Prediction: Negative. Ground truth: Positive.\n"
     ]
    }
   ],
   "source": [
    "N = 50\n",
    "\n",
    "while True:\n",
    "    # pick a random input\n",
    "    n = np.random.choice(list(range(len(X_train))))\n",
    "    if '' in text_train[n] or len(text_train[n])<8:\n",
    "        continue\n",
    "    X = X_train[n].reshape(1,*X_train[n].shape)\n",
    "    ys = []\n",
    "    for i in range(N):\n",
    "        bayes_model.model.set_weights(bayes_model.sample())\n",
    "        ys.append(bayes_model.model(X))\n",
    "    ys = np.argmax(np.array(ys),axis=2).flatten()\n",
    "    md = scipy.stats.mode(ys)[0]\n",
    "    y_hat = md[0]\n",
    "    y_class = 'Positive.' if y_hat == 1 else 'Negative.'\n",
    "    y_true_text = 'Positive.' if y_train[n] == 1 else 'Negative.'\n",
    "    input_shape = X.flatten().shape\n",
    "    ys = list(ys)\n",
    "    if ys.count(md) < int(len(ys)*0.6):\n",
    "        break\n",
    "    \n",
    "print(n)\n",
    "print(ys)\n",
    "print(text_train[n])\n",
    "print('Prediction:',y_class,'Ground truth:',y_true_text)"
   ]
  },
  {
   "cell_type": "markdown",
   "id": "8ed9a536",
   "metadata": {},
   "source": [
    "### explanation calculation (takes about 2 mins)"
   ]
  },
  {
   "cell_type": "code",
   "execution_count": null,
   "id": "cbea47d7",
   "metadata": {
    "scrolled": true
   },
   "outputs": [
    {
     "name": "stdout",
     "output_type": "stream",
     "text": [
      "WARNING:tensorflow:No training configuration found in the save file, so the model was *not* compiled. Compile it manually.\n",
      "Model: \"sequential_1\"\n",
      "_________________________________________________________________\n",
      "Layer (type)                 Output Shape              Param #   \n",
      "=================================================================\n",
      "dense_3 (Dense)              (None, 16)                816       \n",
      "_________________________________________________________________\n",
      "dense_4 (Dense)              (None, 8)                 136       \n",
      "_________________________________________________________________\n",
      "dense_5 (Dense)              (None, 2)                 18        \n",
      "=================================================================\n",
      "Total params: 970\n",
      "Trainable params: 970\n",
      "Non-trainable params: 0\n",
      "_________________________________________________________________\n",
      "deepbayes: detected the above model \n",
      " None\n",
      "The convex hull is consistent: each embedded point belongs to one of the respective 120 facets equations\n",
      "Model in fw-\n",
      "Classifiation for the input is 0 (confidence 0.6400627493858337)\n",
      "WARNING:tensorflow:From /home/rhiba/.local/lib/python3.6/site-packages/tensorflow/python/training/tracking/tracking.py:111: Model.state_updates (from tensorflow.python.keras.engine.training) is deprecated and will be removed in a future version.\n",
      "Instructions for updating:\n",
      "This property should not be used in TensorFlow 2.0, as updates are applied automatically.\n",
      "WARNING:tensorflow:From /home/rhiba/.local/lib/python3.6/site-packages/tensorflow/python/training/tracking/tracking.py:111: Layer.updates (from tensorflow.python.keras.engine.base_layer) is deprecated and will be removed in a future version.\n",
      "Instructions for updating:\n",
      "This property should not be used in TensorFlow 2.0, as updates are applied automatically.\n",
      "INFO:tensorflow:Assets written to: tmp_model_1.pb/assets\n"
     ]
    },
    {
     "name": "stderr",
     "output_type": "stream",
     "text": [
      "  5%|▌         | 1/20 [00:00<00:02,  9.37it/s]"
     ]
    },
    {
     "name": "stdout",
     "output_type": "stream",
     "text": [
      "[logger] Storing hash for current input in ./__pycache__/gradient_FGSM-2219073510442406122.npy\n",
      "value: [[-1.  1. -1.  1.  1. -1.  1. -1.  1.  1. -1.  1. -1.  1.  1. -1.  1. -1.\n",
      "   1.  1. -1.  1. -1.  1.  1. -1.  1. -1.  1.  1. -1.  1. -1.  1.  1. -1.\n",
      "   1. -1.  1.  1. -1.  1. -1.  1.  1. -1.  1. -1.  1.  1.]]\n",
      "[logger]: Searching for Sparse Adversarial Attacks with minimum size 5\n",
      "[logger]: Gathering attacks with 5 variables.\n"
     ]
    },
    {
     "name": "stderr",
     "output_type": "stream",
     "text": [
      "100%|██████████| 20/20 [00:02<00:00,  7.22it/s]\n",
      "  5%|▌         | 1/20 [00:00<00:02,  6.53it/s]"
     ]
    },
    {
     "name": "stdout",
     "output_type": "stream",
     "text": [
      "[logger]: Gathering attacks with 4 variables.\n"
     ]
    },
    {
     "name": "stderr",
     "output_type": "stream",
     "text": [
      "100%|██████████| 20/20 [00:02<00:00,  7.88it/s]\n",
      "  5%|▌         | 1/20 [00:00<00:01,  9.94it/s]"
     ]
    },
    {
     "name": "stdout",
     "output_type": "stream",
     "text": [
      "[logger]: Gathering attacks with 3 variables.\n"
     ]
    },
    {
     "name": "stderr",
     "output_type": "stream",
     "text": [
      "100%|██████████| 20/20 [00:02<00:00,  8.06it/s]\n",
      "  5%|▌         | 1/20 [00:00<00:02,  6.36it/s]"
     ]
    },
    {
     "name": "stdout",
     "output_type": "stream",
     "text": [
      "[logger]: Gathering attacks with 2 variables.\n"
     ]
    },
    {
     "name": "stderr",
     "output_type": "stream",
     "text": [
      "100%|██████████| 20/20 [00:02<00:00,  8.40it/s]\n",
      "  5%|▌         | 1/20 [00:00<00:02,  6.41it/s]"
     ]
    },
    {
     "name": "stdout",
     "output_type": "stream",
     "text": [
      "[logger]: Gathering attacks with 1 variables.\n"
     ]
    },
    {
     "name": "stderr",
     "output_type": "stream",
     "text": [
      "100%|██████████| 20/20 [00:02<00:00,  7.75it/s]\n"
     ]
    },
    {
     "name": "stdout",
     "output_type": "stream",
     "text": [
      "[logger]: 74 attacks found\n",
      "[logger]: SparseRS routine: total attacks found 74, minimal size 1, attacks removed 0\n"
     ]
    },
    {
     "name": "stderr",
     "output_type": "stream",
     "text": [
      "  5%|▌         | 1/20 [00:00<00:02,  9.35it/s]"
     ]
    },
    {
     "name": "stdout",
     "output_type": "stream",
     "text": [
      "[logger]: Searching for Sparse Adversarial Attacks with minimum size 5\n",
      "[logger]: Gathering attacks with 5 variables.\n"
     ]
    },
    {
     "name": "stderr",
     "output_type": "stream",
     "text": [
      "100%|██████████| 20/20 [00:02<00:00,  7.02it/s]\n",
      "  5%|▌         | 1/20 [00:00<00:02,  6.34it/s]"
     ]
    },
    {
     "name": "stdout",
     "output_type": "stream",
     "text": [
      "[logger]: Gathering attacks with 4 variables.\n"
     ]
    },
    {
     "name": "stderr",
     "output_type": "stream",
     "text": [
      "100%|██████████| 20/20 [00:03<00:00,  6.51it/s]\n",
      "  5%|▌         | 1/20 [00:00<00:02,  6.39it/s]"
     ]
    },
    {
     "name": "stdout",
     "output_type": "stream",
     "text": [
      "[logger]: Gathering attacks with 3 variables.\n"
     ]
    },
    {
     "name": "stderr",
     "output_type": "stream",
     "text": [
      "100%|██████████| 20/20 [00:02<00:00,  6.79it/s]\n",
      "  5%|▌         | 1/20 [00:00<00:02,  6.58it/s]"
     ]
    },
    {
     "name": "stdout",
     "output_type": "stream",
     "text": [
      "[logger]: Gathering attacks with 2 variables.\n"
     ]
    },
    {
     "name": "stderr",
     "output_type": "stream",
     "text": [
      "100%|██████████| 20/20 [00:02<00:00,  7.04it/s]\n",
      "  5%|▌         | 1/20 [00:00<00:03,  6.33it/s]"
     ]
    },
    {
     "name": "stdout",
     "output_type": "stream",
     "text": [
      "[logger]: Gathering attacks with 1 variables.\n"
     ]
    },
    {
     "name": "stderr",
     "output_type": "stream",
     "text": [
      "100%|██████████| 20/20 [00:02<00:00,  6.82it/s]\n"
     ]
    },
    {
     "name": "stdout",
     "output_type": "stream",
     "text": [
      "[logger]: 31 attacks found\n"
     ]
    },
    {
     "name": "stderr",
     "output_type": "stream",
     "text": [
      "\r",
      "  0%|          | 0/20 [00:00<?, ?it/s]"
     ]
    },
    {
     "name": "stdout",
     "output_type": "stream",
     "text": [
      "[logger]: SparseRS routine: total attacks found 31, minimal size 1, attacks removed 0\n",
      "[logger]: Searching for Sparse Adversarial Attacks with minimum size 5\n",
      "[logger]: Gathering attacks with 5 variables.\n"
     ]
    },
    {
     "name": "stderr",
     "output_type": "stream",
     "text": [
      "100%|██████████| 20/20 [00:02<00:00,  6.89it/s]\n",
      "  5%|▌         | 1/20 [00:00<00:01,  9.55it/s]"
     ]
    },
    {
     "name": "stdout",
     "output_type": "stream",
     "text": [
      "[logger]: Gathering attacks with 4 variables.\n"
     ]
    },
    {
     "name": "stderr",
     "output_type": "stream",
     "text": [
      "100%|██████████| 20/20 [00:02<00:00,  6.94it/s]\n",
      "  5%|▌         | 1/20 [00:00<00:02,  6.39it/s]"
     ]
    },
    {
     "name": "stdout",
     "output_type": "stream",
     "text": [
      "[logger]: Gathering attacks with 3 variables.\n"
     ]
    },
    {
     "name": "stderr",
     "output_type": "stream",
     "text": [
      "100%|██████████| 20/20 [00:02<00:00,  6.70it/s]\n",
      "  5%|▌         | 1/20 [00:00<00:02,  6.41it/s]"
     ]
    },
    {
     "name": "stdout",
     "output_type": "stream",
     "text": [
      "[logger]: Gathering attacks with 2 variables.\n"
     ]
    },
    {
     "name": "stderr",
     "output_type": "stream",
     "text": [
      "100%|██████████| 20/20 [00:02<00:00,  7.30it/s]\n",
      "  5%|▌         | 1/20 [00:00<00:02,  6.44it/s]"
     ]
    },
    {
     "name": "stdout",
     "output_type": "stream",
     "text": [
      "[logger]: Gathering attacks with 1 variables.\n"
     ]
    },
    {
     "name": "stderr",
     "output_type": "stream",
     "text": [
      "100%|██████████| 20/20 [00:02<00:00,  7.05it/s]\n"
     ]
    },
    {
     "name": "stdout",
     "output_type": "stream",
     "text": [
      "[logger]: 42 attacks found\n"
     ]
    },
    {
     "name": "stderr",
     "output_type": "stream",
     "text": [
      "\r",
      "  0%|          | 0/20 [00:00<?, ?it/s]"
     ]
    },
    {
     "name": "stdout",
     "output_type": "stream",
     "text": [
      "[logger]: SparseRS routine: total attacks found 42, minimal size 1, attacks removed 0\n",
      "[logger]: Searching for Sparse Adversarial Attacks with minimum size 5\n",
      "[logger]: Gathering attacks with 5 variables.\n"
     ]
    },
    {
     "name": "stderr",
     "output_type": "stream",
     "text": [
      "100%|██████████| 20/20 [00:03<00:00,  6.43it/s]\n",
      "  5%|▌         | 1/20 [00:00<00:02,  6.37it/s]"
     ]
    },
    {
     "name": "stdout",
     "output_type": "stream",
     "text": [
      "[logger]: Gathering attacks with 4 variables.\n"
     ]
    },
    {
     "name": "stderr",
     "output_type": "stream",
     "text": [
      "100%|██████████| 20/20 [00:03<00:00,  6.58it/s]\n",
      "  5%|▌         | 1/20 [00:00<00:03,  6.30it/s]"
     ]
    },
    {
     "name": "stdout",
     "output_type": "stream",
     "text": [
      "[logger]: Gathering attacks with 3 variables.\n"
     ]
    },
    {
     "name": "stderr",
     "output_type": "stream",
     "text": [
      "100%|██████████| 20/20 [00:03<00:00,  6.56it/s]\n",
      "  5%|▌         | 1/20 [00:00<00:02,  6.48it/s]"
     ]
    },
    {
     "name": "stdout",
     "output_type": "stream",
     "text": [
      "[logger]: Gathering attacks with 2 variables.\n"
     ]
    },
    {
     "name": "stderr",
     "output_type": "stream",
     "text": [
      "100%|██████████| 20/20 [00:03<00:00,  6.42it/s]\n",
      "  5%|▌         | 1/20 [00:00<00:02,  6.34it/s]"
     ]
    },
    {
     "name": "stdout",
     "output_type": "stream",
     "text": [
      "[logger]: Gathering attacks with 1 variables.\n"
     ]
    },
    {
     "name": "stderr",
     "output_type": "stream",
     "text": [
      "100%|██████████| 20/20 [00:03<00:00,  6.52it/s]\n"
     ]
    },
    {
     "name": "stdout",
     "output_type": "stream",
     "text": [
      "[logger]: 9 attacks found\n",
      "[logger]: SparseRS routine: total attacks found 9, minimal size 1, attacks removed 0\n"
     ]
    },
    {
     "name": "stderr",
     "output_type": "stream",
     "text": [
      "  5%|▌         | 1/20 [00:00<00:03,  6.22it/s]"
     ]
    },
    {
     "name": "stdout",
     "output_type": "stream",
     "text": [
      "[logger]: Searching for Sparse Adversarial Attacks with minimum size 5\n",
      "[logger]: Gathering attacks with 5 variables.\n"
     ]
    },
    {
     "name": "stderr",
     "output_type": "stream",
     "text": [
      "100%|██████████| 20/20 [00:03<00:00,  6.44it/s]\n",
      "  0%|          | 0/20 [00:00<?, ?it/s]"
     ]
    },
    {
     "name": "stdout",
     "output_type": "stream",
     "text": [
      "[logger]: 0 attacks found\n",
      "[logger]: SparseRS routine: total attacks found 0, minimal size 6, attacks removed 0\n",
      "[logger]: Searching for Sparse Adversarial Attacks with minimum size 5\n",
      "[logger]: Gathering attacks with 5 variables.\n"
     ]
    },
    {
     "name": "stderr",
     "output_type": "stream",
     "text": [
      "100%|██████████| 20/20 [00:03<00:00,  6.55it/s]\n",
      "  5%|▌         | 1/20 [00:00<00:02,  6.52it/s]"
     ]
    },
    {
     "name": "stdout",
     "output_type": "stream",
     "text": [
      "[logger]: Gathering attacks with 4 variables.\n"
     ]
    },
    {
     "name": "stderr",
     "output_type": "stream",
     "text": [
      "100%|██████████| 20/20 [00:03<00:00,  6.54it/s]\n",
      "  5%|▌         | 1/20 [00:00<00:02,  6.39it/s]"
     ]
    },
    {
     "name": "stdout",
     "output_type": "stream",
     "text": [
      "[logger]: Gathering attacks with 3 variables.\n"
     ]
    },
    {
     "name": "stderr",
     "output_type": "stream",
     "text": [
      "100%|██████████| 20/20 [00:02<00:00,  6.71it/s]\n",
      "  5%|▌         | 1/20 [00:00<00:03,  6.31it/s]"
     ]
    },
    {
     "name": "stdout",
     "output_type": "stream",
     "text": [
      "[logger]: Gathering attacks with 2 variables.\n"
     ]
    },
    {
     "name": "stderr",
     "output_type": "stream",
     "text": [
      "100%|██████████| 20/20 [00:03<00:00,  6.41it/s]\n"
     ]
    },
    {
     "name": "stdout",
     "output_type": "stream",
     "text": [
      "[logger]: 9 attacks found\n"
     ]
    },
    {
     "name": "stderr",
     "output_type": "stream",
     "text": [
      "\r",
      "  0%|          | 0/20 [00:00<?, ?it/s]"
     ]
    },
    {
     "name": "stdout",
     "output_type": "stream",
     "text": [
      "[logger]: SparseRS routine: total attacks found 9, minimal size 3, attacks removed 0\n",
      "[logger]: Searching for Sparse Adversarial Attacks with minimum size 5\n",
      "[logger]: Gathering attacks with 5 variables.\n"
     ]
    },
    {
     "name": "stderr",
     "output_type": "stream",
     "text": [
      "100%|██████████| 20/20 [00:02<00:00,  6.71it/s]\n",
      "  5%|▌         | 1/20 [00:00<00:02,  9.48it/s]"
     ]
    },
    {
     "name": "stdout",
     "output_type": "stream",
     "text": [
      "[logger]: Gathering attacks with 4 variables.\n"
     ]
    },
    {
     "name": "stderr",
     "output_type": "stream",
     "text": [
      "100%|██████████| 20/20 [00:03<00:00,  6.04it/s]\n",
      "  5%|▌         | 1/20 [00:00<00:02,  6.42it/s]"
     ]
    },
    {
     "name": "stdout",
     "output_type": "stream",
     "text": [
      "[logger]: Gathering attacks with 3 variables.\n"
     ]
    },
    {
     "name": "stderr",
     "output_type": "stream",
     "text": [
      "100%|██████████| 20/20 [00:03<00:00,  6.46it/s]\n",
      "  5%|▌         | 1/20 [00:00<00:02,  6.45it/s]"
     ]
    },
    {
     "name": "stdout",
     "output_type": "stream",
     "text": [
      "[logger]: Gathering attacks with 2 variables.\n"
     ]
    },
    {
     "name": "stderr",
     "output_type": "stream",
     "text": [
      "100%|██████████| 20/20 [00:03<00:00,  6.63it/s]\n",
      "  5%|▌         | 1/20 [00:00<00:02,  6.52it/s]"
     ]
    },
    {
     "name": "stdout",
     "output_type": "stream",
     "text": [
      "[logger]: Gathering attacks with 1 variables.\n"
     ]
    },
    {
     "name": "stderr",
     "output_type": "stream",
     "text": [
      "100%|██████████| 20/20 [00:03<00:00,  6.45it/s]\n"
     ]
    },
    {
     "name": "stdout",
     "output_type": "stream",
     "text": [
      "[logger]: 12 attacks found\n"
     ]
    },
    {
     "name": "stderr",
     "output_type": "stream",
     "text": [
      "\r",
      "  0%|          | 0/20 [00:00<?, ?it/s]"
     ]
    },
    {
     "name": "stdout",
     "output_type": "stream",
     "text": [
      "[logger]: SparseRS routine: total attacks found 12, minimal size 1, attacks removed 0\n",
      "[logger]: Searching for Sparse Adversarial Attacks with minimum size 5\n",
      "[logger]: Gathering attacks with 5 variables.\n"
     ]
    },
    {
     "name": "stderr",
     "output_type": "stream",
     "text": [
      "100%|██████████| 20/20 [00:03<00:00,  6.38it/s]\n",
      "  5%|▌         | 1/20 [00:00<00:03,  6.31it/s]"
     ]
    },
    {
     "name": "stdout",
     "output_type": "stream",
     "text": [
      "[logger]: Gathering attacks with 4 variables.\n"
     ]
    },
    {
     "name": "stderr",
     "output_type": "stream",
     "text": [
      "100%|██████████| 20/20 [00:02<00:00,  6.84it/s]\n",
      "  5%|▌         | 1/20 [00:00<00:03,  6.33it/s]"
     ]
    },
    {
     "name": "stdout",
     "output_type": "stream",
     "text": [
      "[logger]: Gathering attacks with 3 variables.\n"
     ]
    },
    {
     "name": "stderr",
     "output_type": "stream",
     "text": [
      "100%|██████████| 20/20 [00:03<00:00,  6.44it/s]\n",
      "  5%|▌         | 1/20 [00:00<00:02,  6.47it/s]"
     ]
    },
    {
     "name": "stdout",
     "output_type": "stream",
     "text": [
      "[logger]: Gathering attacks with 2 variables.\n"
     ]
    },
    {
     "name": "stderr",
     "output_type": "stream",
     "text": [
      "100%|██████████| 20/20 [00:03<00:00,  6.44it/s]\n",
      "  5%|▌         | 1/20 [00:00<00:03,  6.33it/s]"
     ]
    },
    {
     "name": "stdout",
     "output_type": "stream",
     "text": [
      "[logger]: Gathering attacks with 1 variables.\n"
     ]
    },
    {
     "name": "stderr",
     "output_type": "stream",
     "text": [
      "100%|██████████| 20/20 [00:03<00:00,  6.11it/s]\n"
     ]
    },
    {
     "name": "stdout",
     "output_type": "stream",
     "text": [
      "[logger]: 15 attacks found\n",
      "[logger]: SparseRS routine: total attacks found 15, minimal size 1, attacks removed 0\n"
     ]
    },
    {
     "name": "stderr",
     "output_type": "stream",
     "text": [
      "  5%|▌         | 1/20 [00:00<00:03,  6.28it/s]"
     ]
    },
    {
     "name": "stdout",
     "output_type": "stream",
     "text": [
      "[logger]: Searching for Sparse Adversarial Attacks with minimum size 5\n",
      "[logger]: Gathering attacks with 5 variables.\n"
     ]
    },
    {
     "name": "stderr",
     "output_type": "stream",
     "text": [
      "100%|██████████| 20/20 [00:03<00:00,  6.42it/s]\n",
      "  5%|▌         | 1/20 [00:00<00:02,  6.35it/s]"
     ]
    },
    {
     "name": "stdout",
     "output_type": "stream",
     "text": [
      "[logger]: Gathering attacks with 4 variables.\n"
     ]
    },
    {
     "name": "stderr",
     "output_type": "stream",
     "text": [
      "100%|██████████| 20/20 [00:03<00:00,  6.43it/s]\n",
      "  5%|▌         | 1/20 [00:00<00:02,  6.52it/s]"
     ]
    },
    {
     "name": "stdout",
     "output_type": "stream",
     "text": [
      "[logger]: Gathering attacks with 3 variables.\n"
     ]
    },
    {
     "name": "stderr",
     "output_type": "stream",
     "text": [
      "100%|██████████| 20/20 [00:03<00:00,  6.47it/s]\n"
     ]
    },
    {
     "name": "stdout",
     "output_type": "stream",
     "text": [
      "[logger]: 2 attacks found\n",
      "[logger]: SparseRS routine: total attacks found 2, minimal size 4, attacks removed 0\n"
     ]
    },
    {
     "name": "stderr",
     "output_type": "stream",
     "text": [
      "  5%|▌         | 1/20 [00:00<00:02,  6.53it/s]"
     ]
    },
    {
     "name": "stdout",
     "output_type": "stream",
     "text": [
      "[logger]: Searching for Sparse Adversarial Attacks with minimum size 5\n",
      "[logger]: Gathering attacks with 5 variables.\n"
     ]
    },
    {
     "name": "stderr",
     "output_type": "stream",
     "text": [
      "100%|██████████| 20/20 [00:02<00:00,  6.76it/s]\n",
      "  5%|▌         | 1/20 [00:00<00:02,  6.50it/s]"
     ]
    },
    {
     "name": "stdout",
     "output_type": "stream",
     "text": [
      "[logger]: Gathering attacks with 4 variables.\n"
     ]
    },
    {
     "name": "stderr",
     "output_type": "stream",
     "text": [
      "100%|██████████| 20/20 [00:02<00:00,  6.76it/s]\n",
      "  5%|▌         | 1/20 [00:00<00:02,  6.52it/s]"
     ]
    },
    {
     "name": "stdout",
     "output_type": "stream",
     "text": [
      "[logger]: Gathering attacks with 3 variables.\n"
     ]
    },
    {
     "name": "stderr",
     "output_type": "stream",
     "text": [
      "100%|██████████| 20/20 [00:03<00:00,  6.45it/s]\n",
      "  5%|▌         | 1/20 [00:00<00:02,  6.54it/s]"
     ]
    },
    {
     "name": "stdout",
     "output_type": "stream",
     "text": [
      "[logger]: Gathering attacks with 2 variables.\n"
     ]
    },
    {
     "name": "stderr",
     "output_type": "stream",
     "text": [
      "100%|██████████| 20/20 [00:03<00:00,  6.64it/s]\n",
      "  5%|▌         | 1/20 [00:00<00:02,  6.45it/s]"
     ]
    },
    {
     "name": "stdout",
     "output_type": "stream",
     "text": [
      "[logger]: Gathering attacks with 1 variables.\n"
     ]
    },
    {
     "name": "stderr",
     "output_type": "stream",
     "text": [
      "100%|██████████| 20/20 [00:03<00:00,  6.09it/s]\n"
     ]
    },
    {
     "name": "stdout",
     "output_type": "stream",
     "text": [
      "[logger]: 17 attacks found\n"
     ]
    },
    {
     "name": "stderr",
     "output_type": "stream",
     "text": [
      "\r",
      "  0%|          | 0/20 [00:00<?, ?it/s]"
     ]
    },
    {
     "name": "stdout",
     "output_type": "stream",
     "text": [
      "[logger]: SparseRS routine: total attacks found 17, minimal size 1, attacks removed 0\n",
      "[logger]: Searching for Sparse Adversarial Attacks with minimum size 5\n",
      "[logger]: Gathering attacks with 5 variables.\n"
     ]
    },
    {
     "name": "stderr",
     "output_type": "stream",
     "text": [
      "100%|██████████| 20/20 [00:02<00:00,  6.84it/s]\n",
      "  5%|▌         | 1/20 [00:00<00:02,  6.44it/s]"
     ]
    },
    {
     "name": "stdout",
     "output_type": "stream",
     "text": [
      "[logger]: Gathering attacks with 4 variables.\n"
     ]
    },
    {
     "name": "stderr",
     "output_type": "stream",
     "text": [
      "100%|██████████| 20/20 [00:02<00:00,  7.04it/s]\n",
      "  5%|▌         | 1/20 [00:00<00:02,  6.49it/s]"
     ]
    },
    {
     "name": "stdout",
     "output_type": "stream",
     "text": [
      "[logger]: Gathering attacks with 3 variables.\n"
     ]
    },
    {
     "name": "stderr",
     "output_type": "stream",
     "text": [
      "100%|██████████| 20/20 [00:02<00:00,  6.76it/s]\n",
      "  5%|▌         | 1/20 [00:00<00:02,  6.62it/s]"
     ]
    },
    {
     "name": "stdout",
     "output_type": "stream",
     "text": [
      "[logger]: Gathering attacks with 2 variables.\n"
     ]
    },
    {
     "name": "stderr",
     "output_type": "stream",
     "text": [
      "100%|██████████| 20/20 [00:02<00:00,  7.41it/s]\n",
      "  5%|▌         | 1/20 [00:00<00:02,  6.54it/s]"
     ]
    },
    {
     "name": "stdout",
     "output_type": "stream",
     "text": [
      "[logger]: Gathering attacks with 1 variables.\n"
     ]
    },
    {
     "name": "stderr",
     "output_type": "stream",
     "text": [
      "100%|██████████| 20/20 [00:02<00:00,  6.72it/s]\n"
     ]
    },
    {
     "name": "stdout",
     "output_type": "stream",
     "text": [
      "[logger]: 37 attacks found\n"
     ]
    },
    {
     "name": "stderr",
     "output_type": "stream",
     "text": [
      "\r",
      "  0%|          | 0/20 [00:00<?, ?it/s]"
     ]
    },
    {
     "name": "stdout",
     "output_type": "stream",
     "text": [
      "[logger]: SparseRS routine: total attacks found 37, minimal size 1, attacks removed 0\n",
      "[logger]: Searching for Sparse Adversarial Attacks with minimum size 5\n",
      "[logger]: Gathering attacks with 5 variables.\n"
     ]
    },
    {
     "name": "stderr",
     "output_type": "stream",
     "text": [
      "100%|██████████| 20/20 [00:03<00:00,  6.42it/s]\n",
      "  0%|          | 0/20 [00:00<?, ?it/s]"
     ]
    },
    {
     "name": "stdout",
     "output_type": "stream",
     "text": [
      "[logger]: 0 attacks found\n",
      "[logger]: SparseRS routine: total attacks found 0, minimal size 6, attacks removed 0\n",
      "[logger]: Searching for Sparse Adversarial Attacks with minimum size 5\n",
      "[logger]: Gathering attacks with 5 variables.\n"
     ]
    },
    {
     "name": "stderr",
     "output_type": "stream",
     "text": [
      "100%|██████████| 20/20 [00:03<00:00,  5.92it/s]\n",
      "  0%|          | 0/20 [00:00<?, ?it/s]"
     ]
    },
    {
     "name": "stdout",
     "output_type": "stream",
     "text": [
      "[logger]: 0 attacks found\n",
      "[logger]: SparseRS routine: total attacks found 0, minimal size 6, attacks removed 0\n",
      "[logger]: Searching for Sparse Adversarial Attacks with minimum size 5\n",
      "[logger]: Gathering attacks with 5 variables.\n"
     ]
    },
    {
     "name": "stderr",
     "output_type": "stream",
     "text": [
      "100%|██████████| 20/20 [00:03<00:00,  6.49it/s]\n",
      "  0%|          | 0/20 [00:00<?, ?it/s]"
     ]
    },
    {
     "name": "stdout",
     "output_type": "stream",
     "text": [
      "[logger]: 0 attacks found\n",
      "[logger]: SparseRS routine: total attacks found 0, minimal size 6, attacks removed 0\n",
      "[logger]: Searching for Sparse Adversarial Attacks with minimum size 5\n",
      "[logger]: Gathering attacks with 5 variables.\n"
     ]
    },
    {
     "name": "stderr",
     "output_type": "stream",
     "text": [
      "100%|██████████| 20/20 [00:03<00:00,  6.52it/s]\n",
      "  0%|          | 0/20 [00:00<?, ?it/s]"
     ]
    },
    {
     "name": "stdout",
     "output_type": "stream",
     "text": [
      "[logger]: 0 attacks found\n",
      "[logger]: SparseRS routine: total attacks found 0, minimal size 6, attacks removed 0\n",
      "[logger]: Searching for Sparse Adversarial Attacks with minimum size 5\n",
      "[logger]: Gathering attacks with 5 variables.\n"
     ]
    },
    {
     "name": "stderr",
     "output_type": "stream",
     "text": [
      "100%|██████████| 20/20 [00:03<00:00,  6.62it/s]\n",
      "  5%|▌         | 1/20 [00:00<00:02,  6.49it/s]"
     ]
    },
    {
     "name": "stdout",
     "output_type": "stream",
     "text": [
      "[logger]: Gathering attacks with 4 variables.\n"
     ]
    },
    {
     "name": "stderr",
     "output_type": "stream",
     "text": [
      "100%|██████████| 20/20 [00:03<00:00,  6.57it/s]\n",
      "  5%|▌         | 1/20 [00:00<00:03,  6.33it/s]"
     ]
    },
    {
     "name": "stdout",
     "output_type": "stream",
     "text": [
      "[logger]: Gathering attacks with 3 variables.\n"
     ]
    },
    {
     "name": "stderr",
     "output_type": "stream",
     "text": [
      "100%|██████████| 20/20 [00:03<00:00,  6.59it/s]\n",
      "  5%|▌         | 1/20 [00:00<00:02,  6.49it/s]"
     ]
    },
    {
     "name": "stdout",
     "output_type": "stream",
     "text": [
      "[logger]: Gathering attacks with 2 variables.\n"
     ]
    },
    {
     "name": "stderr",
     "output_type": "stream",
     "text": [
      "100%|██████████| 20/20 [00:03<00:00,  6.60it/s]\n",
      "  5%|▌         | 1/20 [00:00<00:02,  6.43it/s]"
     ]
    },
    {
     "name": "stdout",
     "output_type": "stream",
     "text": [
      "[logger]: Gathering attacks with 1 variables.\n"
     ]
    },
    {
     "name": "stderr",
     "output_type": "stream",
     "text": [
      "100%|██████████| 20/20 [00:03<00:00,  6.02it/s]\n"
     ]
    },
    {
     "name": "stdout",
     "output_type": "stream",
     "text": [
      "[logger]: 6 attacks found\n",
      "[logger]: SparseRS routine: total attacks found 6, minimal size 2, attacks removed 0\n"
     ]
    },
    {
     "name": "stderr",
     "output_type": "stream",
     "text": [
      "  5%|▌         | 1/20 [00:00<00:02,  6.40it/s]"
     ]
    },
    {
     "name": "stdout",
     "output_type": "stream",
     "text": [
      "[logger]: Searching for Sparse Adversarial Attacks with minimum size 5\n",
      "[logger]: Gathering attacks with 5 variables.\n"
     ]
    },
    {
     "name": "stderr",
     "output_type": "stream",
     "text": [
      "100%|██████████| 20/20 [00:03<00:00,  6.50it/s]\n",
      "  0%|          | 0/20 [00:00<?, ?it/s]"
     ]
    },
    {
     "name": "stdout",
     "output_type": "stream",
     "text": [
      "[logger]: 0 attacks found\n",
      "[logger]: SparseRS routine: total attacks found 0, minimal size 6, attacks removed 0\n",
      "[logger]: Searching for Sparse Adversarial Attacks with minimum size 5\n",
      "[logger]: Gathering attacks with 5 variables.\n"
     ]
    },
    {
     "name": "stderr",
     "output_type": "stream",
     "text": [
      "100%|██████████| 20/20 [00:03<00:00,  6.45it/s]\n",
      "  0%|          | 0/20 [00:00<?, ?it/s]"
     ]
    },
    {
     "name": "stdout",
     "output_type": "stream",
     "text": [
      "[logger]: 0 attacks found\n",
      "[logger]: SparseRS routine: total attacks found 0, minimal size 6, attacks removed 0\n",
      "[logger]: Searching for Sparse Adversarial Attacks with minimum size 5\n",
      "[logger]: Gathering attacks with 5 variables.\n"
     ]
    },
    {
     "name": "stderr",
     "output_type": "stream",
     "text": [
      "100%|██████████| 20/20 [00:03<00:00,  6.53it/s]\n",
      "  0%|          | 0/20 [00:00<?, ?it/s]"
     ]
    },
    {
     "name": "stdout",
     "output_type": "stream",
     "text": [
      "[logger]: 0 attacks found\n",
      "[logger]: SparseRS routine: total attacks found 0, minimal size 6, attacks removed 0\n",
      "[logger]: Searching for Sparse Adversarial Attacks with minimum size 5\n",
      "[logger]: Gathering attacks with 5 variables.\n"
     ]
    },
    {
     "name": "stderr",
     "output_type": "stream",
     "text": [
      "100%|██████████| 20/20 [00:03<00:00,  6.58it/s]\n",
      "  5%|▌         | 1/20 [00:00<00:02,  6.50it/s]"
     ]
    },
    {
     "name": "stdout",
     "output_type": "stream",
     "text": [
      "[logger]: Gathering attacks with 4 variables.\n"
     ]
    },
    {
     "name": "stderr",
     "output_type": "stream",
     "text": [
      "100%|██████████| 20/20 [00:03<00:00,  6.61it/s]\n",
      "  5%|▌         | 1/20 [00:00<00:02,  9.39it/s]"
     ]
    },
    {
     "name": "stdout",
     "output_type": "stream",
     "text": [
      "[logger]: Gathering attacks with 3 variables.\n"
     ]
    },
    {
     "name": "stderr",
     "output_type": "stream",
     "text": [
      "100%|██████████| 20/20 [00:03<00:00,  6.44it/s]\n",
      "  5%|▌         | 1/20 [00:00<00:01,  9.73it/s]"
     ]
    },
    {
     "name": "stdout",
     "output_type": "stream",
     "text": [
      "[logger]: Gathering attacks with 2 variables.\n"
     ]
    },
    {
     "name": "stderr",
     "output_type": "stream",
     "text": [
      "100%|██████████| 20/20 [00:02<00:00,  6.70it/s]\n",
      "  5%|▌         | 1/20 [00:00<00:02,  6.40it/s]"
     ]
    },
    {
     "name": "stdout",
     "output_type": "stream",
     "text": [
      "[logger]: Gathering attacks with 1 variables.\n"
     ]
    },
    {
     "name": "stderr",
     "output_type": "stream",
     "text": [
      "100%|██████████| 20/20 [00:02<00:00,  6.80it/s]\n"
     ]
    },
    {
     "name": "stdout",
     "output_type": "stream",
     "text": [
      "[logger]: 28 attacks found\n"
     ]
    },
    {
     "name": "stderr",
     "output_type": "stream",
     "text": [
      "\r",
      "  0%|          | 0/20 [00:00<?, ?it/s]"
     ]
    },
    {
     "name": "stdout",
     "output_type": "stream",
     "text": [
      "[logger]: SparseRS routine: total attacks found 28, minimal size 1, attacks removed 0\n",
      "[logger]: Searching for Sparse Adversarial Attacks with minimum size 5\n",
      "[logger]: Gathering attacks with 5 variables.\n"
     ]
    },
    {
     "name": "stderr",
     "output_type": "stream",
     "text": [
      "100%|██████████| 20/20 [00:03<00:00,  6.45it/s]\n",
      "  0%|          | 0/20 [00:00<?, ?it/s]"
     ]
    },
    {
     "name": "stdout",
     "output_type": "stream",
     "text": [
      "[logger]: 0 attacks found\n",
      "[logger]: SparseRS routine: total attacks found 0, minimal size 6, attacks removed 0\n",
      "[logger]: Searching for Sparse Adversarial Attacks with minimum size 5\n",
      "[logger]: Gathering attacks with 5 variables.\n"
     ]
    },
    {
     "name": "stderr",
     "output_type": "stream",
     "text": [
      "100%|██████████| 20/20 [00:03<00:00,  6.45it/s]\n",
      "  0%|          | 0/20 [00:00<?, ?it/s]"
     ]
    },
    {
     "name": "stdout",
     "output_type": "stream",
     "text": [
      "[logger]: 0 attacks found\n",
      "[logger]: SparseRS routine: total attacks found 0, minimal size 6, attacks removed 0\n",
      "[logger]: Searching for Sparse Adversarial Attacks with minimum size 5\n",
      "[logger]: Gathering attacks with 5 variables.\n"
     ]
    },
    {
     "name": "stderr",
     "output_type": "stream",
     "text": [
      "100%|██████████| 20/20 [00:03<00:00,  6.55it/s]\n",
      "  5%|▌         | 1/20 [00:00<00:02,  6.43it/s]"
     ]
    },
    {
     "name": "stdout",
     "output_type": "stream",
     "text": [
      "[logger]: Gathering attacks with 4 variables.\n"
     ]
    },
    {
     "name": "stderr",
     "output_type": "stream",
     "text": [
      "100%|██████████| 20/20 [00:03<00:00,  6.45it/s]\n",
      "  5%|▌         | 1/20 [00:00<00:02,  6.65it/s]"
     ]
    },
    {
     "name": "stdout",
     "output_type": "stream",
     "text": [
      "[logger]: Gathering attacks with 3 variables.\n"
     ]
    },
    {
     "name": "stderr",
     "output_type": "stream",
     "text": [
      "100%|██████████| 20/20 [00:03<00:00,  6.14it/s]\n",
      "  5%|▌         | 1/20 [00:00<00:03,  6.18it/s]"
     ]
    },
    {
     "name": "stdout",
     "output_type": "stream",
     "text": [
      "[logger]: Gathering attacks with 2 variables.\n"
     ]
    },
    {
     "name": "stderr",
     "output_type": "stream",
     "text": [
      "100%|██████████| 20/20 [00:03<00:00,  6.37it/s]\n"
     ]
    },
    {
     "name": "stdout",
     "output_type": "stream",
     "text": [
      "[logger]: 5 attacks found\n",
      "[logger]: SparseRS routine: total attacks found 5, minimal size 3, attacks removed 0\n"
     ]
    },
    {
     "name": "stderr",
     "output_type": "stream",
     "text": [
      "  5%|▌         | 1/20 [00:00<00:03,  6.32it/s]"
     ]
    },
    {
     "name": "stdout",
     "output_type": "stream",
     "text": [
      "[logger]: Searching for Sparse Adversarial Attacks with minimum size 5\n",
      "[logger]: Gathering attacks with 5 variables.\n"
     ]
    },
    {
     "name": "stderr",
     "output_type": "stream",
     "text": [
      "100%|██████████| 20/20 [00:03<00:00,  6.43it/s]\n",
      "  0%|          | 0/20 [00:00<?, ?it/s]"
     ]
    },
    {
     "name": "stdout",
     "output_type": "stream",
     "text": [
      "[logger]: 0 attacks found\n",
      "[logger]: SparseRS routine: total attacks found 0, minimal size 6, attacks removed 0\n",
      "[logger]: Searching for Sparse Adversarial Attacks with minimum size 5\n",
      "[logger]: Gathering attacks with 5 variables.\n"
     ]
    },
    {
     "name": "stderr",
     "output_type": "stream",
     "text": [
      "100%|██████████| 20/20 [00:03<00:00,  6.48it/s]\n",
      "  0%|          | 0/20 [00:00<?, ?it/s]"
     ]
    },
    {
     "name": "stdout",
     "output_type": "stream",
     "text": [
      "[logger]: 0 attacks found\n",
      "[logger]: SparseRS routine: total attacks found 0, minimal size 6, attacks removed 0\n",
      "[logger]: Searching for Sparse Adversarial Attacks with minimum size 5\n",
      "[logger]: Gathering attacks with 5 variables.\n"
     ]
    },
    {
     "name": "stderr",
     "output_type": "stream",
     "text": [
      "100%|██████████| 20/20 [00:03<00:00,  6.48it/s]\n"
     ]
    },
    {
     "name": "stdout",
     "output_type": "stream",
     "text": [
      "[logger]: 0 attacks found\n",
      "[logger]: SparseRS routine: total attacks found 0, minimal size 6, attacks removed 0\n"
     ]
    },
    {
     "name": "stderr",
     "output_type": "stream",
     "text": [
      "  5%|▌         | 1/20 [00:00<00:02,  6.47it/s]"
     ]
    },
    {
     "name": "stdout",
     "output_type": "stream",
     "text": [
      "[logger]: Searching for Sparse Adversarial Attacks with minimum size 5\n",
      "[logger]: Gathering attacks with 5 variables.\n"
     ]
    },
    {
     "name": "stderr",
     "output_type": "stream",
     "text": [
      "100%|██████████| 20/20 [00:03<00:00,  6.45it/s]\n"
     ]
    },
    {
     "name": "stdout",
     "output_type": "stream",
     "text": [
      "[logger]: 0 attacks found\n",
      "[logger]: SparseRS routine: total attacks found 0, minimal size 6, attacks removed 0\n"
     ]
    },
    {
     "name": "stderr",
     "output_type": "stream",
     "text": [
      "  5%|▌         | 1/20 [00:00<00:02,  6.39it/s]"
     ]
    },
    {
     "name": "stdout",
     "output_type": "stream",
     "text": [
      "[logger]: Searching for Sparse Adversarial Attacks with minimum size 5\n",
      "[logger]: Gathering attacks with 5 variables.\n"
     ]
    },
    {
     "name": "stderr",
     "output_type": "stream",
     "text": [
      "100%|██████████| 20/20 [00:03<00:00,  5.97it/s]\n"
     ]
    },
    {
     "name": "stdout",
     "output_type": "stream",
     "text": [
      "[logger]: 0 attacks found\n",
      "[logger]: SparseRS routine: total attacks found 0, minimal size 6, attacks removed 0\n"
     ]
    },
    {
     "name": "stderr",
     "output_type": "stream",
     "text": [
      "  5%|▌         | 1/20 [00:00<00:03,  6.31it/s]"
     ]
    },
    {
     "name": "stdout",
     "output_type": "stream",
     "text": [
      "[logger]: Searching for Sparse Adversarial Attacks with minimum size 5\n",
      "[logger]: Gathering attacks with 5 variables.\n"
     ]
    },
    {
     "name": "stderr",
     "output_type": "stream",
     "text": [
      "100%|██████████| 20/20 [00:03<00:00,  6.37it/s]\n"
     ]
    },
    {
     "name": "stdout",
     "output_type": "stream",
     "text": [
      "[logger]: 0 attacks found\n",
      "[logger]: SparseRS routine: total attacks found 0, minimal size 6, attacks removed 0\n"
     ]
    },
    {
     "name": "stderr",
     "output_type": "stream",
     "text": [
      "  5%|▌         | 1/20 [00:00<00:02,  6.39it/s]"
     ]
    },
    {
     "name": "stdout",
     "output_type": "stream",
     "text": [
      "[logger]: Searching for Sparse Adversarial Attacks with minimum size 5\n",
      "[logger]: Gathering attacks with 5 variables.\n"
     ]
    },
    {
     "name": "stderr",
     "output_type": "stream",
     "text": [
      "100%|██████████| 20/20 [00:03<00:00,  6.46it/s]\n"
     ]
    },
    {
     "name": "stdout",
     "output_type": "stream",
     "text": [
      "[logger]: 0 attacks found\n",
      "[logger]: SparseRS routine: total attacks found 0, minimal size 6, attacks removed 0\n"
     ]
    },
    {
     "name": "stderr",
     "output_type": "stream",
     "text": [
      "  5%|▌         | 1/20 [00:00<00:03,  5.84it/s]"
     ]
    },
    {
     "name": "stdout",
     "output_type": "stream",
     "text": [
      "[logger]: Searching for Sparse Adversarial Attacks with minimum size 5\n",
      "[logger]: Gathering attacks with 5 variables.\n"
     ]
    },
    {
     "name": "stderr",
     "output_type": "stream",
     "text": [
      "100%|██████████| 20/20 [00:03<00:00,  6.07it/s]\n"
     ]
    },
    {
     "name": "stdout",
     "output_type": "stream",
     "text": [
      "[logger]: 0 attacks found\n",
      "[logger]: SparseRS routine: total attacks found 0, minimal size 6, attacks removed 0\n"
     ]
    },
    {
     "name": "stderr",
     "output_type": "stream",
     "text": [
      "  5%|▌         | 1/20 [00:00<00:03,  6.27it/s]"
     ]
    },
    {
     "name": "stdout",
     "output_type": "stream",
     "text": [
      "[logger]: Searching for Sparse Adversarial Attacks with minimum size 5\n",
      "[logger]: Gathering attacks with 5 variables.\n"
     ]
    },
    {
     "name": "stderr",
     "output_type": "stream",
     "text": [
      "100%|██████████| 20/20 [00:03<00:00,  6.66it/s]\n",
      "  5%|▌         | 1/20 [00:00<00:02,  6.50it/s]"
     ]
    },
    {
     "name": "stdout",
     "output_type": "stream",
     "text": [
      "[logger]: Gathering attacks with 4 variables.\n"
     ]
    },
    {
     "name": "stderr",
     "output_type": "stream",
     "text": [
      "100%|██████████| 20/20 [00:03<00:00,  6.44it/s]\n",
      "  5%|▌         | 1/20 [00:00<00:02,  6.37it/s]"
     ]
    },
    {
     "name": "stdout",
     "output_type": "stream",
     "text": [
      "[logger]: Gathering attacks with 3 variables.\n"
     ]
    },
    {
     "name": "stderr",
     "output_type": "stream",
     "text": [
      "100%|██████████| 20/20 [00:03<00:00,  5.98it/s]\n"
     ]
    },
    {
     "name": "stdout",
     "output_type": "stream",
     "text": [
      "[logger]: 4 attacks found\n",
      "[logger]: SparseRS routine: total attacks found 4, minimal size 4, attacks removed 0\n"
     ]
    },
    {
     "name": "stderr",
     "output_type": "stream",
     "text": [
      "  5%|▌         | 1/20 [00:00<00:03,  6.31it/s]"
     ]
    },
    {
     "name": "stdout",
     "output_type": "stream",
     "text": [
      "[logger]: Searching for Sparse Adversarial Attacks with minimum size 5\n",
      "[logger]: Gathering attacks with 5 variables.\n"
     ]
    },
    {
     "name": "stderr",
     "output_type": "stream",
     "text": [
      "100%|██████████| 20/20 [00:03<00:00,  6.57it/s]\n",
      "  5%|▌         | 1/20 [00:00<00:02,  6.52it/s]"
     ]
    },
    {
     "name": "stdout",
     "output_type": "stream",
     "text": [
      "[logger]: Gathering attacks with 4 variables.\n"
     ]
    },
    {
     "name": "stderr",
     "output_type": "stream",
     "text": [
      "100%|██████████| 20/20 [00:02<00:00,  6.76it/s]\n",
      "  5%|▌         | 1/20 [00:00<00:02,  6.58it/s]"
     ]
    },
    {
     "name": "stdout",
     "output_type": "stream",
     "text": [
      "[logger]: Gathering attacks with 3 variables.\n"
     ]
    },
    {
     "name": "stderr",
     "output_type": "stream",
     "text": [
      "100%|██████████| 20/20 [00:03<00:00,  6.55it/s]\n",
      "  5%|▌         | 1/20 [00:00<00:03,  6.30it/s]"
     ]
    },
    {
     "name": "stdout",
     "output_type": "stream",
     "text": [
      "[logger]: Gathering attacks with 2 variables.\n"
     ]
    },
    {
     "name": "stderr",
     "output_type": "stream",
     "text": [
      " 35%|███▌      | 7/20 [00:01<00:02,  6.35it/s]"
     ]
    }
   ],
   "source": [
    "all_exps = []\n",
    "\n",
    "#for idx in range(len(ns)):\n",
    "for idx in range(1):\n",
    "    #n = ns[idx]\n",
    "    n = 104326\n",
    "    #knn = knns[idx]\n",
    "    knn = 6\n",
    "    X = X_train[n].reshape(1,*X_train[n].shape)\n",
    "    N = 50\n",
    "    y_hat = np.argmax(bayes_model.predict(X,n=N))\n",
    "    y_class = 'Positive.' if y_hat == 1 else 'Negative.'\n",
    "    y_true_text = 'Positive.' if y_train[n] == 1 else 'Negative.'\n",
    "    input_shape = X.flatten().shape\n",
    "\n",
    "    window_size = emb_dims\n",
    "\n",
    "    embedding, word2index, index2word, index2embedding = load_embedding_function('SST',maxlen,emb_dims,'../../embeddings/')\n",
    "    shape = (1,maxlen*emb_dims) if ksize == None else (1,ksize,ksize,emb_dims)\n",
    "    embedding = lambda W: np.array([index2embedding[word2index[w]] for w in W]).reshape(*shape)\n",
    "\n",
    "    text_list = text_train[n]\n",
    "\n",
    "    input_ = text_list[:maxlen] + ['<PAD>']*(maxlen-len(text_list))\n",
    "    padded_input = input_\n",
    "    X = X_train[n].reshape(*shape)\n",
    "\n",
    "\n",
    "    bayes_model = PosteriorModel(model_name)\n",
    "\n",
    "    __Embedding = Embedding(word2index, index2word, index2embedding)\n",
    "    nearest_neighbors, eq_convex_hull, vertices_convex_hull = [], [], []\n",
    "    for i in padded_input:\n",
    "        tmp = __Embedding.nearest_neighbors(i, knn, method='l2')\n",
    "        nearest_neighbors += [[index2embedding[word2index[w]] for w in tmp[0]]]\n",
    "        eq_convex_hull += [[eq.tolist() for eq in ConvexHull(nearest_neighbors[-1]).equations]]\n",
    "        vertices_convex_hull += [[eq.tolist() for eq in ConvexHull(nearest_neighbors[-1]).vertices]]\n",
    "\n",
    "    for i in range(len(vertices_convex_hull)):\n",
    "        vertices_convex_hull[i] = list(itemgetter(*vertices_convex_hull[i])(nearest_neighbors[i]))\n",
    "    vertices_convex_hull = np.array(vertices_convex_hull)\n",
    "    minmax_input_bounds = [[np.min(v, axis=0), np.max(v, axis=0)] for v in vertices_convex_hull]\n",
    "\n",
    "    for nn in range(maxlen):\n",
    "        if ksize:\n",
    "            xx = X.reshape(1,maxlen*emb_dims)\n",
    "            xx = xx[:,nn*window_size:(nn+1)*window_size]\n",
    "        else:\n",
    "            xx = np.array(X[:,nn*window_size:(nn+1)*window_size])\n",
    "        for i, eq in enumerate(eq_convex_hull[nn]):\n",
    "            w,b = np.array(eq[:-1]).reshape(emb_dims,1), eq[-1]\n",
    "            dp = np.dot(xx,np.array(w)) + b\n",
    "            assert dp <= 1e-3, print(\"The convex hull is NOT consistent! Error at equation {} (input {}), result of xW<=b is zero or negative, {}\".format(i, n, dp))\n",
    "    print(\"The convex hull is consistent: each embedded point belongs to one of the respective {} facets equations\".format(sum([len(eq) for eq in eq_convex_hull])))\n",
    "\n",
    "    SAMPLES = 30\n",
    "    c = 0\n",
    "    excl_list = ['<PAD>']\n",
    "    word_cost_func = dict()\n",
    "    for word in padded_input:\n",
    "        if not word in word_cost_func.keys():\n",
    "            # if its a pad or not in the embedding, give it a high cost\n",
    "            #if word == '<PAD>' or word2index[word] <= 2 or word == 'arliss' or word == 'howard':\n",
    "            if word in excl_list:\n",
    "                word_cost_func[word] = 100\n",
    "            else:\n",
    "                word_cost_func[word] = 1\n",
    "\n",
    "    \n",
    "    \n",
    "    explanations = dict()\n",
    "    explanations['fw+'] = []\n",
    "    explanations['fw-'] = []\n",
    "    while c < SAMPLES:\n",
    "        tmp_weights = bayes_model.sample()\n",
    "        bayes_model.set_weights(tmp_weights)\n",
    "        model = bayes_model.model\n",
    "            \n",
    "        c += 1\n",
    "\n",
    "        input_shape = X.shape\n",
    "        prediction = model.predict(X)\n",
    "        input_ = X.flatten().tolist()\n",
    "        y_hat = np.argmax(prediction)\n",
    "        act_y = y_train[n]\n",
    "        c_hat = np.max(prediction)\n",
    "        HS_maxlen = 1e7\n",
    "        verbose = False\n",
    "        \n",
    "        if act_y == y_hat:\n",
    "            print('Model in fw+')\n",
    "            fw = 'fw+'\n",
    "        else:\n",
    "            print('Model in fw-')\n",
    "            fw = 'fw-' \n",
    "        print(\"Classifiation for the input is {} (confidence {})\".format(y_hat, c_hat))\n",
    "\n",
    "        index = 1\n",
    "        frozen_graph_prefix = f'tmp_model_{index}.pb'\n",
    "        filename = frozen_graph_prefix\n",
    "        model_without_softmax = tf.keras.models.Model(inputs=model.inputs, outputs=model.layers[-2].output)\n",
    "        tf.saved_model.save(model_without_softmax, frozen_graph_prefix)\n",
    "        output_constraints = [y_hat, (1 if y_hat==0 else 0), 1e-3]\n",
    "\n",
    "\n",
    "        fgsm_args = (model, X, y_hat, 2, False, \"categorical_cross_entropy\", [], minmax_input_bounds, 1)\n",
    "        adv_args = (adv.get_adversarial_FGSM, fgsm_args)\n",
    "        adv_sims = 20\n",
    "\n",
    "        weights_softmax = model.layers[-1].get_weights()\n",
    "        h, exec_time, GAMMA = knn_smallest_explanation_linf_with_cost(model, filename, padded_input, X, word_cost_func, minmax_input_bounds, y_hat, [eq_convex_hull, minmax_input_bounds], output_constraints, window_size, weights_softmax,\n",
    "                                                            adv_attacks=True, adv_args=adv_args, sims=adv_sims, randomize_pickfalselits=False, HS_maxlen=HS_maxlen, verbose=verbose)\n",
    "\n",
    "        print(\"Minimum Size Explanation found {} (size {})\".format(h, len(h)/window_size))\n",
    "        print(\"Complementary set of Minimum Size Explanation is {}\".format([i for i in range(maxlen*emb_dims) if i not in h]))\n",
    "        print(\"Execution Time: {}\".format(exec_time))\n",
    "\n",
    "\n",
    "\n",
    "        word_ids = [int(i/emb_dims) for idx,i in enumerate(h) if idx % emb_dims == 0 ]\n",
    "        sorted(word_ids)\n",
    "        words_out = [w for idx,w in enumerate(padded_input) if idx in word_ids]\n",
    "        print(words_out)\n",
    "        \n",
    "        # words out is our first ORE\n",
    "        # now get all ORES of that cost\n",
    "        \n",
    "        #first get all combinations of that same cost\n",
    "        cost = sum([word_cost_func[w] for w in words_out])\n",
    "        print('COST:',cost)\n",
    "        combs, combs_ids = get_all_of_cost(cost,word_cost_func,padded_input)\n",
    "        \n",
    "        convex_hull_constraints = [eq_convex_hull, minmax_input_bounds]\n",
    "        # then check if they are also an ORE (entails)\n",
    "        ores = []\n",
    "        for idx,comb in enumerate(combs):\n",
    "            # convert to indices\n",
    "            h = []\n",
    "            for idy, word in enumerate(comb):\n",
    "                w_id = combs_ids[idx][idy]\n",
    "                start = w_id*emb_dims\n",
    "                end = (w_id*emb_dims)+emb_dims\n",
    "                for wi in range(start,end):\n",
    "                    h.append(wi)\n",
    "            network = Marabou.read_tf(filename, modelType='savedModel_v2', savedModelTags=['serving_default'])\n",
    "            res = Entails(h, network, input_, convex_hull_constraints, output_constraints, weights_softmax, window_size, 'knn-linf', verbose)\n",
    "            if len(res) == 0:\n",
    "                ores.append(comb)\n",
    "        \n",
    "        explanations[fw].append(ores)\n",
    "\n",
    "    print(explanations)\n",
    "    all_exps.append(explanations)\n",
    "    np.save(f'ORE_bayesian_exps_ALL_UNCERT/exps_idx{n}.npy',explanations)\n",
    "\n",
    "print(all_exps)"
   ]
  },
  {
   "cell_type": "markdown",
   "id": "6d4dabee",
   "metadata": {},
   "source": [
    "## Results analysis"
   ]
  },
  {
   "cell_type": "code",
   "execution_count": 14,
   "id": "5bfad1de",
   "metadata": {},
   "outputs": [
    {
     "name": "stdout",
     "output_type": "stream",
     "text": [
      "Original input: who couldnt be better as a cruel but weirdly likable wasp matron\n",
      "Class: Positive\n",
      "K-nn k-value: 8\n",
      "\n",
      "For fw+ models:\n",
      "\n",
      "Explanation: who couldnt be better as a cruel but weirdly likable (p = 0.04082)\n",
      "Explanation: who couldnt better a but likable (p = 0.02041)\n",
      "Explanation: who couldnt be better as a cruel but (p = 0.03061)\n",
      "Explanation: who couldnt be better as a cruel likable (p = 0.02041)\n",
      "Explanation: who couldnt be better as a but likable (p = 0.04082)\n",
      "Explanation: who couldnt be better as cruel but likable (p = 0.03061)\n",
      "Explanation: who couldnt be better as but weirdly likable (p = 0.03061)\n",
      "Explanation: who couldnt be better a cruel but weirdly (p = 0.04082)\n",
      "Explanation: who couldnt be better a cruel but likable (p = 0.05102)\n",
      "Explanation: who couldnt be better a cruel weirdly likable (p = 0.02041)\n",
      "Explanation: who couldnt be better a but weirdly likable (p = 0.03061)\n",
      "Explanation: who couldnt be better cruel but weirdly likable (p = 0.01020)\n",
      "Explanation: who couldnt be as a cruel but likable (p = 0.01020)\n",
      "Explanation: who couldnt be as cruel but weirdly likable (p = 0.01020)\n",
      "Explanation: who couldnt be a cruel but weirdly likable (p = 0.01020)\n",
      "Explanation: who couldnt better as a cruel but weirdly (p = 0.02041)\n",
      "Explanation: who couldnt better as a cruel but likable (p = 0.03061)\n",
      "Explanation: who couldnt better as a cruel weirdly likable (p = 0.02041)\n",
      "Explanation: who couldnt better as a but weirdly likable (p = 0.03061)\n",
      "Explanation: who couldnt better as cruel but weirdly likable (p = 0.01020)\n",
      "Explanation: who couldnt better a cruel but weirdly likable (p = 0.05102)\n",
      "Explanation: who couldnt as a cruel but weirdly likable (p = 0.01020)\n",
      "Explanation: who be better as a cruel but likable (p = 0.01020)\n",
      "Explanation: who be better a cruel but weirdly likable (p = 0.01020)\n",
      "Explanation: who better as a cruel but weirdly likable (p = 0.01020)\n",
      "Explanation: couldnt be better as a cruel but likable (p = 0.01020)\n",
      "Explanation: couldnt be better a cruel but weirdly likable (p = 0.02041)\n",
      "Explanation: couldnt better as a cruel but weirdly likable (p = 0.02041)\n",
      "Explanation: who couldnt be better cruel but likable (p = 0.01020)\n",
      "Explanation: who couldnt better as a cruel likable (p = 0.01020)\n",
      "Explanation: who couldnt better as cruel but likable (p = 0.01020)\n",
      "Explanation: who couldnt better a cruel but likable (p = 0.02041)\n",
      "Explanation: who couldnt better a cruel weirdly likable (p = 0.01020)\n",
      "Explanation: who couldnt better a but weirdly likable (p = 0.01020)\n",
      "Explanation: who couldnt better cruel but weirdly likable (p = 0.01020)\n",
      "Explanation: who couldnt a cruel but weirdly likable (p = 0.01020)\n",
      "Explanation: couldnt be better a cruel but likable (p = 0.01020)\n",
      "Explanation: couldnt better as a cruel but likable (p = 0.01020)\n",
      "Explanation: couldnt better a cruel but weirdly likable (p = 0.01020)\n",
      "Explanation: who couldnt better a cruel but (p = 0.01020)\n",
      "Explanation: who couldnt better a cruel likable (p = 0.01020)\n",
      "Explanation: who couldnt better cruel but likable (p = 0.01020)\n",
      "Explanation: who couldnt a cruel but likable (p = 0.01020)\n",
      "Explanation: couldnt better a cruel but likable (p = 0.01020)\n",
      "Explanation: who couldnt be better as a cruel weirdly (p = 0.01020)\n",
      "Explanation: who couldnt be better as a but weirdly (p = 0.01020)\n",
      "Explanation: who couldnt be better as a weirdly likable (p = 0.01020)\n",
      "Explanation: who couldnt be better as cruel but weirdly (p = 0.01020)\n",
      "Explanation: who couldnt be better as cruel weirdly likable (p = 0.01020)\n",
      "Explanation: who couldnt be better as a cruel but weirdly (p = 0.01020)\n",
      "Explanation: who couldnt be better as a cruel but likable (p = 0.01020)\n",
      "Explanation: who couldnt be better as a cruel weirdly likable (p = 0.01020)\n",
      "Explanation: who couldnt be better as a but weirdly likable (p = 0.01020)\n",
      "Explanation: who couldnt be better as cruel but weirdly likable (p = 0.01020)\n",
      "Explanation: who couldnt be better a cruel but weirdly likable (p = 0.01020)\n",
      "Explanation: who couldnt be as a cruel but weirdly likable (p = 0.01020)\n",
      "Explanation: who couldnt better as a cruel but weirdly likable (p = 0.01020)\n",
      "Explanation: who be better as a cruel but weirdly likable (p = 0.01020)\n",
      "Explanation: couldnt be better as a cruel but weirdly likable (p = 0.01020)\n",
      "Explanation: couldnt be better as cruel but weirdly likable (p = 0.01020)\n",
      "Explanation: couldnt be as a cruel but weirdly likable (p = 0.01020)\n",
      "\n",
      "Exp length: 10 (p = 0.04082)\n",
      "Exp length: 6 (p = 0.07143)\n",
      "Exp length: 8 (p = 0.66327)\n",
      "Exp length: 7 (p = 0.12245)\n",
      "Exp length: 9 (p = 0.10204)\n",
      "\n",
      "Word in exp: who (p = 0.878)\n",
      "       H() = 0.5363596511250625\n",
      "Word in exp: couldnt (p = 0.959)\n",
      "       H() = 0.24602257822033174\n",
      "Word in exp: be (p = 0.612)\n",
      "       H() = 0.9633355456726842\n",
      "Word in exp: better (p = 0.918)\n",
      "       H() = 0.4079059801389763\n",
      "Word in exp: as (p = 0.582)\n",
      "       H() = 0.9806857319036602\n",
      "Word in exp: a (p = 0.827)\n",
      "       H() = 0.6655800631467349\n",
      "Word in exp: cruel (p = 0.806)\n",
      "       H() = 0.7095128863456241\n",
      "Word in exp: but (p = 0.867)\n",
      "       H() = 0.564669579752567\n",
      "Word in exp: weirdly (p = 0.612)\n",
      "       H() = 0.9633355456726842\n",
      "Word in exp: likable (p = 0.857)\n",
      "       H() = 0.5916727785823275\n",
      "Word in exp: wasp (p = 0.000)\n",
      "Word in exp: matron (p = 0.000)\n",
      "\n",
      "AEU: 0.6629080340560652\n",
      "MEU: 0.9806857319036602\n",
      "MiEU: 0.24602257822033174\n",
      "\n",
      "Prediction variance: 0.2464\n",
      "\n",
      "For fw- models:\n",
      "\n",
      "Explanation: who couldnt be better as a cruel but (p = 0.02128)\n",
      "Explanation: who couldnt be better as a cruel weirdly (p = 0.01418)\n",
      "Explanation: who couldnt be better as a cruel likable (p = 0.01418)\n",
      "Explanation: who couldnt be better as a but weirdly (p = 0.01418)\n",
      "Explanation: who couldnt be better as a but likable (p = 0.01418)\n",
      "Explanation: who couldnt be better as a weirdly likable (p = 0.00709)\n",
      "Explanation: who couldnt be better as cruel but weirdly (p = 0.00709)\n",
      "Explanation: who couldnt be better as cruel but likable (p = 0.00709)\n",
      "Explanation: who couldnt be better as cruel weirdly likable (p = 0.00709)\n",
      "Explanation: who couldnt be better a cruel but weirdly (p = 0.02128)\n",
      "Explanation: who couldnt be better a cruel but likable (p = 0.02128)\n",
      "Explanation: who couldnt be better a cruel weirdly likable (p = 0.01418)\n",
      "Explanation: who couldnt be better a but weirdly likable (p = 0.01418)\n",
      "Explanation: who couldnt be better cruel but weirdly likable (p = 0.00709)\n",
      "Explanation: who couldnt be as a cruel but likable (p = 0.00709)\n",
      "Explanation: who couldnt be a cruel but weirdly likable (p = 0.00709)\n",
      "Explanation: who couldnt better as a cruel but weirdly (p = 0.02128)\n",
      "Explanation: who couldnt better as a cruel but likable (p = 0.02128)\n",
      "Explanation: who couldnt better as a cruel weirdly likable (p = 0.01418)\n",
      "Explanation: who couldnt better as a but weirdly likable (p = 0.01418)\n",
      "Explanation: who couldnt better as cruel but weirdly likable (p = 0.00709)\n",
      "Explanation: who couldnt better a cruel but weirdly likable (p = 0.02128)\n",
      "Explanation: who couldnt as a cruel but weirdly likable (p = 0.00709)\n",
      "Explanation: who be better as a cruel but likable (p = 0.00709)\n",
      "Explanation: who be better a cruel but weirdly likable (p = 0.00709)\n",
      "Explanation: who better as a cruel but weirdly likable (p = 0.00709)\n",
      "Explanation: couldnt be better as a cruel but weirdly (p = 0.00709)\n",
      "Explanation: couldnt be better as a cruel but likable (p = 0.00709)\n",
      "Explanation: couldnt be better as a cruel weirdly likable (p = 0.00709)\n",
      "Explanation: couldnt be better a cruel but weirdly likable (p = 0.00709)\n",
      "Explanation: couldnt better as a cruel but weirdly likable (p = 0.00709)\n",
      "Explanation: who couldnt be better a cruel (p = 0.01418)\n",
      "Explanation: who couldnt be better a but (p = 0.01418)\n",
      "Explanation: who couldnt better as a cruel (p = 0.01418)\n",
      "Explanation: who couldnt better as a but (p = 0.01418)\n",
      "Explanation: who couldnt better a cruel but (p = 0.02128)\n",
      "Explanation: who couldnt better a cruel weirdly (p = 0.01418)\n",
      "Explanation: who couldnt better a cruel likable (p = 0.02128)\n",
      "Explanation: who couldnt better a but weirdly (p = 0.02128)\n",
      "Explanation: who couldnt better a but likable (p = 0.02128)\n",
      "Explanation: who couldnt better cruel but likable (p = 0.01418)\n",
      "Explanation: who better a cruel but weirdly (p = 0.00709)\n",
      "Explanation: couldnt better a cruel but weirdly (p = 0.00709)\n",
      "Explanation: couldnt better a cruel but likable (p = 0.02128)\n",
      "Explanation: who couldnt be better a cruel but (p = 0.02128)\n",
      "Explanation: who couldnt better as a cruel but (p = 0.02837)\n",
      "Explanation: who couldnt better as a cruel likable (p = 0.02128)\n",
      "Explanation: who couldnt better a cruel but weirdly (p = 0.02128)\n",
      "Explanation: who couldnt better a cruel but likable (p = 0.02837)\n",
      "Explanation: who couldnt be better as a cruel but weirdly (p = 0.00709)\n",
      "Explanation: who couldnt be better as a cruel but likable (p = 0.00709)\n",
      "Explanation: who couldnt be better as a cruel weirdly likable (p = 0.00709)\n",
      "Explanation: who couldnt be better as a but weirdly likable (p = 0.00709)\n",
      "Explanation: who couldnt be better as cruel but weirdly likable (p = 0.00709)\n",
      "Explanation: who couldnt be better a cruel but weirdly likable (p = 0.00709)\n",
      "Explanation: who couldnt better as a cruel but weirdly likable (p = 0.00709)\n",
      "Explanation: who be better as a cruel but weirdly likable (p = 0.00709)\n",
      "Explanation: couldnt be better as a cruel but weirdly likable (p = 0.00709)\n",
      "Explanation: who couldnt better a cruel weirdly likable (p = 0.01418)\n",
      "Explanation: who couldnt be better a but weirdly (p = 0.01418)\n",
      "Explanation: who couldnt better a but weirdly likable (p = 0.00709)\n",
      "Explanation: who couldnt be better as a cruel (p = 0.00709)\n",
      "Explanation: who couldnt be better as a but (p = 0.00709)\n",
      "Explanation: who couldnt be better as a weirdly (p = 0.00709)\n",
      "Explanation: who couldnt be better as a likable (p = 0.00709)\n",
      "Explanation: who couldnt be better as cruel but (p = 0.00709)\n",
      "Explanation: who couldnt be better as cruel weirdly (p = 0.00709)\n",
      "Explanation: who couldnt be better as cruel likable (p = 0.00709)\n",
      "Explanation: who couldnt be better as but weirdly (p = 0.00709)\n",
      "Explanation: who couldnt be better as but likable (p = 0.00709)\n",
      "Explanation: who couldnt be better a cruel weirdly (p = 0.00709)\n",
      "Explanation: who couldnt be better a cruel likable (p = 0.00709)\n",
      "Explanation: who couldnt be better a but likable (p = 0.00709)\n",
      "Explanation: who couldnt be better a weirdly likable (p = 0.00709)\n",
      "Explanation: who couldnt be better cruel but weirdly (p = 0.00709)\n",
      "Explanation: who couldnt be better cruel but likable (p = 0.00709)\n",
      "Explanation: who couldnt be better cruel weirdly likable (p = 0.00709)\n",
      "Explanation: who couldnt be better but weirdly likable (p = 0.00709)\n",
      "Explanation: who couldnt be a cruel but likable (p = 0.00709)\n",
      "Explanation: who couldnt better as a cruel weirdly (p = 0.00709)\n",
      "Explanation: who couldnt better as a but weirdly (p = 0.00709)\n",
      "Explanation: who couldnt better as a but likable (p = 0.00709)\n",
      "Explanation: who couldnt better as a weirdly likable (p = 0.00709)\n",
      "Explanation: who couldnt better as cruel but weirdly (p = 0.00709)\n",
      "Explanation: who couldnt better as cruel but likable (p = 0.00709)\n",
      "Explanation: who couldnt better as cruel weirdly likable (p = 0.00709)\n",
      "Explanation: couldnt be better a cruel but likable (p = 0.00709)\n",
      "Explanation: couldnt better as a cruel but likable (p = 0.00709)\n",
      "Explanation: couldnt better a cruel but weirdly likable (p = 0.00709)\n",
      "Explanation: who couldnt be better as a cruel but weirdly likable (p = 0.01418)\n",
      "\n",
      "Exp length: 8 (p = 0.36170)\n",
      "Exp length: 6 (p = 0.20567)\n",
      "Exp length: 7 (p = 0.35461)\n",
      "Exp length: 9 (p = 0.06383)\n",
      "Exp length: 10 (p = 0.01418)\n",
      "\n",
      "Word in exp: who (p = 0.908)\n",
      "       H() = 0.4437661301588348\n",
      "Word in exp: couldnt (p = 0.965)\n",
      "       H() = 0.22107910499111316\n",
      "Word in exp: be (p = 0.511)\n",
      "       H() = 0.9996734260048918\n",
      "Word in exp: better (p = 0.972)\n",
      "       H() = 0.18614429306835292\n",
      "Word in exp: as (p = 0.511)\n",
      "       H() = 0.9996734260048918\n",
      "Word in exp: a (p = 0.858)\n",
      "       H() = 0.5890477097890546\n",
      "Word in exp: cruel (p = 0.759)\n",
      "       H() = 0.7969222449701818\n",
      "Word in exp: but (p = 0.730)\n",
      "       H() = 0.84075135374115\n",
      "Word in exp: weirdly (p = 0.518)\n",
      "       H() = 0.999092728262167\n",
      "Word in exp: likable (p = 0.596)\n",
      "       H() = 0.9733854352299557\n",
      "Word in exp: wasp (p = 0.000)\n",
      "Word in exp: matron (p = 0.000)\n",
      "\n",
      "AEU: 0.7049535852220593\n",
      "MEU: 0.9996734260048918\n",
      "MiEU: 0.18614429306835292\n",
      "\n"
     ]
    },
    {
     "name": "stdout",
     "output_type": "stream",
     "text": [
      "Prediction variance: 0.24\n",
      "\n",
      "\n",
      "----------------------\n",
      "\n",
      "Original input: there are things to like about murder by numbers\n",
      "Class: Positive\n",
      "K-nn k-value: 6\n",
      "\n",
      "For fw+ models:\n",
      "\n",
      "\n",
      "\n",
      "Word in exp: there (p = 0.000)\n",
      "Word in exp: are (p = 0.000)\n",
      "Word in exp: things (p = 0.000)\n",
      "Word in exp: to (p = 0.000)\n",
      "Word in exp: like (p = 0.000)\n",
      "Word in exp: about (p = 0.000)\n",
      "Word in exp: murder (p = 0.000)\n",
      "Word in exp: by (p = 0.000)\n",
      "Word in exp: numbers (p = 0.000)\n",
      "\n",
      "AEU: nan\n"
     ]
    },
    {
     "ename": "ValueError",
     "evalue": "zero-size array to reduction operation maximum which has no identity",
     "output_type": "error",
     "traceback": [
      "\u001b[0;31m---------------------------------------------------------------------------\u001b[0m",
      "\u001b[0;31mValueError\u001b[0m                                Traceback (most recent call last)",
      "\u001b[0;32m<ipython-input-14-d6da58be882a>\u001b[0m in \u001b[0;36m<module>\u001b[0;34m\u001b[0m\n\u001b[1;32m     60\u001b[0m         \u001b[0mprint\u001b[0m\u001b[0;34m(\u001b[0m\u001b[0;34m)\u001b[0m\u001b[0;34m\u001b[0m\u001b[0;34m\u001b[0m\u001b[0m\n\u001b[1;32m     61\u001b[0m         \u001b[0mprint\u001b[0m\u001b[0;34m(\u001b[0m\u001b[0;34m'AEU:'\u001b[0m\u001b[0;34m,\u001b[0m\u001b[0mnp\u001b[0m\u001b[0;34m.\u001b[0m\u001b[0mmean\u001b[0m\u001b[0;34m(\u001b[0m\u001b[0mentropy\u001b[0m\u001b[0;34m)\u001b[0m\u001b[0;34m)\u001b[0m\u001b[0;34m\u001b[0m\u001b[0;34m\u001b[0m\u001b[0m\n\u001b[0;32m---> 62\u001b[0;31m         \u001b[0mprint\u001b[0m\u001b[0;34m(\u001b[0m\u001b[0;34m'MEU:'\u001b[0m\u001b[0;34m,\u001b[0m\u001b[0mnp\u001b[0m\u001b[0;34m.\u001b[0m\u001b[0mmax\u001b[0m\u001b[0;34m(\u001b[0m\u001b[0mentropy\u001b[0m\u001b[0;34m)\u001b[0m\u001b[0;34m)\u001b[0m\u001b[0;34m\u001b[0m\u001b[0;34m\u001b[0m\u001b[0m\n\u001b[0m\u001b[1;32m     63\u001b[0m         \u001b[0mprint\u001b[0m\u001b[0;34m(\u001b[0m\u001b[0;34m'MiEU:'\u001b[0m\u001b[0;34m,\u001b[0m\u001b[0mnp\u001b[0m\u001b[0;34m.\u001b[0m\u001b[0mmin\u001b[0m\u001b[0;34m(\u001b[0m\u001b[0mentropy\u001b[0m\u001b[0;34m)\u001b[0m\u001b[0;34m)\u001b[0m\u001b[0;34m\u001b[0m\u001b[0;34m\u001b[0m\u001b[0m\n\u001b[1;32m     64\u001b[0m         \u001b[0mprint\u001b[0m\u001b[0;34m(\u001b[0m\u001b[0;34m)\u001b[0m\u001b[0;34m\u001b[0m\u001b[0;34m\u001b[0m\u001b[0m\n",
      "\u001b[0;32m<__array_function__ internals>\u001b[0m in \u001b[0;36mamax\u001b[0;34m(*args, **kwargs)\u001b[0m\n",
      "\u001b[0;32m~/.local/lib/python3.6/site-packages/numpy/core/fromnumeric.py\u001b[0m in \u001b[0;36mamax\u001b[0;34m(a, axis, out, keepdims, initial, where)\u001b[0m\n\u001b[1;32m   2666\u001b[0m     \"\"\"\n\u001b[1;32m   2667\u001b[0m     return _wrapreduction(a, np.maximum, 'max', axis, None, out,\n\u001b[0;32m-> 2668\u001b[0;31m                           keepdims=keepdims, initial=initial, where=where)\n\u001b[0m\u001b[1;32m   2669\u001b[0m \u001b[0;34m\u001b[0m\u001b[0m\n\u001b[1;32m   2670\u001b[0m \u001b[0;34m\u001b[0m\u001b[0m\n",
      "\u001b[0;32m~/.local/lib/python3.6/site-packages/numpy/core/fromnumeric.py\u001b[0m in \u001b[0;36m_wrapreduction\u001b[0;34m(obj, ufunc, method, axis, dtype, out, **kwargs)\u001b[0m\n\u001b[1;32m     88\u001b[0m                 \u001b[0;32mreturn\u001b[0m \u001b[0mreduction\u001b[0m\u001b[0;34m(\u001b[0m\u001b[0maxis\u001b[0m\u001b[0;34m=\u001b[0m\u001b[0maxis\u001b[0m\u001b[0;34m,\u001b[0m \u001b[0mout\u001b[0m\u001b[0;34m=\u001b[0m\u001b[0mout\u001b[0m\u001b[0;34m,\u001b[0m \u001b[0;34m**\u001b[0m\u001b[0mpasskwargs\u001b[0m\u001b[0;34m)\u001b[0m\u001b[0;34m\u001b[0m\u001b[0;34m\u001b[0m\u001b[0m\n\u001b[1;32m     89\u001b[0m \u001b[0;34m\u001b[0m\u001b[0m\n\u001b[0;32m---> 90\u001b[0;31m     \u001b[0;32mreturn\u001b[0m \u001b[0mufunc\u001b[0m\u001b[0;34m.\u001b[0m\u001b[0mreduce\u001b[0m\u001b[0;34m(\u001b[0m\u001b[0mobj\u001b[0m\u001b[0;34m,\u001b[0m \u001b[0maxis\u001b[0m\u001b[0;34m,\u001b[0m \u001b[0mdtype\u001b[0m\u001b[0;34m,\u001b[0m \u001b[0mout\u001b[0m\u001b[0;34m,\u001b[0m \u001b[0;34m**\u001b[0m\u001b[0mpasskwargs\u001b[0m\u001b[0;34m)\u001b[0m\u001b[0;34m\u001b[0m\u001b[0;34m\u001b[0m\u001b[0m\n\u001b[0m\u001b[1;32m     91\u001b[0m \u001b[0;34m\u001b[0m\u001b[0m\n\u001b[1;32m     92\u001b[0m \u001b[0;34m\u001b[0m\u001b[0m\n",
      "\u001b[0;31mValueError\u001b[0m: zero-size array to reduction operation maximum which has no identity"
     ]
    }
   ],
   "source": [
    "ns = [113807,104326]\n",
    "knns = [8,6]\n",
    "\n",
    "for idx,n in enumerate(ns):\n",
    "    explanations = ast.literal_eval(str(np.load(f'ORE_bayesian_exps_ALL_UNCERT/exps_idx{n}.npy',allow_pickle=True)))\n",
    "    sentence = text_train[n]\n",
    "    original_class = 'Positive' if y_train[n] == 1 else 'Negative'\n",
    "    print('Original input:',' '.join(sentence))\n",
    "    print('Class:',original_class)\n",
    "    print('K-nn k-value:',knns[idx])\n",
    "    print()\n",
    "    fw = ['fw+','fw-']\n",
    "    for f in fw:\n",
    "        print('For',f,'models:')\n",
    "        print()\n",
    "        ex_flat = [item for sublist in explanations[f] for item in sublist]\n",
    "\n",
    "        exp_count_map = dict()\n",
    "        len_count_map = dict()\n",
    "        word_count_map = dict()\n",
    "        word_tot = 0\n",
    "        exp_tot = len(ex_flat)\n",
    "        for e in ex_flat:\n",
    "            if not str(e) in exp_count_map.keys():\n",
    "                exp_count_map[str(e)] = 0\n",
    "            if not len(e) in len_count_map.keys():\n",
    "                len_count_map[len(e)] = 0\n",
    "            exp_count_map[str(e)] += 1\n",
    "            len_count_map[len(e)] += 1\n",
    "            for wo in e:\n",
    "                if not wo in word_count_map.keys():\n",
    "                    word_count_map[wo] = 0\n",
    "                word_count_map[wo] += 1\n",
    "                word_tot = 1\n",
    "\n",
    "        for exp_key in exp_count_map.keys():\n",
    "            e = ast.literal_eval(exp_key)\n",
    "            if len(e) == 0:\n",
    "                print('Explanation:','[]',f'(p = {exp_count_map[exp_key]/exp_tot:.5f})')\n",
    "            else:\n",
    "                print('Explanation:',' '.join(e),f'(p = {exp_count_map[exp_key]/exp_tot:.5f})')\n",
    "        print()\n",
    "        \n",
    "        for len_key in len_count_map.keys():\n",
    "            print('Exp length:',len_key,f'(p = {len_count_map[len_key]/exp_tot:.5f})')\n",
    "        print()\n",
    "        \n",
    "        word_tot = len(ex_flat)\n",
    "        entropy = []\n",
    "        for wo in text_train[n]:\n",
    "            if wo in word_count_map.keys():\n",
    "                q = word_count_map[wo]/word_tot\n",
    "                H = (-q*math.log(q,2))-((1-q)*math.log(1-q,2))\n",
    "                print('Word in exp:',wo,f'(p = {q:.3f})')\n",
    "                print('       H() =',H)\n",
    "                entropy.append(H)\n",
    "            else:\n",
    "                q = 0\n",
    "                print('Word in exp:',wo,f'(p = 0.000)')\n",
    "        print()\n",
    "        print('AEU:',np.mean(entropy))\n",
    "        print('MEU:',np.max(entropy))\n",
    "        print('MiEU:',np.min(entropy))\n",
    "        print()\n",
    "        X_tmp = X_train[n].reshape(1,*X_train[n].shape)\n",
    "        ys_tmp = []\n",
    "        for ij in range(50):\n",
    "            bayes_model.model.set_weights(bayes_model.sample())\n",
    "            ys_tmp.append(bayes_model.model(X_tmp))\n",
    "        ys_tmp = np.argmax(np.array(ys_tmp),axis=2).flatten()\n",
    "        print('Prediction variance:',np.var(ys_tmp))\n",
    "        print()\n",
    "        \n",
    "    print()\n",
    "    print('----------------------')\n",
    "    print()"
   ]
  },
  {
   "cell_type": "code",
   "execution_count": 19,
   "id": "5c1fdced",
   "metadata": {},
   "outputs": [
    {
     "name": "stdout",
     "output_type": "stream",
     "text": [
      "Original input: who couldnt be better as a cruel but weirdly likable\n",
      "Class: Positive\n",
      "K-nn k-value: 8\n",
      "\n",
      "For fw+ models:\n",
      "Explanation: who couldnt be better as a cruel but weirdly likable (p = 0.04082)\n",
      "Explanation: who couldnt better a but likable (p = 0.02041)\n",
      "Explanation: who couldnt be better as a cruel but (p = 0.03061)\n",
      "Explanation: who couldnt be better as a cruel likable (p = 0.02041)\n",
      "Explanation: who couldnt be better as a but likable (p = 0.04082)\n",
      "Explanation: who couldnt be better as cruel but likable (p = 0.03061)\n",
      "Explanation: who couldnt be better as but weirdly likable (p = 0.03061)\n",
      "Explanation: who couldnt be better a cruel but weirdly (p = 0.04082)\n",
      "Explanation: who couldnt be better a cruel but likable (p = 0.05102)\n",
      "Explanation: who couldnt be better a cruel weirdly likable (p = 0.02041)\n",
      "Explanation: who couldnt be better a but weirdly likable (p = 0.03061)\n",
      "Explanation: who couldnt be better cruel but weirdly likable (p = 0.01020)\n",
      "Explanation: who couldnt be as a cruel but likable (p = 0.01020)\n",
      "Explanation: who couldnt be as cruel but weirdly likable (p = 0.01020)\n",
      "Explanation: who couldnt be a cruel but weirdly likable (p = 0.01020)\n",
      "Explanation: who couldnt better as a cruel but weirdly (p = 0.02041)\n",
      "Explanation: who couldnt better as a cruel but likable (p = 0.03061)\n",
      "Explanation: who couldnt better as a cruel weirdly likable (p = 0.02041)\n",
      "Explanation: who couldnt better as a but weirdly likable (p = 0.03061)\n",
      "Explanation: who couldnt better as cruel but weirdly likable (p = 0.01020)\n",
      "Explanation: who couldnt better a cruel but weirdly likable (p = 0.05102)\n",
      "Explanation: who couldnt as a cruel but weirdly likable (p = 0.01020)\n",
      "Explanation: who be better as a cruel but likable (p = 0.01020)\n",
      "Explanation: who be better a cruel but weirdly likable (p = 0.01020)\n",
      "Explanation: who better as a cruel but weirdly likable (p = 0.01020)\n",
      "Explanation: couldnt be better as a cruel but likable (p = 0.01020)\n",
      "Explanation: couldnt be better a cruel but weirdly likable (p = 0.02041)\n",
      "Explanation: couldnt better as a cruel but weirdly likable (p = 0.02041)\n",
      "Explanation: who couldnt be better cruel but likable (p = 0.01020)\n",
      "Explanation: who couldnt better as a cruel likable (p = 0.01020)\n",
      "Explanation: who couldnt better as cruel but likable (p = 0.01020)\n",
      "Explanation: who couldnt better a cruel but likable (p = 0.02041)\n",
      "Explanation: who couldnt better a cruel weirdly likable (p = 0.01020)\n",
      "Explanation: who couldnt better a but weirdly likable (p = 0.01020)\n",
      "Explanation: who couldnt better cruel but weirdly likable (p = 0.01020)\n",
      "Explanation: who couldnt a cruel but weirdly likable (p = 0.01020)\n",
      "Explanation: couldnt be better a cruel but likable (p = 0.01020)\n",
      "Explanation: couldnt better as a cruel but likable (p = 0.01020)\n",
      "Explanation: couldnt better a cruel but weirdly likable (p = 0.01020)\n",
      "Explanation: who couldnt better a cruel but (p = 0.01020)\n",
      "Explanation: who couldnt better a cruel likable (p = 0.01020)\n",
      "Explanation: who couldnt better cruel but likable (p = 0.01020)\n",
      "Explanation: who couldnt a cruel but likable (p = 0.01020)\n",
      "Explanation: couldnt better a cruel but likable (p = 0.01020)\n",
      "Explanation: who couldnt be better as a cruel weirdly (p = 0.01020)\n",
      "Explanation: who couldnt be better as a but weirdly (p = 0.01020)\n",
      "Explanation: who couldnt be better as a weirdly likable (p = 0.01020)\n",
      "Explanation: who couldnt be better as cruel but weirdly (p = 0.01020)\n",
      "Explanation: who couldnt be better as cruel weirdly likable (p = 0.01020)\n",
      "Explanation: who couldnt be better as a cruel but weirdly (p = 0.01020)\n",
      "Explanation: who couldnt be better as a cruel but likable (p = 0.01020)\n",
      "Explanation: who couldnt be better as a cruel weirdly likable (p = 0.01020)\n",
      "Explanation: who couldnt be better as a but weirdly likable (p = 0.01020)\n",
      "Explanation: who couldnt be better as cruel but weirdly likable (p = 0.01020)\n",
      "Explanation: who couldnt be better a cruel but weirdly likable (p = 0.01020)\n",
      "Explanation: who couldnt be as a cruel but weirdly likable (p = 0.01020)\n",
      "Explanation: who couldnt better as a cruel but weirdly likable (p = 0.01020)\n",
      "Explanation: who be better as a cruel but weirdly likable (p = 0.01020)\n",
      "Explanation: couldnt be better as a cruel but weirdly likable (p = 0.01020)\n",
      "Explanation: couldnt be better as cruel but weirdly likable (p = 0.01020)\n",
      "Explanation: couldnt be as a cruel but weirdly likable (p = 0.01020)\n",
      "\n",
      "Exp length: 10 (p = 0.04082)\n",
      "Exp length: 6 (p = 0.07143)\n",
      "Exp length: 8 (p = 0.66327)\n",
      "Exp length: 7 (p = 0.12245)\n",
      "Exp length: 9 (p = 0.10204)\n",
      "\n",
      "Word in exp: who (p = 0.878)\n",
      "       H() = 0.5363596511250625\n",
      "Word in exp: couldnt (p = 0.959)\n",
      "       H() = 0.24602257822033174\n",
      "Word in exp: be (p = 0.612)\n",
      "       H() = 0.9633355456726842\n",
      "Word in exp: better (p = 0.918)\n",
      "       H() = 0.4079059801389763\n",
      "Word in exp: as (p = 0.582)\n",
      "       H() = 0.9806857319036602\n",
      "Word in exp: a (p = 0.827)\n",
      "       H() = 0.6655800631467349\n",
      "Word in exp: cruel (p = 0.806)\n",
      "       H() = 0.7095128863456241\n",
      "Word in exp: but (p = 0.867)\n",
      "       H() = 0.564669579752567\n",
      "Word in exp: weirdly (p = 0.612)\n",
      "       H() = 0.9633355456726842\n",
      "Word in exp: likable (p = 0.857)\n",
      "       H() = 0.5916727785823275\n",
      "\n",
      "AEU: 0.6629080340560652\n",
      "MEU: 0.9806857319036602\n",
      "MiEU: 0.24602257822033174\n",
      "CEU: 6.629080340560653\n",
      "\n",
      "Prediction variance: 0.24959999999999996\n",
      "\n",
      "For fw- models:\n",
      "Explanation: who couldnt be better as a cruel but (p = 0.02128)\n",
      "Explanation: who couldnt be better as a cruel weirdly (p = 0.01418)\n",
      "Explanation: who couldnt be better as a cruel likable (p = 0.01418)\n",
      "Explanation: who couldnt be better as a but weirdly (p = 0.01418)\n",
      "Explanation: who couldnt be better as a but likable (p = 0.01418)\n",
      "Explanation: who couldnt be better as a weirdly likable (p = 0.00709)\n",
      "Explanation: who couldnt be better as cruel but weirdly (p = 0.00709)\n",
      "Explanation: who couldnt be better as cruel but likable (p = 0.00709)\n",
      "Explanation: who couldnt be better as cruel weirdly likable (p = 0.00709)\n",
      "Explanation: who couldnt be better a cruel but weirdly (p = 0.02128)\n",
      "Explanation: who couldnt be better a cruel but likable (p = 0.02128)\n",
      "Explanation: who couldnt be better a cruel weirdly likable (p = 0.01418)\n",
      "Explanation: who couldnt be better a but weirdly likable (p = 0.01418)\n",
      "Explanation: who couldnt be better cruel but weirdly likable (p = 0.00709)\n",
      "Explanation: who couldnt be as a cruel but likable (p = 0.00709)\n",
      "Explanation: who couldnt be a cruel but weirdly likable (p = 0.00709)\n",
      "Explanation: who couldnt better as a cruel but weirdly (p = 0.02128)\n",
      "Explanation: who couldnt better as a cruel but likable (p = 0.02128)\n",
      "Explanation: who couldnt better as a cruel weirdly likable (p = 0.01418)\n",
      "Explanation: who couldnt better as a but weirdly likable (p = 0.01418)\n",
      "Explanation: who couldnt better as cruel but weirdly likable (p = 0.00709)\n",
      "Explanation: who couldnt better a cruel but weirdly likable (p = 0.02128)\n",
      "Explanation: who couldnt as a cruel but weirdly likable (p = 0.00709)\n",
      "Explanation: who be better as a cruel but likable (p = 0.00709)\n",
      "Explanation: who be better a cruel but weirdly likable (p = 0.00709)\n",
      "Explanation: who better as a cruel but weirdly likable (p = 0.00709)\n",
      "Explanation: couldnt be better as a cruel but weirdly (p = 0.00709)\n",
      "Explanation: couldnt be better as a cruel but likable (p = 0.00709)\n",
      "Explanation: couldnt be better as a cruel weirdly likable (p = 0.00709)\n",
      "Explanation: couldnt be better a cruel but weirdly likable (p = 0.00709)\n",
      "Explanation: couldnt better as a cruel but weirdly likable (p = 0.00709)\n",
      "Explanation: who couldnt be better a cruel (p = 0.01418)\n",
      "Explanation: who couldnt be better a but (p = 0.01418)\n",
      "Explanation: who couldnt better as a cruel (p = 0.01418)\n",
      "Explanation: who couldnt better as a but (p = 0.01418)\n",
      "Explanation: who couldnt better a cruel but (p = 0.02128)\n",
      "Explanation: who couldnt better a cruel weirdly (p = 0.01418)\n",
      "Explanation: who couldnt better a cruel likable (p = 0.02128)\n",
      "Explanation: who couldnt better a but weirdly (p = 0.02128)\n",
      "Explanation: who couldnt better a but likable (p = 0.02128)\n",
      "Explanation: who couldnt better cruel but likable (p = 0.01418)\n",
      "Explanation: who better a cruel but weirdly (p = 0.00709)\n",
      "Explanation: couldnt better a cruel but weirdly (p = 0.00709)\n",
      "Explanation: couldnt better a cruel but likable (p = 0.02128)\n",
      "Explanation: who couldnt be better a cruel but (p = 0.02128)\n",
      "Explanation: who couldnt better as a cruel but (p = 0.02837)\n",
      "Explanation: who couldnt better as a cruel likable (p = 0.02128)\n",
      "Explanation: who couldnt better a cruel but weirdly (p = 0.02128)\n",
      "Explanation: who couldnt better a cruel but likable (p = 0.02837)\n",
      "Explanation: who couldnt be better as a cruel but weirdly (p = 0.00709)\n",
      "Explanation: who couldnt be better as a cruel but likable (p = 0.00709)\n",
      "Explanation: who couldnt be better as a cruel weirdly likable (p = 0.00709)\n",
      "Explanation: who couldnt be better as a but weirdly likable (p = 0.00709)\n",
      "Explanation: who couldnt be better as cruel but weirdly likable (p = 0.00709)\n",
      "Explanation: who couldnt be better a cruel but weirdly likable (p = 0.00709)\n",
      "Explanation: who couldnt better as a cruel but weirdly likable (p = 0.00709)\n",
      "Explanation: who be better as a cruel but weirdly likable (p = 0.00709)\n",
      "Explanation: couldnt be better as a cruel but weirdly likable (p = 0.00709)\n",
      "Explanation: who couldnt better a cruel weirdly likable (p = 0.01418)\n",
      "Explanation: who couldnt be better a but weirdly (p = 0.01418)\n",
      "Explanation: who couldnt better a but weirdly likable (p = 0.00709)\n",
      "Explanation: who couldnt be better as a cruel (p = 0.00709)\n",
      "Explanation: who couldnt be better as a but (p = 0.00709)\n",
      "Explanation: who couldnt be better as a weirdly (p = 0.00709)\n",
      "Explanation: who couldnt be better as a likable (p = 0.00709)\n",
      "Explanation: who couldnt be better as cruel but (p = 0.00709)\n",
      "Explanation: who couldnt be better as cruel weirdly (p = 0.00709)\n",
      "Explanation: who couldnt be better as cruel likable (p = 0.00709)\n",
      "Explanation: who couldnt be better as but weirdly (p = 0.00709)\n",
      "Explanation: who couldnt be better as but likable (p = 0.00709)\n",
      "Explanation: who couldnt be better a cruel weirdly (p = 0.00709)\n",
      "Explanation: who couldnt be better a cruel likable (p = 0.00709)\n",
      "Explanation: who couldnt be better a but likable (p = 0.00709)\n",
      "Explanation: who couldnt be better a weirdly likable (p = 0.00709)\n",
      "Explanation: who couldnt be better cruel but weirdly (p = 0.00709)\n",
      "Explanation: who couldnt be better cruel but likable (p = 0.00709)\n",
      "Explanation: who couldnt be better cruel weirdly likable (p = 0.00709)\n",
      "Explanation: who couldnt be better but weirdly likable (p = 0.00709)\n",
      "Explanation: who couldnt be a cruel but likable (p = 0.00709)\n",
      "Explanation: who couldnt better as a cruel weirdly (p = 0.00709)\n",
      "Explanation: who couldnt better as a but weirdly (p = 0.00709)\n",
      "Explanation: who couldnt better as a but likable (p = 0.00709)\n",
      "Explanation: who couldnt better as a weirdly likable (p = 0.00709)\n",
      "Explanation: who couldnt better as cruel but weirdly (p = 0.00709)\n",
      "Explanation: who couldnt better as cruel but likable (p = 0.00709)\n",
      "Explanation: who couldnt better as cruel weirdly likable (p = 0.00709)\n",
      "Explanation: couldnt be better a cruel but likable (p = 0.00709)\n",
      "Explanation: couldnt better as a cruel but likable (p = 0.00709)\n",
      "Explanation: couldnt better a cruel but weirdly likable (p = 0.00709)\n",
      "Explanation: who couldnt be better as a cruel but weirdly likable (p = 0.01418)\n",
      "\n",
      "Exp length: 8 (p = 0.36170)\n",
      "Exp length: 6 (p = 0.20567)\n",
      "Exp length: 7 (p = 0.35461)\n",
      "Exp length: 9 (p = 0.06383)\n",
      "Exp length: 10 (p = 0.01418)\n",
      "\n",
      "Word in exp: who (p = 0.908)\n",
      "       H() = 0.4437661301588348\n",
      "Word in exp: couldnt (p = 0.965)\n",
      "       H() = 0.22107910499111316\n",
      "Word in exp: be (p = 0.511)\n",
      "       H() = 0.9996734260048918\n",
      "Word in exp: better (p = 0.972)\n",
      "       H() = 0.18614429306835292\n",
      "Word in exp: as (p = 0.511)\n",
      "       H() = 0.9996734260048918\n",
      "Word in exp: a (p = 0.858)\n",
      "       H() = 0.5890477097890546\n",
      "Word in exp: cruel (p = 0.759)\n",
      "       H() = 0.7969222449701818\n",
      "Word in exp: but (p = 0.730)\n",
      "       H() = 0.84075135374115\n",
      "Word in exp: weirdly (p = 0.518)\n",
      "       H() = 0.999092728262167\n",
      "Word in exp: likable (p = 0.596)\n",
      "       H() = 0.9733854352299557\n",
      "\n",
      "AEU: 0.7049535852220593\n",
      "MEU: 0.9996734260048918\n",
      "MiEU: 0.18614429306835292\n",
      "CEU: 7.049535852220594\n",
      "\n"
     ]
    },
    {
     "name": "stdout",
     "output_type": "stream",
     "text": [
      "Prediction variance: 0.2244\n",
      "\n",
      "\n",
      "----------------------\n",
      "\n",
      "Original input: there are things to like about murder by numbers\n",
      "Class: Positive\n",
      "K-nn k-value: 6\n",
      "\n",
      "For fw+ models:\n",
      "\n",
      "----------------------\n",
      "\n",
      "Original input: ive never seen or heard anything quite like this film\n",
      "Class: Positive\n",
      "K-nn k-value: 6\n",
      "\n",
      "For fw+ models:\n",
      "\n",
      "----------------------\n",
      "\n"
     ]
    }
   ],
   "source": [
    "ns = [113807,27919,16750]\n",
    "knns = [8,6,6]\n",
    "\n",
    "\n",
    "for idx,n in enumerate(ns):\n",
    "    explanations = ast.literal_eval(str(np.load(f'ORE_bayesian_exps_ALL_UNCERT/exps_idx{n}.npy',allow_pickle=True)))\n",
    "    sentence = text_train[n][:10]\n",
    "    original_class = 'Positive' if y_train[n] == 1 else 'Negative'\n",
    "    print('Original input:',' '.join(sentence))\n",
    "    print('Class:',original_class)\n",
    "    print('K-nn k-value:',knns[idx])\n",
    "    print()\n",
    "    fw = ['fw+','fw-']\n",
    "    for f in fw:\n",
    "        print('For',f,'models:')\n",
    "        #print()\n",
    "        #print(explanations[f])\n",
    "        #print()\n",
    "        ex_flat = [item for sublist in explanations[f] for item in sublist]\n",
    "        if len(ex_flat) == 0:\n",
    "            break\n",
    "\n",
    "        exp_count_map = dict()\n",
    "        len_count_map = dict()\n",
    "        word_count_map = dict()\n",
    "        word_tot = 0\n",
    "        exp_tot = len(ex_flat)\n",
    "        for e in ex_flat:\n",
    "            if not str(e) in exp_count_map.keys():\n",
    "                exp_count_map[str(e)] = 0\n",
    "            if not len(e) in len_count_map.keys():\n",
    "                len_count_map[len(e)] = 0\n",
    "            exp_count_map[str(e)] += 1\n",
    "            len_count_map[len(e)] += 1\n",
    "            for wo in e:\n",
    "                if not wo in word_count_map.keys():\n",
    "                    word_count_map[wo] = 0\n",
    "                word_count_map[wo] += 1\n",
    "                word_tot = 1\n",
    "\n",
    "        for exp_key in exp_count_map.keys():\n",
    "            e = ast.literal_eval(exp_key)\n",
    "            if len(e) == 0:\n",
    "                print('Explanation:','[]',f'(p = {exp_count_map[exp_key]/exp_tot:.5f})')\n",
    "            else:\n",
    "                print('Explanation:',' '.join(e),f'(p = {exp_count_map[exp_key]/exp_tot:.5f})')\n",
    "        print()\n",
    "        \n",
    "        for len_key in len_count_map.keys():\n",
    "            print('Exp length:',len_key,f'(p = {len_count_map[len_key]/exp_tot:.5f})')\n",
    "        print()\n",
    "        \n",
    "   \n",
    "        word_tot = len(ex_flat)\n",
    "        entropy = []\n",
    "        for wo in text_train[n][:10]:\n",
    "            if wo in word_count_map.keys():\n",
    "                q = word_count_map[wo]/word_tot\n",
    "            else:\n",
    "                q = 0\n",
    "            if q == 1 or q == 0:\n",
    "                H = 0\n",
    "            else:\n",
    "                H = (-q*math.log(q,2))-((1-q)*math.log(1-q,2))\n",
    "            print('Word in exp:',wo,f'(p = {q:.3f})')\n",
    "            print('       H() =',H)\n",
    "            entropy.append(H)\n",
    "\n",
    "\n",
    "        print()\n",
    "        print('AEU:',np.mean(entropy))\n",
    "        print('MEU:',np.max(entropy))\n",
    "        print('MiEU:',np.min(entropy))\n",
    "        print('CEU:',sum(entropy))\n",
    "        print()\n",
    "        X_tmp = X_train[n].reshape(1,*X_train[n].shape)\n",
    "        ys_tmp = []\n",
    "        for ij in range(50):\n",
    "            bayes_model.model.set_weights(bayes_model.sample())\n",
    "            ys_tmp.append(bayes_model.model(X_tmp))\n",
    "        #print(ys_tmp)\n",
    "        ys_tmp = np.argmax(np.array(ys_tmp),axis=2).flatten()\n",
    "        print('Prediction variance:',np.var(ys_tmp))\n",
    "        print()\n",
    "\n",
    "        \n",
    "    print()\n",
    "    print('----------------------')\n",
    "    print()"
   ]
  }
 ],
 "metadata": {
  "kernelspec": {
   "display_name": "Python 3",
   "language": "python",
   "name": "python3"
  },
  "language_info": {
   "codemirror_mode": {
    "name": "ipython",
    "version": 3
   },
   "file_extension": ".py",
   "mimetype": "text/x-python",
   "name": "python",
   "nbconvert_exporter": "python",
   "pygments_lexer": "ipython3",
   "version": "3.6.9"
  }
 },
 "nbformat": 4,
 "nbformat_minor": 5
}
