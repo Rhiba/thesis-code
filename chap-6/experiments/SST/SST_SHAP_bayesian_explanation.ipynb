{
 "cells": [
  {
   "cell_type": "code",
   "execution_count": 36,
   "id": "6616c0a3",
   "metadata": {},
   "outputs": [],
   "source": [
    "import sys\n",
    "sys.path.append('../shap')\n",
    "import shap\n",
    "\n",
    "import os\n",
    "sys.path.append('../..')\n",
    "sys.path.append('../../utils/')\n",
    "import numpy as np\n",
    "import deepbayesHF\n",
    "import deepbayesHF.optimizers as optimizers\n",
    "from deepbayesHF import PosteriorModel\n",
    "from deepbayesHF.analyzers import FGSM\n",
    "from deepbayesHF.analyzers import eps_LRP\n",
    "import tensorflow as tf\n",
    "from tensorflow.keras.models import *\n",
    "from tensorflow.keras.layers import *\n",
    "import cv2\n",
    "import random\n",
    "import matplotlib.pyplot as plt\n",
    "from collections import namedtuple\n",
    "\n",
    "from joblib import Parallel, delayed\n",
    "import subprocess\n",
    "from statistics import mode\n",
    "import json\n",
    "import tensorflow as tf\n",
    "import imageio\n",
    "\n",
    "from load_data import load_data\n",
    "import scipy"
   ]
  },
  {
   "cell_type": "code",
   "execution_count": 27,
   "id": "0228609e",
   "metadata": {},
   "outputs": [],
   "source": [
    "def print_exp(exp,text,ax=None):   \n",
    "    xs = []\n",
    "    ys = []\n",
    "    for i in range(int(len(exp)/5)):\n",
    "        total = np.sum(exp[(i*5):(i*5)+5])\n",
    "        txt = text[i] if i < len(text) else '<PAD>'\n",
    "        xs.append(txt)\n",
    "        ys.append(total)\n",
    "        \n",
    "    objects = xs[::-1]\n",
    "    y_pos = np.arange(len(objects))\n",
    "    performance = ys[::-1]\n",
    "\n",
    "    if ax == None:\n",
    "        plt.barh(y_pos, performance, align='center', alpha=0.5)\n",
    "        plt.yticks(y_pos, objects)\n",
    "        plt.xlabel('Weight')\n",
    "        plt.title('Word')\n",
    "\n",
    "        plt.show()\n",
    "    else:\n",
    "        ax.barh(y_pos, performance, align='center', alpha=0.5)\n",
    "        ax.set_yticks(y_pos)\n",
    "        ax.set_yticklabels(objects)\n",
    "        ax.set_xlabel('Weight')\n",
    "        ax.set_title('Word')"
   ]
  },
  {
   "cell_type": "code",
   "execution_count": 3,
   "id": "335a4438",
   "metadata": {},
   "outputs": [],
   "source": [
    "maxlen = 10\n",
    "emb_dims = 5\n",
    "X_train, y_train, X_test, y_test, text_train, text_test = load_data('SST',maxlen,emb_dims,'../../training_data/','../../embeddings/',True)"
   ]
  },
  {
   "cell_type": "code",
   "execution_count": 4,
   "id": "c05f6790",
   "metadata": {},
   "outputs": [
    {
     "name": "stdout",
     "output_type": "stream",
     "text": [
      "This optimizer does not have a default compilation method. Please make sure to call the correct .compile method before use.\n",
      "deepbayes: Using implicit prior\n",
      "(50, 32) 0.2\n",
      "(32, 16) 0.25\n",
      "(16, 8) 0.3535533905932738\n",
      "(8, 2) 0.5\n",
      "deepbayes: Using implicit prior\n",
      "(50, 32) 0.2\n",
      "(32, 16) 0.25\n",
      "(16, 8) 0.3535533905932738\n",
      "(8, 2) 0.5\n"
     ]
    },
    {
     "name": "stderr",
     "output_type": "stream",
     "text": [
      "100%|██████████| 1832/1832 [00:17<00:00, 102.61it/s]\n",
      "  0%|          | 9/1832 [00:00<00:21, 84.60it/s]"
     ]
    },
    {
     "name": "stdout",
     "output_type": "stream",
     "text": [
      "Epoch 1, loss: 0.549, acc: 0.691, val_loss: 1.042, val_acc: 0.742\n"
     ]
    },
    {
     "name": "stderr",
     "output_type": "stream",
     "text": [
      "100%|██████████| 1832/1832 [00:18<00:00, 99.22it/s] \n",
      "  0%|          | 9/1832 [00:00<00:21, 86.79it/s]"
     ]
    },
    {
     "name": "stdout",
     "output_type": "stream",
     "text": [
      "Epoch 2, loss: 0.397, acc: 0.836, val_loss: 0.671, val_acc: 0.744\n"
     ]
    },
    {
     "name": "stderr",
     "output_type": "stream",
     "text": [
      "100%|██████████| 1832/1832 [00:18<00:00, 99.71it/s] \n",
      "  1%|          | 10/1832 [00:00<00:19, 92.88it/s]"
     ]
    },
    {
     "name": "stdout",
     "output_type": "stream",
     "text": [
      "Epoch 3, loss: 0.336, acc: 0.862, val_loss: 0.521, val_acc: 0.788\n"
     ]
    },
    {
     "name": "stderr",
     "output_type": "stream",
     "text": [
      "100%|██████████| 1832/1832 [00:19<00:00, 92.88it/s] \n",
      "  0%|          | 9/1832 [00:00<00:20, 88.81it/s]"
     ]
    },
    {
     "name": "stdout",
     "output_type": "stream",
     "text": [
      "Epoch 4, loss: 0.318, acc: 0.870, val_loss: 0.545, val_acc: 0.786\n"
     ]
    },
    {
     "name": "stderr",
     "output_type": "stream",
     "text": [
      "100%|██████████| 1832/1832 [00:17<00:00, 103.45it/s]\n",
      "  0%|          | 9/1832 [00:00<00:20, 88.98it/s]"
     ]
    },
    {
     "name": "stdout",
     "output_type": "stream",
     "text": [
      "Epoch 5, loss: 0.302, acc: 0.876, val_loss: 0.527, val_acc: 0.793\n"
     ]
    },
    {
     "name": "stderr",
     "output_type": "stream",
     "text": [
      "100%|██████████| 1832/1832 [00:17<00:00, 103.98it/s]\n",
      "  1%|          | 10/1832 [00:00<00:19, 92.63it/s]"
     ]
    },
    {
     "name": "stdout",
     "output_type": "stream",
     "text": [
      "Epoch 6, loss: 0.306, acc: 0.873, val_loss: 0.488, val_acc: 0.798\n"
     ]
    },
    {
     "name": "stderr",
     "output_type": "stream",
     "text": [
      "100%|██████████| 1832/1832 [00:17<00:00, 106.45it/s]\n",
      "  1%|          | 10/1832 [00:00<00:18, 98.12it/s]"
     ]
    },
    {
     "name": "stdout",
     "output_type": "stream",
     "text": [
      "Epoch 7, loss: 0.307, acc: 0.870, val_loss: 0.541, val_acc: 0.786\n"
     ]
    },
    {
     "name": "stderr",
     "output_type": "stream",
     "text": [
      "100%|██████████| 1832/1832 [00:18<00:00, 97.42it/s] \n",
      "  1%|          | 10/1832 [00:00<00:19, 93.40it/s]"
     ]
    },
    {
     "name": "stdout",
     "output_type": "stream",
     "text": [
      "Epoch 8, loss: 0.296, acc: 0.877, val_loss: 0.517, val_acc: 0.791\n"
     ]
    },
    {
     "name": "stderr",
     "output_type": "stream",
     "text": [
      "100%|██████████| 1832/1832 [00:17<00:00, 103.64it/s]\n",
      "  0%|          | 9/1832 [00:00<00:20, 89.88it/s]"
     ]
    },
    {
     "name": "stdout",
     "output_type": "stream",
     "text": [
      "Epoch 9, loss: 0.298, acc: 0.877, val_loss: 0.538, val_acc: 0.786\n"
     ]
    },
    {
     "name": "stderr",
     "output_type": "stream",
     "text": [
      "100%|██████████| 1832/1832 [00:17<00:00, 104.12it/s]\n",
      "  1%|          | 10/1832 [00:00<00:19, 95.77it/s]"
     ]
    },
    {
     "name": "stdout",
     "output_type": "stream",
     "text": [
      "Epoch 10, loss: 0.294, acc: 0.878, val_loss: 0.529, val_acc: 0.786\n"
     ]
    },
    {
     "name": "stderr",
     "output_type": "stream",
     "text": [
      "100%|██████████| 1832/1832 [00:17<00:00, 105.26it/s]\n",
      "  1%|          | 10/1832 [00:00<00:19, 94.68it/s]"
     ]
    },
    {
     "name": "stdout",
     "output_type": "stream",
     "text": [
      "Epoch 11, loss: 0.296, acc: 0.877, val_loss: 0.520, val_acc: 0.788\n"
     ]
    },
    {
     "name": "stderr",
     "output_type": "stream",
     "text": [
      "100%|██████████| 1832/1832 [00:16<00:00, 108.41it/s]\n",
      "  1%|          | 10/1832 [00:00<00:19, 92.10it/s]"
     ]
    },
    {
     "name": "stdout",
     "output_type": "stream",
     "text": [
      "Epoch 12, loss: 0.294, acc: 0.876, val_loss: 0.520, val_acc: 0.786\n"
     ]
    },
    {
     "name": "stderr",
     "output_type": "stream",
     "text": [
      "100%|██████████| 1832/1832 [00:18<00:00, 101.21it/s]\n",
      "  0%|          | 9/1832 [00:00<00:20, 89.44it/s]"
     ]
    },
    {
     "name": "stdout",
     "output_type": "stream",
     "text": [
      "Epoch 13, loss: 0.295, acc: 0.875, val_loss: 0.484, val_acc: 0.796\n"
     ]
    },
    {
     "name": "stderr",
     "output_type": "stream",
     "text": [
      "100%|██████████| 1832/1832 [00:17<00:00, 103.31it/s]\n",
      "  1%|          | 10/1832 [00:00<00:19, 93.39it/s]"
     ]
    },
    {
     "name": "stdout",
     "output_type": "stream",
     "text": [
      "Epoch 14, loss: 0.301, acc: 0.876, val_loss: 0.456, val_acc: 0.809\n"
     ]
    },
    {
     "name": "stderr",
     "output_type": "stream",
     "text": [
      "100%|██████████| 1832/1832 [00:17<00:00, 104.16it/s]\n",
      "  1%|          | 10/1832 [00:00<00:19, 92.09it/s]"
     ]
    },
    {
     "name": "stdout",
     "output_type": "stream",
     "text": [
      "Epoch 15, loss: 0.309, acc: 0.871, val_loss: 0.445, val_acc: 0.801\n"
     ]
    },
    {
     "name": "stderr",
     "output_type": "stream",
     "text": [
      "100%|██████████| 1832/1832 [00:17<00:00, 107.34it/s]\n",
      "  1%|          | 11/1832 [00:00<00:17, 101.54it/s]"
     ]
    },
    {
     "name": "stdout",
     "output_type": "stream",
     "text": [
      "Epoch 16, loss: 0.305, acc: 0.873, val_loss: 0.452, val_acc: 0.808\n"
     ]
    },
    {
     "name": "stderr",
     "output_type": "stream",
     "text": [
      "100%|██████████| 1832/1832 [00:18<00:00, 100.68it/s]\n",
      "  0%|          | 9/1832 [00:00<00:20, 89.63it/s]"
     ]
    },
    {
     "name": "stdout",
     "output_type": "stream",
     "text": [
      "Epoch 17, loss: 0.296, acc: 0.877, val_loss: 0.473, val_acc: 0.799\n"
     ]
    },
    {
     "name": "stderr",
     "output_type": "stream",
     "text": [
      "100%|██████████| 1832/1832 [00:17<00:00, 103.77it/s]\n",
      "  1%|          | 10/1832 [00:00<00:19, 93.60it/s]"
     ]
    },
    {
     "name": "stdout",
     "output_type": "stream",
     "text": [
      "Epoch 18, loss: 0.291, acc: 0.880, val_loss: 0.461, val_acc: 0.799\n"
     ]
    },
    {
     "name": "stderr",
     "output_type": "stream",
     "text": [
      "100%|██████████| 1832/1832 [00:17<00:00, 104.20it/s]\n",
      "  1%|          | 10/1832 [00:00<00:19, 93.04it/s]"
     ]
    },
    {
     "name": "stdout",
     "output_type": "stream",
     "text": [
      "Epoch 19, loss: 0.289, acc: 0.879, val_loss: 0.459, val_acc: 0.804\n"
     ]
    },
    {
     "name": "stderr",
     "output_type": "stream",
     "text": [
      "100%|██████████| 1832/1832 [00:17<00:00, 107.40it/s]\n",
      "  1%|          | 10/1832 [00:00<00:18, 98.26it/s]"
     ]
    },
    {
     "name": "stdout",
     "output_type": "stream",
     "text": [
      "Epoch 20, loss: 0.291, acc: 0.879, val_loss: 0.460, val_acc: 0.802\n"
     ]
    },
    {
     "name": "stderr",
     "output_type": "stream",
     "text": [
      "100%|██████████| 1832/1832 [00:18<00:00, 100.76it/s]\n",
      "  1%|          | 10/1832 [00:00<00:19, 93.37it/s]"
     ]
    },
    {
     "name": "stdout",
     "output_type": "stream",
     "text": [
      "Epoch 21, loss: 0.288, acc: 0.880, val_loss: 0.470, val_acc: 0.801\n"
     ]
    },
    {
     "name": "stderr",
     "output_type": "stream",
     "text": [
      "100%|██████████| 1832/1832 [00:17<00:00, 103.44it/s]\n",
      "  0%|          | 9/1832 [00:00<00:20, 89.10it/s]"
     ]
    },
    {
     "name": "stdout",
     "output_type": "stream",
     "text": [
      "Epoch 22, loss: 0.286, acc: 0.881, val_loss: 0.469, val_acc: 0.800\n"
     ]
    },
    {
     "name": "stderr",
     "output_type": "stream",
     "text": [
      "100%|██████████| 1832/1832 [00:17<00:00, 103.80it/s]\n",
      "  1%|          | 10/1832 [00:00<00:19, 94.80it/s]"
     ]
    },
    {
     "name": "stdout",
     "output_type": "stream",
     "text": [
      "Epoch 23, loss: 0.285, acc: 0.881, val_loss: 0.466, val_acc: 0.802\n"
     ]
    },
    {
     "name": "stderr",
     "output_type": "stream",
     "text": [
      "100%|██████████| 1832/1832 [00:20<00:00, 89.33it/s]\n",
      "  0%|          | 8/1832 [00:00<00:24, 73.37it/s]"
     ]
    },
    {
     "name": "stdout",
     "output_type": "stream",
     "text": [
      "Epoch 24, loss: 0.285, acc: 0.881, val_loss: 0.465, val_acc: 0.802\n"
     ]
    },
    {
     "name": "stderr",
     "output_type": "stream",
     "text": [
      "100%|██████████| 1832/1832 [00:18<00:00, 97.23it/s] \n",
      "  1%|          | 10/1832 [00:00<00:19, 93.84it/s]"
     ]
    },
    {
     "name": "stdout",
     "output_type": "stream",
     "text": [
      "Epoch 25, loss: 0.285, acc: 0.881, val_loss: 0.468, val_acc: 0.801\n"
     ]
    },
    {
     "name": "stderr",
     "output_type": "stream",
     "text": [
      "100%|██████████| 1832/1832 [00:17<00:00, 103.59it/s]"
     ]
    },
    {
     "name": "stdout",
     "output_type": "stream",
     "text": [
      "Epoch 26, loss: 0.284, acc: 0.881, val_loss: 0.468, val_acc: 0.802\n",
      "('batch_size', 64)\n",
      "('learning_rate', 0.25)\n",
      "('decay', 0.0)\n",
      "('epochs', 26)\n",
      "('inflate_prior', 2.0)\n",
      "('input_noise', 0.0)\n",
      "('robust_train', 0)\n",
      "('epsilon', 0.1)\n",
      "('robust_lambda', 0.5)\n",
      "('loss_monte_carlo', 2)\n",
      "('input_upper', inf)\n",
      "('input_lower', -inf)\n",
      "('beta_1', 0.999)\n",
      "('beta_2', 0.9999)\n",
      "('lam', 1.0)\n",
      "('N', 117219)\n",
      "('max_eps', 0.1)\n",
      "('max_robust_lambda', 0.5)\n"
     ]
    },
    {
     "name": "stderr",
     "output_type": "stream",
     "text": [
      "\n"
     ]
    }
   ],
   "source": [
    "model_name = f'SST_SHAP'\n",
    "\n",
    "opt = optimizers.VariationalOnlineGuassNewton()\n",
    "likelihood = tf.keras.losses.SparseCategoricalCrossentropy()\n",
    "model = Sequential()\n",
    "model.add(Dense(32,activation='relu',input_shape=X_train[0].shape))\n",
    "model.add(Dense(16,activation='relu'))\n",
    "model.add(Dense(8,activation='relu'))\n",
    "model.add(Dense(2,activation='softmax'))\n",
    "\n",
    "bayes_model = opt.compile(model,loss_fn=likelihood,\n",
    "                          epochs=25, learning_rate=0.25,\n",
    "                          inflate_prior=2.0, log_file='tmp/log.txt')\n",
    "bayes_model.train(X_train,y_train,X_test,y_test)\n",
    "bayes_model.save(model_name)"
   ]
  },
  {
   "cell_type": "code",
   "execution_count": 5,
   "id": "1d006ab0",
   "metadata": {},
   "outputs": [
    {
     "name": "stdout",
     "output_type": "stream",
     "text": [
      "WARNING:tensorflow:No training configuration found in the save file, so the model was *not* compiled. Compile it manually.\n",
      "Model: \"sequential\"\n",
      "_________________________________________________________________\n",
      "Layer (type)                 Output Shape              Param #   \n",
      "=================================================================\n",
      "dense (Dense)                (None, 32)                1632      \n",
      "_________________________________________________________________\n",
      "dense_1 (Dense)              (None, 16)                528       \n",
      "_________________________________________________________________\n",
      "dense_2 (Dense)              (None, 8)                 136       \n",
      "_________________________________________________________________\n",
      "dense_3 (Dense)              (None, 2)                 18        \n",
      "=================================================================\n",
      "Total params: 2,314\n",
      "Trainable params: 2,314\n",
      "Non-trainable params: 0\n",
      "_________________________________________________________________\n",
      "deepbayes: detected the above model \n",
      " None\n",
      "\n",
      "Loaded model accuracy: 80.00%\n"
     ]
    }
   ],
   "source": [
    "model_name = f'SST_SHAP'\n",
    "bayes_model = PosteriorModel(model_name)\n",
    "y_pred = bayes_model.predict(X_test[:50],n=50)\n",
    "check_accuracy = tf.keras.metrics.Accuracy(name=\"train_acc\")\n",
    "check_accuracy(y_test[:50],np.argmax(y_pred,axis=1))\n",
    "print()\n",
    "print('Loaded model accuracy:',f'{check_accuracy.result().numpy()*100:.2f}%')"
   ]
  },
  {
   "cell_type": "code",
   "execution_count": 11,
   "id": "d04ec837",
   "metadata": {},
   "outputs": [
    {
     "name": "stdout",
     "output_type": "stream",
     "text": [
      "105576\n",
      "(50,)\n",
      "['think', 'its', 'a', 'tougher', 'picture', 'than', 'it', 'is']\n",
      "Prediction: Negative. Ground truth: Negative.\n"
     ]
    }
   ],
   "source": [
    "N = 50\n",
    "n = 0\n",
    "while True:\n",
    "    n = np.random.choice(list(range(len(X_train))))\n",
    "    if y_train[n] == 0:\n",
    "        break\n",
    "\n",
    "\n",
    "print(n)\n",
    "        \n",
    "print(X_train[n].shape)\n",
    "X = X_train[n].reshape(1,*X_train[n].shape)\n",
    "y_hat = np.argmax(bayes_model.predict(X,n=N))\n",
    "y_class = 'Positive.' if y_hat == 1 else 'Negative.'\n",
    "y_true_text = 'Positive.' if y_train[n] == 1 else 'Negative.'\n",
    "print(text_train[n])\n",
    "print('Prediction:',y_class,'Ground truth:',y_true_text)\n",
    "input_shape = X.flatten().shape"
   ]
  },
  {
   "cell_type": "code",
   "execution_count": 62,
   "id": "6de76d71",
   "metadata": {
    "scrolled": true
   },
   "outputs": [],
   "source": [
    "#background = X_train[np.random.choice(X_train.shape[0],100,replace=False)]\n",
    "#bayes_model.set_weights(bayes_model.sample())\n",
    "#model = bayes_model.model\n",
    "#e = shap.DeepExplainer(model,background)\n",
    "#shap_values = e.shap_values(X)"
   ]
  },
  {
   "cell_type": "code",
   "execution_count": 63,
   "id": "0bffd3e6",
   "metadata": {},
   "outputs": [],
   "source": [
    "#print(X.shape)\n",
    "#print(shap_values[0].shape)\n",
    "#shap.image_plot(shap_values,-X)"
   ]
  },
  {
   "cell_type": "code",
   "execution_count": 12,
   "id": "2fd65e08",
   "metadata": {},
   "outputs": [],
   "source": [
    "background = X_train[np.random.choice(X_train.shape[0],200,replace=False)]\n",
    "\n",
    "if not os.path.exists(f'exps/exp{n}'):\n",
    "    os.mkdir(f'exps/exp{n}')\n",
    "    \n",
    "input_path = f'exps/exp{n}/X.npy'\n",
    "background_path = f'exps/exp{n}/bg.npy'\n",
    "y_path = f'exps/exp{n}/y.npy'\n",
    "np.save(y_path,y_hat,False)\n",
    "np.save(input_path,X,False)\n",
    "np.save(background_path,background,False)\n",
    "\n",
    "iterations = 10\n",
    "for i in range(iterations):\n",
    "    subprocess.Popen(['python3','get_SHAP_exp.py',str(i),model_name,input_path,f'exps/exp{n}',background_path])\n",
    "        \n",
    "full = False \n",
    "while not full:\n",
    "    if len([name for name in os.listdir(f'exps/exp{n}') if os.path.isfile(os.path.join(f'exps/exp{n}', name))]) == iterations+2:\n",
    "        full = True\n",
    "        "
   ]
  },
  {
   "cell_type": "markdown",
   "id": "c930f73e",
   "metadata": {},
   "source": [
    "## Display All Explanations From Sampled BNNs"
   ]
  },
  {
   "cell_type": "code",
   "execution_count": 34,
   "id": "5b44631d",
   "metadata": {
    "scrolled": false
   },
   "outputs": [
    {
     "name": "stdout",
     "output_type": "stream",
     "text": [
      "Input: ['think', 'its', 'a', 'tougher', 'picture', 'than', 'it', 'is']\n",
      "Class: 0\n",
      "Experiment #0\n"
     ]
    },
    {
     "data": {
      "image/png": "[encoded data removed]",
      "text/plain": [
       "<Figure size 864x216 with 2 Axes>"
      ]
     },
     "metadata": {
      "needs_background": "light"
     },
     "output_type": "display_data"
    },
    {
     "name": "stdout",
     "output_type": "stream",
     "text": [
      "Experiment #1\n"
     ]
    },
    {
     "data": {
      "image/png": "[encoded data removed]",
      "text/plain": [
       "<Figure size 864x216 with 2 Axes>"
      ]
     },
     "metadata": {
      "needs_background": "light"
     },
     "output_type": "display_data"
    },
    {
     "name": "stdout",
     "output_type": "stream",
     "text": [
      "Experiment #2\n"
     ]
    },
    {
     "data": {
      "image/png": "[encoded data removed]",
      "text/plain": [
       "<Figure size 864x216 with 2 Axes>"
      ]
     },
     "metadata": {
      "needs_background": "light"
     },
     "output_type": "display_data"
    },
    {
     "name": "stdout",
     "output_type": "stream",
     "text": [
      "Experiment #3\n"
     ]
    },
    {
     "data": {
      "image/png": "[encoded data removed]",
      "text/plain": [
       "<Figure size 864x216 with 2 Axes>"
      ]
     },
     "metadata": {
      "needs_background": "light"
     },
     "output_type": "display_data"
    },
    {
     "name": "stdout",
     "output_type": "stream",
     "text": [
      "Experiment #4\n"
     ]
    },
    {
     "data": {
      "image/png": "[encoded data removed]",
      "text/plain": [
       "<Figure size 864x216 with 2 Axes>"
      ]
     },
     "metadata": {
      "needs_background": "light"
     },
     "output_type": "display_data"
    },
    {
     "name": "stdout",
     "output_type": "stream",
     "text": [
      "Experiment #5\n"
     ]
    },
    {
     "data": {
      "image/png": "[encoded data removed]",
      "text/plain": [
       "<Figure size 864x216 with 2 Axes>"
      ]
     },
     "metadata": {
      "needs_background": "light"
     },
     "output_type": "display_data"
    },
    {
     "name": "stdout",
     "output_type": "stream",
     "text": [
      "Experiment #6\n"
     ]
    },
    {
     "data": {
      "image/png": "[encoded data removed]",
      "text/plain": [
       "<Figure size 864x216 with 2 Axes>"
      ]
     },
     "metadata": {
      "needs_background": "light"
     },
     "output_type": "display_data"
    },
    {
     "name": "stdout",
     "output_type": "stream",
     "text": [
      "Experiment #7\n"
     ]
    },
    {
     "data": {
      "image/png": "[encoded data removed]",
      "text/plain": [
       "<Figure size 864x216 with 2 Axes>"
      ]
     },
     "metadata": {
      "needs_background": "light"
     },
     "output_type": "display_data"
    },
    {
     "name": "stdout",
     "output_type": "stream",
     "text": [
      "Experiment #8\n"
     ]
    },
    {
     "data": {
      "image/png": "[encoded data removed]",
      "text/plain": [
       "<Figure size 864x216 with 2 Axes>"
      ]
     },
     "metadata": {
      "needs_background": "light"
     },
     "output_type": "display_data"
    },
    {
     "name": "stdout",
     "output_type": "stream",
     "text": [
      "Experiment #9\n"
     ]
    },
    {
     "data": {
      "image/png": "[encoded data removed]",
      "text/plain": [
       "<Figure size 864x216 with 2 Axes>"
      ]
     },
     "metadata": {
      "needs_background": "light"
     },
     "output_type": "display_data"
    },
    {
     "name": "stdout",
     "output_type": "stream",
     "text": [
      "\n",
      "------------------------------------------------------------------\n",
      "\n"
     ]
    }
   ],
   "source": [
    "idxs = [105576]\n",
    "# 1 positive 0 negative\n",
    "y_trues = [0]\n",
    "\n",
    "for ii in range(len(idxs)):\n",
    "    idx = idxs[ii]\n",
    "    y_true = y_trues[ii]\n",
    "\n",
    "    input_path = 'X_tmp.npy'\n",
    "    output_path = f'exps/exp{idx}'\n",
    "    y_path = 'y_tmp.npy'\n",
    "\n",
    "\n",
    "    exps = []\n",
    "    for f in os.listdir(output_path):\n",
    "        if os.path.isfile(os.path.join(output_path,f)) and not f.startswith('X') and not f.startswith('y') and not f.startswith('bg'):\n",
    "            tmp = np.load(os.path.join(output_path,f))\n",
    "            exps.append(tmp)\n",
    "\n",
    "    sentence = text_train[idx]\n",
    "    print('Input:',sentence)\n",
    "    print('Class:',y_true)\n",
    "    for jj,exs in enumerate(exps):\n",
    "        print('Experiment #'+str(jj))\n",
    "        fig, axs = plt.subplots(1,2)\n",
    "        fig.set_size_inches(12,3)\n",
    "        for i in range(2):\n",
    "            ex = exs[i].reshape(50)\n",
    "            print_exp(ex,text_train[idx],axs[i])\n",
    "        plt.show()\n",
    "            \n",
    "    print()\n",
    "    print('------------------------------------------------------------------')\n",
    "    print()"
   ]
  },
  {
   "cell_type": "code",
   "execution_count": 51,
   "id": "97b4dc23",
   "metadata": {},
   "outputs": [
    {
     "name": "stdout",
     "output_type": "stream",
     "text": [
      "104275\n",
      "[1, 0, 0, 0, 0, 1, 0, 0, 1, 0, 0, 0, 0, 0, 1, 1, 0, 0, 1, 1, 1, 0, 0, 1, 1, 0, 1, 0, 0, 0, 1, 0, 1, 1, 0, 0, 1, 1, 1, 1, 0, 0, 0, 1, 0, 1, 0, 0, 1, 1]\n",
      "['the', 'story', 'relevant', 'in', 'the', 'first', 'place']\n",
      "Prediction: Negative. Ground truth: Positive.\n"
     ]
    }
   ],
   "source": [
    "N = 50\n",
    "\n",
    "while True:\n",
    "    # pick a random input\n",
    "    n = np.random.choice(list(range(len(X_train))))\n",
    "    X = X_train[n].reshape(1,*X_train[n].shape)\n",
    "    ys = []\n",
    "    for i in range(N):\n",
    "        bayes_model.model.set_weights(bayes_model.sample())\n",
    "        ys.append(bayes_model.model(X))\n",
    "    ys = np.argmax(np.array(ys),axis=2).flatten()\n",
    "    md = scipy.stats.mode(ys)[0]\n",
    "    y_hat = md[0]\n",
    "    y_class = 'Positive.' if y_hat == 1 else 'Negative.'\n",
    "    y_true_text = 'Positive.' if y_train[n] == 1 else 'Negative.'\n",
    "    input_shape = X.flatten().shape\n",
    "    ys = list(ys)\n",
    "    if ys.count(md) < int(len(ys)*0.75):\n",
    "        break\n",
    "    \n",
    "print(n)\n",
    "print(ys)\n",
    "print(text_train[n])\n",
    "print('Prediction:',y_class,'Ground truth:',y_true_text)"
   ]
  },
  {
   "cell_type": "code",
   "execution_count": 52,
   "id": "5560fcef",
   "metadata": {},
   "outputs": [],
   "source": [
    "background = X_train[np.random.choice(X_train.shape[0],200,replace=False)]\n",
    "\n",
    "if not os.path.exists(f'exps/exp{n}'):\n",
    "    os.mkdir(f'exps/exp{n}')\n",
    "    \n",
    "input_path = f'exps/exp{n}/X.npy'\n",
    "background_path = f'exps/exp{n}/bg.npy'\n",
    "y_path = f'exps/exp{n}/y.npy'\n",
    "np.save(y_path,y_hat,False)\n",
    "np.save(input_path,X,False)\n",
    "np.save(background_path,background,False)\n",
    "\n",
    "iterations = 10\n",
    "for i in range(iterations):\n",
    "    subprocess.Popen(['python3','get_SHAP_exp.py',str(i),model_name,input_path,f'exps/exp{n}',background_path])\n",
    "        \n",
    "full = False \n",
    "while not full:\n",
    "    if len([name for name in os.listdir(f'exps/exp{n}') if os.path.isfile(os.path.join(f'exps/exp{n}', name))]) == iterations+2:\n",
    "        full = True"
   ]
  },
  {
   "cell_type": "code",
   "execution_count": 53,
   "id": "af68d4a4",
   "metadata": {
    "scrolled": false
   },
   "outputs": [
    {
     "name": "stdout",
     "output_type": "stream",
     "text": [
      "Input: ['the', 'story', 'relevant', 'in', 'the', 'first', 'place']\n",
      "Class: 0\n",
      "Experiment #0\n"
     ]
    },
    {
     "data": {
      "image/png": "[encoded data removed]",
      "text/plain": [
       "<Figure size 864x216 with 2 Axes>"
      ]
     },
     "metadata": {
      "needs_background": "light"
     },
     "output_type": "display_data"
    },
    {
     "name": "stdout",
     "output_type": "stream",
     "text": [
      "Experiment #1\n"
     ]
    },
    {
     "data": {
      "image/png": "[encoded data removed]",
      "text/plain": [
       "<Figure size 864x216 with 2 Axes>"
      ]
     },
     "metadata": {
      "needs_background": "light"
     },
     "output_type": "display_data"
    },
    {
     "name": "stdout",
     "output_type": "stream",
     "text": [
      "Experiment #2\n"
     ]
    },
    {
     "data": {
      "image/png": "[encoded data removed]",
      "text/plain": [
       "<Figure size 864x216 with 2 Axes>"
      ]
     },
     "metadata": {
      "needs_background": "light"
     },
     "output_type": "display_data"
    },
    {
     "name": "stdout",
     "output_type": "stream",
     "text": [
      "Experiment #3\n"
     ]
    },
    {
     "data": {
      "image/png": "[encoded data removed]",
      "text/plain": [
       "<Figure size 864x216 with 2 Axes>"
      ]
     },
     "metadata": {
      "needs_background": "light"
     },
     "output_type": "display_data"
    },
    {
     "name": "stdout",
     "output_type": "stream",
     "text": [
      "Experiment #4\n"
     ]
    },
    {
     "data": {
      "image/png": "[encoded data removed]",
      "text/plain": [
       "<Figure size 864x216 with 2 Axes>"
      ]
     },
     "metadata": {
      "needs_background": "light"
     },
     "output_type": "display_data"
    },
    {
     "name": "stdout",
     "output_type": "stream",
     "text": [
      "Experiment #5\n"
     ]
    },
    {
     "data": {
      "image/png": "[encoded data removed]",
      "text/plain": [
       "<Figure size 864x216 with 2 Axes>"
      ]
     },
     "metadata": {
      "needs_background": "light"
     },
     "output_type": "display_data"
    },
    {
     "name": "stdout",
     "output_type": "stream",
     "text": [
      "Experiment #6\n"
     ]
    },
    {
     "data": {
      "image/png": "[encoded data removed]",
      "text/plain": [
       "<Figure size 864x216 with 2 Axes>"
      ]
     },
     "metadata": {
      "needs_background": "light"
     },
     "output_type": "display_data"
    },
    {
     "name": "stdout",
     "output_type": "stream",
     "text": [
      "Experiment #7\n"
     ]
    },
    {
     "data": {
      "image/png": "[encoded data removed]",
      "text/plain": [
       "<Figure size 864x216 with 2 Axes>"
      ]
     },
     "metadata": {
      "needs_background": "light"
     },
     "output_type": "display_data"
    },
    {
     "name": "stdout",
     "output_type": "stream",
     "text": [
      "Experiment #8\n"
     ]
    },
    {
     "data": {
      "image/png": "[encoded data removed]",
      "text/plain": [
       "<Figure size 864x216 with 2 Axes>"
      ]
     },
     "metadata": {
      "needs_background": "light"
     },
     "output_type": "display_data"
    },
    {
     "name": "stdout",
     "output_type": "stream",
     "text": [
      "Experiment #9\n"
     ]
    },
    {
     "data": {
      "image/png": "[encoded data removed]",
      "text/plain": [
       "<Figure size 864x216 with 2 Axes>"
      ]
     },
     "metadata": {
      "needs_background": "light"
     },
     "output_type": "display_data"
    },
    {
     "name": "stdout",
     "output_type": "stream",
     "text": [
      "\n",
      "------------------------------------------------------------------\n",
      "\n"
     ]
    },
    {
     "ename": "IndexError",
     "evalue": "list index out of range",
     "output_type": "error",
     "traceback": [
      "\u001b[0;31m---------------------------------------------------------------------------\u001b[0m",
      "\u001b[0;31mIndexError\u001b[0m                                Traceback (most recent call last)",
      "\u001b[0;32m<ipython-input-53-b9b10aec68bb>\u001b[0m in \u001b[0;36m<module>\u001b[0;34m\u001b[0m\n\u001b[1;32m      5\u001b[0m \u001b[0;32mfor\u001b[0m \u001b[0mii\u001b[0m \u001b[0;32min\u001b[0m \u001b[0mrange\u001b[0m\u001b[0;34m(\u001b[0m\u001b[0mlen\u001b[0m\u001b[0;34m(\u001b[0m\u001b[0midxs\u001b[0m\u001b[0;34m)\u001b[0m\u001b[0;34m)\u001b[0m\u001b[0;34m:\u001b[0m\u001b[0;34m\u001b[0m\u001b[0;34m\u001b[0m\u001b[0m\n\u001b[1;32m      6\u001b[0m     \u001b[0midx\u001b[0m \u001b[0;34m=\u001b[0m \u001b[0midxs\u001b[0m\u001b[0;34m[\u001b[0m\u001b[0mii\u001b[0m\u001b[0;34m]\u001b[0m\u001b[0;34m\u001b[0m\u001b[0;34m\u001b[0m\u001b[0m\n\u001b[0;32m----> 7\u001b[0;31m     \u001b[0my_true\u001b[0m \u001b[0;34m=\u001b[0m \u001b[0my_trues\u001b[0m\u001b[0;34m[\u001b[0m\u001b[0mii\u001b[0m\u001b[0;34m]\u001b[0m\u001b[0;34m\u001b[0m\u001b[0;34m\u001b[0m\u001b[0m\n\u001b[0m\u001b[1;32m      8\u001b[0m \u001b[0;34m\u001b[0m\u001b[0m\n\u001b[1;32m      9\u001b[0m     \u001b[0minput_path\u001b[0m \u001b[0;34m=\u001b[0m \u001b[0;34m'X_tmp.npy'\u001b[0m\u001b[0;34m\u001b[0m\u001b[0;34m\u001b[0m\u001b[0m\n",
      "\u001b[0;31mIndexError\u001b[0m: list index out of range"
     ]
    }
   ],
   "source": [
    "idxs = [104275,101110]\n",
    "# 1 positive 0 negative\n",
    "y_trues = [0]\n",
    "\n",
    "for ii in range(len(idxs)):\n",
    "    idx = idxs[ii]\n",
    "    y_true = y_trues[ii]\n",
    "\n",
    "    input_path = 'X_tmp.npy'\n",
    "    output_path = f'exps/exp{idx}'\n",
    "    y_path = 'y_tmp.npy'\n",
    "\n",
    "\n",
    "    exps = []\n",
    "    for f in os.listdir(output_path):\n",
    "        if os.path.isfile(os.path.join(output_path,f)) and not f.startswith('X') and not f.startswith('y') and not f.startswith('bg'):\n",
    "            tmp = np.load(os.path.join(output_path,f))\n",
    "            exps.append(tmp)\n",
    "\n",
    "    sentence = text_train[idx]\n",
    "    print('Input:',sentence)\n",
    "    print('Class:',y_true)\n",
    "    for jj,exs in enumerate(exps):\n",
    "        print('Experiment #'+str(jj))\n",
    "        fig, axs = plt.subplots(1,2)\n",
    "        fig.set_size_inches(12,3)\n",
    "        for i in range(2):\n",
    "            ex = exs[i].reshape(50)\n",
    "            print_exp(ex,text_train[idx],axs[i])\n",
    "        plt.show()\n",
    "            \n",
    "    print()\n",
    "    print('------------------------------------------------------------------')\n",
    "    print()"
   ]
  }
 ],
 "metadata": {
  "kernelspec": {
   "display_name": "Python 3",
   "language": "python",
   "name": "python3"
  },
  "language_info": {
   "codemirror_mode": {
    "name": "ipython",
    "version": 3
   },
   "file_extension": ".py",
   "mimetype": "text/x-python",
   "name": "python",
   "nbconvert_exporter": "python",
   "pygments_lexer": "ipython3",
   "version": "3.6.9"
  }
 },
 "nbformat": 4,
 "nbformat_minor": 5
}
